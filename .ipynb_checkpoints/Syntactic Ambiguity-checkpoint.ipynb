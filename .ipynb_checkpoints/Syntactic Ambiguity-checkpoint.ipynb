{
 "cells": [
  {
   "cell_type": "code",
   "execution_count": 1,
   "id": "9fb8b37c",
   "metadata": {},
   "outputs": [],
   "source": [
    "import os\n",
    "import openai"
   ]
  },
  {
   "cell_type": "code",
   "execution_count": 2,
   "id": "2d40ae3d",
   "metadata": {},
   "outputs": [],
   "source": [
    "import tiktoken"
   ]
  },
  {
   "cell_type": "code",
   "execution_count": 3,
   "id": "dbe84d8f",
   "metadata": {},
   "outputs": [],
   "source": [
    "from dotenv import load_dotenv, find_dotenv\n",
    "_ = load_dotenv(find_dotenv())\n",
    "\n",
    "open.api_key = os.environ['OPENAI_API_KEY']"
   ]
  },
  {
   "cell_type": "code",
   "execution_count": 84,
   "id": "be90761f",
   "metadata": {
    "scrolled": true
   },
   "outputs": [
    {
     "name": "stdout",
     "output_type": "stream",
     "text": [
      "No Cue Prompt:The employees knew the contract \n",
      "\n",
      "Generated Text:inside and out, as they had spent hours reviewing it and discussing its terms with their legal team\n",
      "\n",
      "No Cue Prompt:The mechanic accepted the car \n",
      "\n",
      "Generated Text:and began inspecting it for any issues\n",
      "\n",
      "No Cue Prompt:The old man recalled the nurse\n",
      "\n",
      "Generated Text: who had cared for him during his stay in the hospital\n",
      "\n",
      "No Cue Prompt:The traveller heard the clock \n",
      "\n",
      "Generated Text:ticking in the distance, its steady rhythm echoing through the empty streets\n",
      "\n",
      "No Cue Prompt:The worker maintained the walls \n",
      "\n",
      "Generated Text:by regularly inspecting for cracks or damage, patching up any holes or weak spots, and repainting or sealing as needed\n",
      "\n",
      "No Cue Prompt:The apprentice forgot the bicycle \n",
      "\n",
      "Generated Text:at the store where he had borrowed it for a delivery\n",
      "\n",
      "No Cue Prompt:The committee mentioned the issue \n",
      "\n",
      "Generated Text:of budget constraints during the meeting\n",
      "\n",
      "No Cue Prompt:The army found the supplies \n",
      "\n",
      "Generated Text:hidden in a cave deep in the forest\n",
      "\n",
      "No Cue Prompt:The umpire warned the spectators \n",
      "\n",
      "Generated Text:to refrain from making any derogatory remarks or comments towards the players on the field\n",
      "\n",
      "No Cue Prompt:The coach discovered the player\n",
      "\n",
      "Generated Text: had a natural talent for the sport and decided to give them more playing time on the team\n",
      "\n",
      "No Cue Prompt:The woman noticed the flyer\n",
      "\n",
      "Generated Text: taped to the lamppost as she walked down the street\n",
      "\n",
      "No Cue Prompt:The tourists saw the palace \n",
      "\n",
      "Generated Text:in all its grandeur, with its towering walls and intricate carvings\n",
      "\n",
      "No Cue Prompt:The scientists proved the theory\n",
      "\n",
      "Generated Text: through a series of experiments and observations that provided concrete evidence supporting their hypothesis\n",
      "\n",
      "No Cue Prompt:The soldiers remembered the town \n",
      "\n",
      "Generated Text:they had passed through months before\n",
      "\n",
      "No Cue Prompt:The priest recognized two guests \n",
      "\n",
      "Generated Text:who had just entered the church\n",
      "\n",
      "No Cue Prompt:The reporter revealed the politician \n",
      "\n",
      "Generated Text:had been involved in a corruption scandal\n",
      "\n",
      "No Cue Prompt:The owners insured the house \n",
      "\n",
      "Generated Text:against fire, theft, and other potential damages\n",
      "\n",
      "No Cue Prompt:The lawyer established the alibi \n",
      "\n",
      "Generated Text:for his client by presenting evidence that showed he was out of town at the time of the crime\n",
      "\n",
      "No Cue Prompt:The store guaranteed the television \n",
      "\n",
      "Generated Text: for one year from the date of purchase\n",
      "\n",
      "No Cue Prompt:The chef tasted the sauce \n",
      "\n",
      "Generated Text:and immediately knew it needed more salt\n",
      "\n",
      "No Cue Prompt:The student borrowed the book \n",
      "\n",
      "Generated Text:from the library\n",
      "\n",
      "No Cue Prompt:The artist painted the canvas \n",
      "\n",
      "Generated Text:with bold, vibrant colors that seemed to jump off the surface\n",
      "\n",
      "No Cue Prompt:The pilot checked the altitude\n",
      "\n",
      "Generated Text: and confirmed that the plane was flying at the proper height\n",
      "\n",
      "No Cue Prompt:The musician tuned the instrument \n",
      "\n",
      "Generated Text:before starting to play\n",
      "\n",
      "No Cue Prompt:The gardener trimmed the bushes \n",
      "\n",
      "Generated Text:in the front yard to give them a more neat and tidy appearance\n",
      "\n",
      "No Cue Prompt:The parent packed the lunch \n",
      "\n",
      "Generated Text:for their child before school\n",
      "\n",
      "No Cue Prompt:The cashier counted the money \n",
      "\n",
      "Generated Text:in the cash register at the end of her shift\n",
      "\n",
      "No Cue Prompt:The programmer debugged the code \n",
      "\n",
      "Generated Text:by identifying and fixing errors in the code that were causing it to not work as intended\n",
      "\n",
      "No Cue Prompt:The captain navigated the ship\n",
      "\n",
      "Generated Text: through the treacherous waters, using his skill and expertise to guide the vessel safely to its destination\n",
      "\n",
      "No Cue Prompt:The tailor hemmed the pants \n",
      "\n",
      "Generated Text:to the perfect length, making sure they fit the customer just right\n",
      "\n",
      "No Cue Prompt:The librarian cataloged the books \n",
      "\n",
      "Generated Text:in the library's database, organizing them by author, title, genre, and publication date\n",
      "\n",
      "No Cue Prompt:The firefighter extinguished the flames\n",
      "\n",
      "Generated Text: with a powerful blast of water from the fire hose\n",
      "\n",
      "No Cue Prompt:The counselor listened to the problem\n",
      "\n",
      "Generated Text: carefully, nodding along as the person spoke\n",
      "\n",
      "No Cue Prompt:The supervisor evaluated the performance \n",
      "\n",
      "Generated Text:of the team members based on their productivity, quality of work, and ability to meet deadlines\n",
      "\n",
      "No Cue Prompt:The conductor directed the orchestra\n",
      "\n",
      "Generated Text: with precise hand gestures and confident movements, guiding each section of musicians to play in perfect harmony\n",
      "\n",
      "No Cue Prompt:The pharmacist dispensed the medication\n",
      "\n",
      "Generated Text:The pharmacist prepared and provided the medication as prescribed by the doctor\n",
      "\n",
      "No Cue Prompt:The farmer harvested the crops \n",
      "\n",
      "Generated Text:from his fields and brought them to the market to sell\n",
      "\n",
      "No Cue Prompt:The carpenter crafted the furniture\n",
      "Generated Text: with precision and care, using his skills to shape the wood into beautiful pieces of functional art\n",
      "\n"
     ]
    }
   ],
   "source": [
    "def complete_prompt(prompt, model=\"gpt-3.5-turbo\"):\n",
    "    messages = [{\"role\": \"user\", \"content\": prompt}]\n",
    "    response = openai.chat.completions.create(\n",
    "        model=model,\n",
    "        messages=messages,\n",
    "        temperature=0.6,\n",
    "        max_tokens=60,\n",
    "        stop=[\".\"],\n",
    "    )\n",
    "    return response.choices[0].message.content\n",
    "\n",
    "with open(\"no_cue_prompts.txt\") as prompts_file:\n",
    "    prompts = prompts_file.readlines()\n",
    "    complete_sentences = []\n",
    "        \n",
    "    for prompt in prompts: \n",
    "        generated_text = complete_prompt(prompt)\n",
    "        complete_sentences.append(prompt + generated_text)\n",
    "        print(f\"No Cue Prompt:{prompt}\")\n",
    "        print(f\"Generated Text:{generated_text}\\n\")"
   ]
  },
  {
   "cell_type": "code",
   "execution_count": 85,
   "id": "04e8efe1",
   "metadata": {
    "scrolled": true
   },
   "outputs": [
    {
     "data": {
      "text/plain": [
       "['The employees knew the contract inside and out, as they had spent hours reviewing it and discussing its terms with their legal team',\n",
       " 'The mechanic accepted the car and began inspecting it for any issues',\n",
       " 'The old man recalled the nurse who had cared for him during his stay in the hospital',\n",
       " 'The traveller heard the clock ticking in the distance, its steady rhythm echoing through the empty streets',\n",
       " 'The worker maintained the walls by regularly inspecting for cracks or damage, patching up any holes or weak spots, and repainting or sealing as needed',\n",
       " 'The apprentice forgot the bicycle at the store where he had borrowed it for a delivery',\n",
       " 'The committee mentioned the issue of budget constraints during the meeting',\n",
       " 'The army found the supplies hidden in a cave deep in the forest',\n",
       " 'The umpire warned the spectators to refrain from making any derogatory remarks or comments towards the players on the field',\n",
       " 'The coach discovered the player had a natural talent for the sport and decided to give them more playing time on the team',\n",
       " 'The woman noticed the flyer taped to the lamppost as she walked down the street',\n",
       " 'The tourists saw the palace in all its grandeur, with its towering walls and intricate carvings',\n",
       " 'The scientists proved the theory through a series of experiments and observations that provided concrete evidence supporting their hypothesis',\n",
       " 'The soldiers remembered the town they had passed through months before',\n",
       " 'The priest recognized two guests who had just entered the church',\n",
       " 'The reporter revealed the politician had been involved in a corruption scandal',\n",
       " 'The owners insured the house against fire, theft, and other potential damages',\n",
       " 'The lawyer established the alibi for his client by presenting evidence that showed he was out of town at the time of the crime',\n",
       " 'The store guaranteed the television  for one year from the date of purchase',\n",
       " 'The chef tasted the sauce and immediately knew it needed more salt',\n",
       " 'The student borrowed the book from the library',\n",
       " 'The artist painted the canvas with bold, vibrant colors that seemed to jump off the surface',\n",
       " 'The pilot checked the altitude and confirmed that the plane was flying at the proper height',\n",
       " 'The musician tuned the instrument before starting to play',\n",
       " 'The gardener trimmed the bushes in the front yard to give them a more neat and tidy appearance',\n",
       " 'The parent packed the lunch for their child before school',\n",
       " 'The cashier counted the money in the cash register at the end of her shift',\n",
       " 'The programmer debugged the code by identifying and fixing errors in the code that were causing it to not work as intended',\n",
       " 'The captain navigated the ship through the treacherous waters, using his skill and expertise to guide the vessel safely to its destination',\n",
       " 'The tailor hemmed the pants to the perfect length, making sure they fit the customer just right',\n",
       " \"The librarian cataloged the books in the library's database, organizing them by author, title, genre, and publication date\",\n",
       " 'The firefighter extinguished the flames with a powerful blast of water from the fire hose',\n",
       " 'The counselor listened to the problem carefully, nodding along as the person spoke',\n",
       " 'The supervisor evaluated the performance of the team members based on their productivity, quality of work, and ability to meet deadlines',\n",
       " 'The conductor directed the orchestra with precise hand gestures and confident movements, guiding each section of musicians to play in perfect harmony',\n",
       " 'The pharmacist dispensed the medicationThe pharmacist prepared and provided the medication as prescribed by the doctor',\n",
       " 'The farmer harvested the crops from his fields and brought them to the market to sell',\n",
       " 'The carpenter crafted the furniture with precision and care, using his skills to shape the wood into beautiful pieces of functional art']"
      ]
     },
     "execution_count": 85,
     "metadata": {},
     "output_type": "execute_result"
    }
   ],
   "source": [
    "cleaned_sentences = [sentence.replace('\\n', '') for sentence in complete_sentences]\n",
    "cleaned_sentences"
   ]
  },
  {
   "cell_type": "code",
   "execution_count": 86,
   "id": "e353f3f4",
   "metadata": {},
   "outputs": [],
   "source": [
    "def categorize_sentences(messages,\n",
    "                model=\"gpt-3.5-turbo\",\n",
    "                temperature=0,\n",
    "                max_tokens=3000):\n",
    "    response = openai.chat.completions.create(\n",
    "        model=model,\n",
    "        messages=messages,\n",
    "        temperature=temperature,\n",
    "        max_tokens=max_tokens,\n",
    "    )\n",
    "    return response.choices[0].message.content"
   ]
  },
  {
   "cell_type": "code",
   "execution_count": 87,
   "id": "359bd3c6",
   "metadata": {},
   "outputs": [],
   "source": [
    "sentences = ',\\n'.join([\n",
    "    f'{{\"sentence\": \"{sentence}\", \"is_NP\": true/false, \"is_S\": true/false}}'\n",
    "    for sentence in cleaned_sentences\n",
    "])\n",
    "\n",
    "system_message = \"\"\"\n",
    "You will be provided with a list of sentences.\n",
    "For each sentence, classify whether it is a noun phrase (NP) or a sentential complement (S).\n",
    "NP acts as the direct object of the main verb, while S acts as the embedded subject in an upcoming subordinate clause.\n",
    "Provide the output in JSON format with the following structure:\n",
    "\n",
    "{\n",
    "    \"sentences\": [\n",
    "        \"\"\" + sentences + \"\"\"\n",
    "    ]\n",
    "}\n",
    "\"\"\"\n",
    "\n",
    "messages = [\n",
    "    {'role': 'system', 'content': system_message}\n",
    "]\n",
    "\n",
    "response = categorize_sentences(messages)\n",
    "with open(\"output.json\", \"w\") as file:\n",
    "    file.write(response)"
   ]
  },
  {
   "cell_type": "code",
   "execution_count": 88,
   "id": "4e516392",
   "metadata": {
    "scrolled": true
   },
   "outputs": [
    {
     "name": "stdout",
     "output_type": "stream",
     "text": [
      "{\n",
      "    \"sentences\": [\n",
      "        {\"sentence\": \"The employees knew the contract inside and out, as they had spent hours reviewing it and discussing its terms with their legal team\", \"is_NP\": false, \"is_S\": true},\n",
      "        {\"sentence\": \"The mechanic accepted the car and began inspecting it for any issues\", \"is_NP\": true, \"is_S\": false},\n",
      "        {\"sentence\": \"The old man recalled the nurse who had cared for him during his stay in the hospital\", \"is_NP\": true, \"is_S\": false},\n",
      "        {\"sentence\": \"The traveller heard the clock ticking in the distance, its steady rhythm echoing through the empty streets\", \"is_NP\": false, \"is_S\": true},\n",
      "        {\"sentence\": \"The worker maintained the walls by regularly inspecting for cracks or damage, patching up any holes or weak spots, and repainting or sealing as needed\", \"is_NP\": true, \"is_S\": false},\n",
      "        {\"sentence\": \"The apprentice forgot the bicycle at the store where he had borrowed it for a delivery\", \"is_NP\": true, \"is_S\": false},\n",
      "        {\"sentence\": \"The committee mentioned the issue of budget constraints during the meeting\", \"is_NP\": true, \"is_S\": false},\n",
      "        {\"sentence\": \"The army found the supplies hidden in a cave deep in the forest\", \"is_NP\": true, \"is_S\": false},\n",
      "        {\"sentence\": \"The umpire warned the spectators to refrain from making any derogatory remarks or comments towards the players on the field\", \"is_NP\": true, \"is_S\": false},\n",
      "        {\"sentence\": \"The coach discovered the player had a natural talent for the sport and decided to give them more playing time on the team\", \"is_NP\": false, \"is_S\": true},\n",
      "        {\"sentence\": \"The woman noticed the flyer taped to the lamppost as she walked down the street\", \"is_NP\": true, \"is_S\": false},\n",
      "        {\"sentence\": \"The tourists saw the palace in all its grandeur, with its towering walls and intricate carvings\", \"is_NP\": true, \"is_S\": false},\n",
      "        {\"sentence\": \"The scientists proved the theory through a series of experiments and observations that provided concrete evidence supporting their hypothesis\", \"is_NP\": false, \"is_S\": true},\n",
      "        {\"sentence\": \"The soldiers remembered the town they had passed through months before\", \"is_NP\": true, \"is_S\": false},\n",
      "        {\"sentence\": \"The priest recognized two guests who had just entered the church\", \"is_NP\": true, \"is_S\": false},\n",
      "        {\"sentence\": \"The reporter revealed the politician had been involved in a corruption scandal\", \"is_NP\": false, \"is_S\": true},\n",
      "        {\"sentence\": \"The owners insured the house against fire, theft, and other potential damages\", \"is_NP\": true, \"is_S\": false},\n",
      "        {\"sentence\": \"The lawyer established the alibi for his client by presenting evidence that showed he was out of town at the time of the crime\", \"is_NP\": false, \"is_S\": true},\n",
      "        {\"sentence\": \"The store guaranteed the television  for one year from the date of purchase\", \"is_NP\": true, \"is_S\": false},\n",
      "        {\"sentence\": \"The chef tasted the sauce and immediately knew it needed more salt\", \"is_NP\": true, \"is_S\": false},\n",
      "        {\"sentence\": \"The student borrowed the book from the library\", \"is_NP\": true, \"is_S\": false},\n",
      "        {\"sentence\": \"The artist painted the canvas with bold, vibrant colors that seemed to jump off the surface\", \"is_NP\": true, \"is_S\": false},\n",
      "        {\"sentence\": \"The pilot checked the altitude and confirmed that the plane was flying at the proper height\", \"is_NP\": true, \"is_S\": false},\n",
      "        {\"sentence\": \"The musician tuned the instrument before starting to play\", \"is_NP\": true, \"is_S\": false},\n",
      "        {\"sentence\": \"The gardener trimmed the bushes in the front yard to give them a more neat and tidy appearance\", \"is_NP\": true, \"is_S\": false},\n",
      "        {\"sentence\": \"The parent packed the lunch for their child before school\", \"is_NP\": true, \"is_S\": false},\n",
      "        {\"sentence\": \"The cashier counted the money in the cash register at the end of her shift\", \"is_NP\": true, \"is_S\": false},\n",
      "        {\"sentence\": \"The programmer debugged the code by identifying and fixing errors in the code that were causing it to not work as intended\", \"is_NP\": false, \"is_S\": true},\n",
      "        {\"sentence\": \"The captain navigated the ship through the treacherous waters, using his skill and expertise to guide the vessel safely to its destination\", \"is_NP\": false, \"is_S\": true},\n",
      "        {\"sentence\": \"The tailor hemmed the pants to the perfect length, making sure they fit the customer just right\", \"is_NP\": true, \"is_S\": false},\n",
      "        {\"sentence\": \"The librarian cataloged the books in the library's database, organizing them by author, title, genre, and publication date\", \"is_NP\": true, \"is_S\": false},\n",
      "        {\"sentence\": \"The firefighter extinguished the flames with a powerful blast of water from the fire hose\", \"is_NP\": true, \"is_S\": false},\n",
      "        {\"sentence\": \"The counselor listened to the problem carefully, nodding along as the person spoke\", \"is_NP\": true, \"is_S\": false},\n",
      "        {\"sentence\": \"The supervisor evaluated the performance of the team members based on their productivity, quality of work, and ability to meet deadlines\", \"is_NP\": true, \"is_S\": false},\n",
      "        {\"sentence\": \"The conductor directed the orchestra with precise hand gestures and confident movements, guiding each section of musicians to play in perfect harmony\", \"is_NP\": true, \"is_S\": false},\n",
      "        {\"sentence\": \"The pharmacist dispensed the medicationThe pharmacist prepared and provided the medication as prescribed by the doctor\", \"is_NP\": false, \"is_S\": true},\n",
      "        {\"sentence\": \"The farmer harvested the crops from his fields and brought them to the market to sell\", \"is_NP\": true, \"is_S\": false},\n",
      "        {\"sentence\": \"The carpenter crafted the furniture with precision and care, using his skills to shape the wood into beautiful pieces of functional art\", \"is_NP\": true, \"is_S\": false}\n",
      "    ]\n",
      "}\n"
     ]
    }
   ],
   "source": [
    "print(response)"
   ]
  },
  {
   "cell_type": "code",
   "execution_count": 89,
   "id": "6e3be16e",
   "metadata": {},
   "outputs": [],
   "source": [
    "import json\n",
    "\n",
    "with open(\"output.json\") as chatGPT_sentences:    \n",
    "    data = json.load(chatGPT_sentences)\n",
    "    \n",
    "    with open('np_chatGPT.txt', 'w') as f: \n",
    "        for sentence in data['sentences']:\n",
    "            is_NP = sentence['is_NP']\n",
    "            if is_NP:\n",
    "                sentences = sentence['sentence'] \n",
    "                f.write(\"%s\\n\" % sentences)\n",
    "                \n",
    "    with open('s_chatGPT.txt', 'w') as f: \n",
    "        for sentence in data['sentences']:\n",
    "            is_S = sentence['is_S']\n",
    "            if is_S:\n",
    "                sentences = sentence['sentence'] \n",
    "                f.write(\"%s\\n\" % sentences)"
   ]
  },
  {
   "cell_type": "code",
   "execution_count": 90,
   "id": "a98324a3",
   "metadata": {},
   "outputs": [],
   "source": [
    "import nltk\n",
    "from nltk import FreqDist\n",
    "from nltk.tokenize import word_tokenize\n",
    "import re"
   ]
  },
  {
   "cell_type": "code",
   "execution_count": 91,
   "id": "2fddf51f",
   "metadata": {},
   "outputs": [],
   "source": [
    "with open (\"np_chatGPT.txt\") as np_sentences, open (\"s_chatGPT.txt\") as s_sentences:\n",
    "    np_sentences = np_sentences.read().lower()\n",
    "    s_sentences = s_sentences.read().lower()\n",
    "    \n",
    "    np_tokens = nltk.word_tokenize(np_sentences)\n",
    "    fdist_np = FreqDist(np_tokens)\n",
    "    re_pattern = r'\\w+'\n",
    "    np_clean = []\n",
    "    \n",
    "    s_tokens = nltk.word_tokenize(s_sentences)\n",
    "    fdist_s = FreqDist(s_tokens)\n",
    "    re_pattern = r'\\w+'\n",
    "    s_clean = []\n",
    "    \n",
    "    for word in np_tokens:\n",
    "        if re.match(re_pattern, word):\n",
    "            np_clean.append(word)\n",
    "            \n",
    "    for word in s_tokens:\n",
    "        if re.match(re_pattern, word):\n",
    "            s_clean.append(word)"
   ]
  },
  {
   "cell_type": "code",
   "execution_count": 92,
   "id": "231a0f61",
   "metadata": {
    "scrolled": true
   },
   "outputs": [
    {
     "name": "stdout",
     "output_type": "stream",
     "text": [
      "['the', 'mechanic', 'accepted', 'the', 'car', 'and', 'began', 'inspecting', 'it', 'for', 'any', 'issues', 'the', 'old', 'man', 'recalled', 'the', 'nurse', 'who', 'had', 'cared', 'for', 'him', 'during', 'his', 'stay', 'in', 'the', 'hospital', 'the', 'worker', 'maintained', 'the', 'walls', 'by', 'regularly', 'inspecting', 'for', 'cracks', 'or', 'damage', 'patching', 'up', 'any', 'holes', 'or', 'weak', 'spots', 'and', 'repainting', 'or', 'sealing', 'as', 'needed', 'the', 'apprentice', 'forgot', 'the', 'bicycle', 'at', 'the', 'store', 'where', 'he', 'had', 'borrowed', 'it', 'for', 'a', 'delivery', 'the', 'committee', 'mentioned', 'the', 'issue', 'of', 'budget', 'constraints', 'during', 'the', 'meeting', 'the', 'army', 'found', 'the', 'supplies', 'hidden', 'in', 'a', 'cave', 'deep', 'in', 'the', 'forest', 'the', 'umpire', 'warned', 'the', 'spectators', 'to', 'refrain', 'from', 'making', 'any', 'derogatory', 'remarks', 'or', 'comments', 'towards', 'the', 'players', 'on', 'the', 'field', 'the', 'woman', 'noticed', 'the', 'flyer', 'taped', 'to', 'the', 'lamppost', 'as', 'she', 'walked', 'down', 'the', 'street', 'the', 'tourists', 'saw', 'the', 'palace', 'in', 'all', 'its', 'grandeur', 'with', 'its', 'towering', 'walls', 'and', 'intricate', 'carvings', 'the', 'soldiers', 'remembered', 'the', 'town', 'they', 'had', 'passed', 'through', 'months', 'before', 'the', 'priest', 'recognized', 'two', 'guests', 'who', 'had', 'just', 'entered', 'the', 'church', 'the', 'owners', 'insured', 'the', 'house', 'against', 'fire', 'theft', 'and', 'other', 'potential', 'damages', 'the', 'store', 'guaranteed', 'the', 'television', 'for', 'one', 'year', 'from', 'the', 'date', 'of', 'purchase', 'the', 'chef', 'tasted', 'the', 'sauce', 'and', 'immediately', 'knew', 'it', 'needed', 'more', 'salt', 'the', 'student', 'borrowed', 'the', 'book', 'from', 'the', 'library', 'the', 'artist', 'painted', 'the', 'canvas', 'with', 'bold', 'vibrant', 'colors', 'that', 'seemed', 'to', 'jump', 'off', 'the', 'surface', 'the', 'pilot', 'checked', 'the', 'altitude', 'and', 'confirmed', 'that', 'the', 'plane', 'was', 'flying', 'at', 'the', 'proper', 'height', 'the', 'musician', 'tuned', 'the', 'instrument', 'before', 'starting', 'to', 'play', 'the', 'gardener', 'trimmed', 'the', 'bushes', 'in', 'the', 'front', 'yard', 'to', 'give', 'them', 'a', 'more', 'neat', 'and', 'tidy', 'appearance', 'the', 'parent', 'packed', 'the', 'lunch', 'for', 'their', 'child', 'before', 'school', 'the', 'cashier', 'counted', 'the', 'money', 'in', 'the', 'cash', 'register', 'at', 'the', 'end', 'of', 'her', 'shift', 'the', 'tailor', 'hemmed', 'the', 'pants', 'to', 'the', 'perfect', 'length', 'making', 'sure', 'they', 'fit', 'the', 'customer', 'just', 'right', 'the', 'librarian', 'cataloged', 'the', 'books', 'in', 'the', 'library', 'database', 'organizing', 'them', 'by', 'author', 'title', 'genre', 'and', 'publication', 'date', 'the', 'firefighter', 'extinguished', 'the', 'flames', 'with', 'a', 'powerful', 'blast', 'of', 'water', 'from', 'the', 'fire', 'hose', 'the', 'counselor', 'listened', 'to', 'the', 'problem', 'carefully', 'nodding', 'along', 'as', 'the', 'person', 'spoke', 'the', 'supervisor', 'evaluated', 'the', 'performance', 'of', 'the', 'team', 'members', 'based', 'on', 'their', 'productivity', 'quality', 'of', 'work', 'and', 'ability', 'to', 'meet', 'deadlines', 'the', 'conductor', 'directed', 'the', 'orchestra', 'with', 'precise', 'hand', 'gestures', 'and', 'confident', 'movements', 'guiding', 'each', 'section', 'of', 'musicians', 'to', 'play', 'in', 'perfect', 'harmony', 'the', 'farmer', 'harvested', 'the', 'crops', 'from', 'his', 'fields', 'and', 'brought', 'them', 'to', 'the', 'market', 'to', 'sell', 'the', 'carpenter', 'crafted', 'the', 'furniture', 'with', 'precision', 'and', 'care', 'using', 'his', 'skills', 'to', 'shape', 'the', 'wood', 'into', 'beautiful', 'pieces', 'of', 'functional', 'art']\n"
     ]
    }
   ],
   "source": [
    "print(np_clean)"
   ]
  },
  {
   "cell_type": "code",
   "execution_count": 93,
   "id": "f9296206",
   "metadata": {},
   "outputs": [
    {
     "name": "stdout",
     "output_type": "stream",
     "text": [
      "440\n"
     ]
    }
   ],
   "source": [
    "print(len(np_clean))"
   ]
  },
  {
   "cell_type": "code",
   "execution_count": 94,
   "id": "54c3f3ac",
   "metadata": {
    "scrolled": false
   },
   "outputs": [
    {
     "name": "stdout",
     "output_type": "stream",
     "text": [
      "['the', 'employees', 'knew', 'the', 'contract', 'inside', 'and', 'out', 'as', 'they', 'had', 'spent', 'hours', 'reviewing', 'it', 'and', 'discussing', 'its', 'terms', 'with', 'their', 'legal', 'team', 'the', 'traveller', 'heard', 'the', 'clock', 'ticking', 'in', 'the', 'distance', 'its', 'steady', 'rhythm', 'echoing', 'through', 'the', 'empty', 'streets', 'the', 'coach', 'discovered', 'the', 'player', 'had', 'a', 'natural', 'talent', 'for', 'the', 'sport', 'and', 'decided', 'to', 'give', 'them', 'more', 'playing', 'time', 'on', 'the', 'team', 'the', 'scientists', 'proved', 'the', 'theory', 'through', 'a', 'series', 'of', 'experiments', 'and', 'observations', 'that', 'provided', 'concrete', 'evidence', 'supporting', 'their', 'hypothesis', 'the', 'reporter', 'revealed', 'the', 'politician', 'had', 'been', 'involved', 'in', 'a', 'corruption', 'scandal', 'the', 'lawyer', 'established', 'the', 'alibi', 'for', 'his', 'client', 'by', 'presenting', 'evidence', 'that', 'showed', 'he', 'was', 'out', 'of', 'town', 'at', 'the', 'time', 'of', 'the', 'crime', 'the', 'programmer', 'debugged', 'the', 'code', 'by', 'identifying', 'and', 'fixing', 'errors', 'in', 'the', 'code', 'that', 'were', 'causing', 'it', 'to', 'not', 'work', 'as', 'intended', 'the', 'captain', 'navigated', 'the', 'ship', 'through', 'the', 'treacherous', 'waters', 'using', 'his', 'skill', 'and', 'expertise', 'to', 'guide', 'the', 'vessel', 'safely', 'to', 'its', 'destination', 'the', 'pharmacist', 'dispensed', 'the', 'medicationthe', 'pharmacist', 'prepared', 'and', 'provided', 'the', 'medication', 'as', 'prescribed', 'by', 'the', 'doctor']\n"
     ]
    }
   ],
   "source": [
    "print(s_clean)"
   ]
  },
  {
   "cell_type": "code",
   "execution_count": 95,
   "id": "41402e6d",
   "metadata": {},
   "outputs": [
    {
     "name": "stdout",
     "output_type": "stream",
     "text": [
      "178\n"
     ]
    }
   ],
   "source": [
    "print(len(s_clean))"
   ]
  },
  {
   "cell_type": "code",
   "execution_count": 96,
   "id": "89add7dd",
   "metadata": {},
   "outputs": [
    {
     "data": {
      "text/plain": [
       "[('the', 82),\n",
       " ('and', 12),\n",
       " ('to', 12),\n",
       " ('in', 8),\n",
       " ('of', 8),\n",
       " ('for', 6),\n",
       " ('from', 5),\n",
       " ('with', 5),\n",
       " ('had', 4),\n",
       " ('or', 4)]"
      ]
     },
     "execution_count": 96,
     "metadata": {},
     "output_type": "execute_result"
    }
   ],
   "source": [
    "fdist_np = FreqDist(np_clean)\n",
    "fdist_np.most_common(10)"
   ]
  },
  {
   "cell_type": "code",
   "execution_count": 97,
   "id": "5745ca13",
   "metadata": {},
   "outputs": [
    {
     "data": {
      "text/plain": [
       "[('the', 29),\n",
       " ('and', 7),\n",
       " ('to', 4),\n",
       " ('as', 3),\n",
       " ('had', 3),\n",
       " ('its', 3),\n",
       " ('in', 3),\n",
       " ('through', 3),\n",
       " ('a', 3),\n",
       " ('of', 3)]"
      ]
     },
     "execution_count": 97,
     "metadata": {},
     "output_type": "execute_result"
    }
   ],
   "source": [
    "fdist_s = FreqDist(s_clean)\n",
    "fdist_s.most_common(10)"
   ]
  },
  {
   "cell_type": "code",
   "execution_count": 51,
   "id": "ca6c0f03",
   "metadata": {},
   "outputs": [],
   "source": [
    "open.api_key = os.environ['ANTHROPIC_API_KEY']\n",
    "import anthropic"
   ]
  },
  {
   "cell_type": "code",
   "execution_count": 98,
   "id": "1feccf62",
   "metadata": {
    "scrolled": true
   },
   "outputs": [
    {
     "name": "stdout",
     "output_type": "stream",
     "text": [
      "The employees knew the contract was unfair so they organized a walkout to demand better terms\n",
      "The mechanic accepted the car that needed repairs from the customer who had scheduled an appointment last week\n",
      "The old man recalled the nurse who had cared for him so kindly when he was hospitalized last year\n",
      "The traveller heard the clock strike midnight as he entered the old mansion\n",
      "The worker maintained the walls by patching cracks and painting over scratches\n",
      "The apprentice forgot the bicycle when he went into the shop to start working on the car engine\n",
      "The committee mentioned the issue in their report about the project's budget\n",
      "The army found the supplies they needed hidden in the abandoned warehouse\n",
      "The umpire warned the spectators to stop heckling the players or else they would be ejected from the stadium\n",
      "The coach discovered the player had been using performance enhancing drugs and decided to kick him off the team\n",
      "The woman noticed the flyer on the community bulletin board advertising guitar lessons\n",
      "The tourists saw the palace and were impressed by its grandeur and intricate architecture\n",
      "The scientists proved the theory correct through extensive experimentation and data analysis\n",
      "The soldiers remembered the town that had been destroyed in the fierce battle\n",
      "The priest recognized two guests who had attended the church service the previous week\n",
      "The reporter revealed the politician's secret financial dealings with shady corporations\n",
      "The owners insured the house against damage in case of disasters like floods or fires\n",
      "The lawyer established the alibi for his client who claimed he was out of town when the crime was committed\n",
      "The store guaranteed the television would work properly for one year after purchase\n",
      "The chef tasted the sauce to check if it needed more salt before adding it to the pasta dish\n",
      "The student borrowed the book from the library\n",
      "The artist painted the canvas with broad, colorful strokes using oils\n",
      "The pilot checked the altitude gauge to ensure they were flying at the correct height\n",
      "The musician tuned the instrument carefully before the performance\n",
      "The gardener trimmed the bushes because they had become overgrown and unruly\n",
      "The parent packed the lunch for the child to take to school\n",
      "The cashier counted the money carefully before placing it in the register at the end of her shift\n",
      "The programmer debugged the code by going through it line-by-line to find the bugs\n",
      "The captain navigated the ship skillfully through the stormy seas\n",
      "The tailor hemmed the pants to adjust the length\n",
      "The librarian cataloged the books carefully and efficiently before placing them on the shelves\n",
      "The firefighter extinguished the flames with the high-powered hose as smoke poured from the burning building\n",
      "The counselor listened attentively to the problem the client described in order to offer guidance and support\n",
      "The supervisor evaluated the performance of the employees over the past year in order to determine raises and promotions\n",
      "The conductor directed the orchestra as they played a beautiful symphony\n",
      "The pharmacist dispensed the medication to the patient after carefully reviewing the prescription\n",
      "The farmer harvested the crops once they were fully ripe and ready to be collected\n",
      "The carpenter crafted the furniture with great skill and attention to detail\n"
     ]
    }
   ],
   "source": [
    "import time\n",
    "\n",
    "def complete_prompt_anthropic(prompt):\n",
    "    message = anthropic.Anthropic().messages.create(\n",
    "        model=\"claude-2.1\",\n",
    "        temperature=0.6,\n",
    "        max_tokens=80,\n",
    "        stop_sequences=[\".\"],\n",
    "        messages=[\n",
    "            {\"role\": \"user\", \n",
    "             \"content\": f\"Complete the following prompt into a full sentence: {prompt}\"}\n",
    "        ]\n",
    "    )\n",
    "    generated_text = message.content[0].text\n",
    "    if \":\" in generated_text:\n",
    "        return generated_text[generated_text.index(\":\") + 1:].strip()\n",
    "    else:\n",
    "        return generated_text.strip()\n",
    "\n",
    "with open(\"no_cue_prompts.txt\") as prompts_file:\n",
    "    prompts = prompts_file.readlines()   \n",
    "    complete_sentences_anthropic = []\n",
    "    \n",
    "    for prompt in prompts:\n",
    "        complete_sentence = complete_prompt_anthropic(prompt.strip())\n",
    "        complete_sentences_anthropic.append(complete_sentence)\n",
    "        print(complete_sentence)\n",
    "        time.sleep(10)"
   ]
  },
  {
   "cell_type": "code",
   "execution_count": 99,
   "id": "d0f434fc",
   "metadata": {},
   "outputs": [],
   "source": [
    "with open('complete_sentences_anthropic.txt', 'w') as f:\n",
    "    for line in complete_sentences_anthropic:\n",
    "        f.write(\"%s\\n\" % line)"
   ]
  },
  {
   "cell_type": "code",
   "execution_count": 112,
   "id": "e400045b",
   "metadata": {},
   "outputs": [],
   "source": [
    "def categorize_anthropic_sentences():\n",
    "    message = anthropic.Anthropic().messages.create(\n",
    "        model=\"claude-2.1\",\n",
    "        temperature=0,\n",
    "        max_tokens=3000,\n",
    "        stop_sequences=[\".\"],\n",
    "        messages=[\n",
    "            {\"role\": \"user\", \n",
    "             \"content\": system_message}\n",
    "        ]\n",
    "    )\n",
    "    return message.content[0].text\n",
    "\n",
    "with open (\"complete_sentences_anthropic.txt\") as sentences: \n",
    "    sentences = ',\\n'.join([\n",
    "        f'{{\"sentence\": \"{sentence}\", \"is_NP\": true/false, \"is_S\": true/false}}'\n",
    "        for sentence in sentences\n",
    "    ])\n",
    "\n",
    "system_message = \"\"\"\n",
    "You will be provided with a list of sentences.\n",
    "For each sentence, classify whether it is a noun phrase (NP) or a sentential complement (S).\n",
    "NP acts as the direct object of the main verb, while S acts as the embedded subject in an upcoming subordinate clause.\n",
    "Provide the output in JSON format with the following structure:\n",
    "\n",
    "{\n",
    "    \"sentences\": [\n",
    "        \"\"\" + sentences + \"\"\"\n",
    "    ]\n",
    "}\n",
    "\"\"\"\n",
    "\n",
    "response = categorize_anthropic_sentences()\n",
    "with open(\"anthropic_output.json\", \"w\") as file:\n",
    "    file.write(response)"
   ]
  },
  {
   "cell_type": "code",
   "execution_count": 113,
   "id": "a5946a83",
   "metadata": {},
   "outputs": [],
   "source": [
    "with open(\"anthropic_output.json\") as anthropic_sentences:    \n",
    "    data = json.load(anthropic_sentences)\n",
    "    \n",
    "    with open('np_anthropic.txt', 'w') as f: \n",
    "        for sentence in data['sentences']:\n",
    "            is_NP = sentence['is_NP']\n",
    "            if is_NP:\n",
    "                sentences = sentence['sentence'] \n",
    "                f.write(\"%s\\n\" % sentences)\n",
    "                \n",
    "    with open('s_anthropic.txt', 'w') as f: \n",
    "        for sentence in data['sentences']:\n",
    "            is_S = sentence['is_S']\n",
    "            if is_S:\n",
    "                sentences = sentence['sentence'] \n",
    "                f.write(\"%s\\n\" % sentences)"
   ]
  },
  {
   "cell_type": "code",
   "execution_count": 114,
   "id": "1a2fb34b",
   "metadata": {},
   "outputs": [],
   "source": [
    "with open (\"np_anthropic.txt\") as np_sentences, open (\"s_anthropic.txt\") as s_sentences:\n",
    "    anth_np_sentences = np_sentences.read().lower()\n",
    "    anth_s_sentences = s_sentences.read().lower()\n",
    "    \n",
    "    anth_np_tokens = nltk.word_tokenize(anth_np_sentences)\n",
    "    fdist_np_anth = FreqDist(anth_np_tokens)\n",
    "    re_pattern = r'\\w+'\n",
    "    anth_np_clean = []\n",
    "    \n",
    "    anth_s_tokens = nltk.word_tokenize(anth_s_sentences)\n",
    "    fdist_s_anth = FreqDist(anth_s_tokens)\n",
    "    re_pattern = r'\\w+'\n",
    "    anth_s_clean = []\n",
    "    \n",
    "    for word in anth_np_tokens:\n",
    "        if re.match(re_pattern, word):\n",
    "            anth_np_clean.append(word)\n",
    "            \n",
    "    for word in anth_s_tokens:\n",
    "        if re.match(re_pattern, word):\n",
    "            anth_s_clean.append(word)"
   ]
  },
  {
   "cell_type": "code",
   "execution_count": 115,
   "id": "b22224d7",
   "metadata": {},
   "outputs": [
    {
     "name": "stdout",
     "output_type": "stream",
     "text": [
      "489\n"
     ]
    }
   ],
   "source": [
    "print(len(anth_np_clean))"
   ]
  },
  {
   "cell_type": "code",
   "execution_count": 116,
   "id": "1768c14a",
   "metadata": {},
   "outputs": [
    {
     "name": "stdout",
     "output_type": "stream",
     "text": [
      "48\n"
     ]
    }
   ],
   "source": [
    "print(len(anth_s_clean))"
   ]
  },
  {
   "cell_type": "code",
   "execution_count": 117,
   "id": "b925175b",
   "metadata": {},
   "outputs": [
    {
     "data": {
      "text/plain": [
       "[('the', 99),\n",
       " ('to', 15),\n",
       " ('and', 10),\n",
       " ('in', 7),\n",
       " ('they', 6),\n",
       " ('had', 5),\n",
       " ('from', 4),\n",
       " ('who', 4),\n",
       " ('for', 4),\n",
       " ('with', 4)]"
      ]
     },
     "execution_count": 117,
     "metadata": {},
     "output_type": "execute_result"
    }
   ],
   "source": [
    "fdist_np_anth.most_common(10)"
   ]
  },
  {
   "cell_type": "code",
   "execution_count": 118,
   "id": "2b007849",
   "metadata": {},
   "outputs": [
    {
     "data": {
      "text/plain": [
       "[('the', 8),\n",
       " ('to', 2),\n",
       " ('employees', 1),\n",
       " ('knew', 1),\n",
       " ('contract', 1),\n",
       " ('was', 1),\n",
       " ('unfair', 1),\n",
       " ('so', 1),\n",
       " ('they', 1),\n",
       " ('organized', 1)]"
      ]
     },
     "execution_count": 118,
     "metadata": {},
     "output_type": "execute_result"
    }
   ],
   "source": [
    "fdist_s_anth.most_common(10)"
   ]
  },
  {
   "cell_type": "code",
   "execution_count": 119,
   "id": "29722c08",
   "metadata": {},
   "outputs": [],
   "source": [
    "gpt_count_np = 0\n",
    "gpt_count_s = 0\n",
    "\n",
    "with open(\"np_chatGPT.txt\") as chatGPT_np, open(\"s_chatGPT.txt\") as chatGPT_s:\n",
    "    for line in chatGPT_np:\n",
    "        gpt_count_np += 1\n",
    "    for line in chatGPT_s:\n",
    "        gpt_count_s += 1\n",
    "\n",
    "anth_count_np = 0\n",
    "anth_count_s = 0\n",
    "\n",
    "with open(\"np_anthropic.txt\") as anthropic_np, open(\"s_anthropic.txt\") as anthropic_s:\n",
    "    for line in anthropic_np:\n",
    "        anth_count_np += 1 \n",
    "    for line in anthropic_s:\n",
    "        anth_count_s += 1"
   ]
  },
  {
   "cell_type": "code",
   "execution_count": 120,
   "id": "e7592e05",
   "metadata": {},
   "outputs": [
    {
     "data": {
      "image/png": "[encoded data removed]",
      "text/plain": [
       "<Figure size 640x480 with 1 Axes>"
      ]
     },
     "metadata": {},
     "output_type": "display_data"
    }
   ],
   "source": [
    "from matplotlib import pyplot as plt\n",
    "import numpy as np\n",
    "\n",
    "count_np = {\n",
    "    'chatGPT': gpt_count_np,  \n",
    "    'Anthropic': anth_count_np \n",
    "}\n",
    "count_s = {\n",
    "    'chatGPT': gpt_count_s,  \n",
    "    'Anthropic': anth_count_s\n",
    "}\n",
    "\n",
    "LLMs = ['chatGPT', 'Anthropic']\n",
    "\n",
    "width = 0.6\n",
    "fig, ax = plt.subplots()\n",
    "\n",
    "x = np.arange(len(LLMs))\n",
    "\n",
    "bottom_np = np.zeros(len(LLMs))\n",
    "bottom_s = np.zeros(len(LLMs))\n",
    "\n",
    "for i, (LLM, count) in enumerate(count_np.items()):\n",
    "    bars = ax.bar(x[i], count, width, label='{} NP'.format(LLM))\n",
    "    bottom_np[i] += count\n",
    "    ax.bar_label(bars, label_type='center')\n",
    "\n",
    "for i, (LLM, count) in enumerate(count_s.items()):\n",
    "    bars = ax.bar(x[i], count, width, label='{} S'.format(LLM), bottom=bottom_np[i])\n",
    "    bottom_s[i] += count\n",
    "    ax.bar_label(bars, label_type='center')\n",
    "\n",
    "ax.set_ylabel('Counts')\n",
    "ax.set_title('Counts of Noun Phrases and Sentential Complements by LLM')\n",
    "ax.set_xticks(x)\n",
    "ax.set_xticklabels(LLMs)\n",
    "ax.legend(bbox_to_anchor=(1.05, 1), loc='upper left')\n",
    "\n",
    "plt.show()"
   ]
  },
  {
   "cell_type": "code",
   "execution_count": null,
   "id": "a7c9ea32",
   "metadata": {},
   "outputs": [],
   "source": []
  }
 ],
 "metadata": {
  "kernelspec": {
   "display_name": "Python 3 (ipykernel)",
   "language": "python",
   "name": "python3"
  },
  "language_info": {
   "codemirror_mode": {
    "name": "ipython",
    "version": 3
   },
   "file_extension": ".py",
   "mimetype": "text/x-python",
   "name": "python",
   "nbconvert_exporter": "python",
   "pygments_lexer": "ipython3",
   "version": "3.11.5"
  }
 },
 "nbformat": 4,
 "nbformat_minor": 5
}
