{
 "cells": [
  {
   "cell_type": "code",
   "execution_count": 3,
   "id": "9fb8b37c",
   "metadata": {},
   "outputs": [],
   "source": [
    "import os\n",
    "import openai"
   ]
  },
  {
   "cell_type": "code",
   "execution_count": 4,
   "id": "2d40ae3d",
   "metadata": {},
   "outputs": [],
   "source": [
    "import tiktoken"
   ]
  },
  {
   "cell_type": "code",
   "execution_count": 5,
   "id": "dbe84d8f",
   "metadata": {},
   "outputs": [],
   "source": [
    "from dotenv import load_dotenv, find_dotenv\n",
    "_ = load_dotenv(find_dotenv())\n",
    "\n",
    "open.api_key = os.environ['OPENAI_API_KEY']"
   ]
  },
  {
   "cell_type": "code",
   "execution_count": 6,
   "id": "be90761f",
   "metadata": {
    "scrolled": true
   },
   "outputs": [
    {
     "name": "stdout",
     "output_type": "stream",
     "text": [
      "No Cue Prompt:The employees knew the contract \n",
      "\n",
      "Generated Text:inside and out, as they had spent hours reviewing and discussing it during their training sessions\n",
      "\n",
      "No Cue Prompt:The mechanic accepted the car \n",
      "\n",
      "Generated Text:for repair and began diagnosing the issue\n",
      "\n",
      "No Cue Prompt:The old man recalled the nurse\n",
      "\n",
      "Generated Text: who had cared for him during his stay in the hospital\n",
      "\n",
      "No Cue Prompt:The traveller heard the clock \n",
      "\n",
      "Generated Text:ticking in the distance, a constant reminder of the passing time\n",
      "\n",
      "No Cue Prompt:The journalist confirmed the story \n",
      "\n",
      "Generated Text:The journalist verified the accuracy of the story\n",
      "\n",
      "No Cue Prompt:The worker maintained the walls\n",
      "\n",
      "Generated Text: by regularly inspecting for cracks or damage and promptly repairing any issues\n",
      "\n",
      "No Cue Prompt:The apprentice forgot the bicycle \n",
      "\n",
      "Generated Text:he was supposed to deliver to the customer\n",
      "\n",
      "No Cue Prompt:The committee mentioned the issue\n",
      "\n",
      "Generated Text: during their meeting\n",
      "\n",
      "No Cue Prompt:The army found the supplies\n",
      "\n",
      "Generated Text: that had been hidden in a remote cave deep in the forest\n",
      "\n",
      "No Cue Prompt:The umpire warned the spectators\n",
      "\n",
      "Generated Text: to refrain from using offensive language and to respect the players on the field\n",
      "\n",
      "No Cue Prompt:The coach discovered the player\n",
      "\n",
      "Generated Text: had exceptional talent and potential during a tryout session\n",
      "\n",
      "No Cue Prompt:The woman noticed the flyer\n",
      "\n",
      "Generated Text: on the bulletin board as she walked through the park\n",
      "\n",
      "No Cue Prompt:The tourists saw the palace \n",
      "\n",
      "Generated Text:and were amazed by its grandeur and beauty\n",
      "\n",
      "No Cue Prompt:The scientists proved the theory\n",
      "\n",
      "Generated Text: through a series of rigorous experiments and observations\n",
      "\n",
      "No Cue Prompt:The soldiers remembered the town \n",
      "\n",
      "Generated Text:they had passed through months before\n",
      "\n",
      "No Cue Prompt:The priest recognized two guests \n",
      "\n",
      "Generated Text:as members of the congregation and greeted them warmly\n",
      "\n",
      "No Cue Prompt:The reporter revealed the politician \n",
      "\n",
      "Generated Text:The reporter revealed that the politician had been involved in a corruption scandal, accepting bribes in exchange for political favors\n",
      "\n",
      "No Cue Prompt:The owners insured the house\n",
      "\n",
      "Generated Text: against fire, theft, and natural disasters to protect their investment\n",
      "\n",
      "No Cue Prompt:The lawyer established the alibi \n",
      "\n",
      "Generated Text:for his client by presenting evidence and witness testimony that proved the client was not at the scene of the crime at the time it occurred\n",
      "\n",
      "No Cue Prompt:The store guaranteed the television\n",
      "Generated Text: for one year against any defects or malfunctions\n",
      "\n"
     ]
    }
   ],
   "source": [
    "def complete_prompt(prompt, model=\"gpt-3.5-turbo\"):\n",
    "    messages = [{\"role\": \"user\", \"content\": prompt}]\n",
    "    response = openai.chat.completions.create(\n",
    "        model=model,\n",
    "        messages=messages,\n",
    "        temperature=0.5,\n",
    "        max_tokens=60,\n",
    "        stop=[\".\"],\n",
    "    )\n",
    "    return response.choices[0].message.content\n",
    "\n",
    "with open(\"dataset.txt\") as phrases_file, open(\"no_cue_prompts.txt\") as prompts_file:\n",
    "    phrases = phrases_file.readlines()\n",
    "    prompts = prompts_file.readlines()\n",
    "    complete_sentences = []\n",
    "        \n",
    "    for prompt in prompts: \n",
    "        generated_text = complete_prompt(prompt)\n",
    "        complete_sentences.append(prompt + generated_text)\n",
    "        print(f\"No Cue Prompt:{prompt}\")\n",
    "        print(f\"Generated Text:{generated_text}\\n\")"
   ]
  },
  {
   "cell_type": "code",
   "execution_count": 133,
   "id": "a98324a3",
   "metadata": {},
   "outputs": [],
   "source": [
    "import nltk\n",
    "from nltk import FreqDist\n",
    "from nltk.tokenize import word_tokenize\n",
    "import re"
   ]
  },
  {
   "cell_type": "code",
   "execution_count": 156,
   "id": "2fddf51f",
   "metadata": {},
   "outputs": [],
   "source": [
    "with open (\"np.txt\") as np_sentences, open (\"s.txt\") as s_sentences:\n",
    "    np_sentences = np_sentences.read().lower()\n",
    "    s_sentences = s_sentences.read().lower()\n",
    "    \n",
    "    np_tokens = nltk.word_tokenize(np_sentences)\n",
    "    fdist_np = FreqDist(np_tokens)\n",
    "    re_pattern = r'\\w+'\n",
    "    np_clean = []\n",
    "    \n",
    "    s_tokens = nltk.word_tokenize(s_sentences)\n",
    "    fdist_s = FreqDist(s_tokens)\n",
    "    re_pattern = r'\\w+'\n",
    "    s_clean = []\n",
    "    \n",
    "    for word in np_tokens:\n",
    "        if re.match(re_pattern, word):\n",
    "            np_clean.append(word)\n",
    "            \n",
    "    for word in s_tokens:\n",
    "        if re.match(re_pattern, word):\n",
    "            s_clean.append(word)"
   ]
  },
  {
   "cell_type": "code",
   "execution_count": 157,
   "id": "231a0f61",
   "metadata": {},
   "outputs": [
    {
     "name": "stdout",
     "output_type": "stream",
     "text": [
      "['the', 'old', 'man', 'recalled', 'the', 'nurse', 'who', 'had', 'cared', 'for', 'him', 'during', 'his', 'recovery', 'at', 'the', 'hospital', 'the', 'worker', 'maintained', 'the', 'walls', 'by', 'regularly', 'inspecting', 'for', 'cracks', 'or', 'damage', 'patching', 'up', 'any', 'areas', 'that', 'needed', 'repair', 'and', 'repainting', 'or', 'sealing', 'as', 'necessary', 'the', 'apprentice', 'forgot', 'the', 'bicycle', 'at', 'the', 'shop', 'and', 'had', 'to', 'walk', 'home', 'instead', 'the', 'army', 'found', 'the', 'supplies', 'they', 'had', 'been', 'searching', 'for', 'in', 'a', 'hidden', 'bunker', 'deep', 'in', 'the', 'forest', 'the', 'umpire', 'warned', 'the', 'spectators', 'to', 'refrain', 'from', 'using', 'any', 'inappropriate', 'language', 'or', 'behavior', 'during', 'the', 'game', 'the', 'tourists', 'saw', 'the', 'palace', 'and', 'were', 'amazed', 'by', 'its', 'grandeur', 'and', 'beauty', 'the', 'scientists', 'proved', 'the', 'theory', 'through', 'extensive', 'research', 'and', 'experimentation', 'the', 'priest', 'recognized', 'two', 'guests', 'who', 'had', 'been', 'coming', 'to', 'the', 'church', 'for', 'years', 'the', 'reporter', 'exposed', 'the', 'politician', 'involvement', 'in', 'a', 'corruption', 'scandal', 'the', 'owners', 'insured', 'the', 'house', 'against', 'fire', 'theft', 'and', 'other', 'potential', 'damages', 'the', 'lawyer', 'established', 'the', 'alibi', 'for', 'his', 'client', 'by', 'providing', 'evidence', 'and', 'witnesses', 'to', 'prove', 'that', 'the', 'client', 'was', 'elsewhere', 'at', 'the', 'time', 'of', 'the', 'crime', 'the', 'store', 'guaranteed', 'the', 'television', 'for', 'one', 'year', 'against', 'any', 'defects', 'or', 'malfunctions', 'the', 'woman', 'noticed', 'the', 'flyer', 'taped', 'to', 'the', 'lamppost', 'as', 'she', 'walked', 'down', 'the', 'street', 'the', 'coach', 'discovered', 'the', 'player', 'during', 'a', 'local', 'soccer', 'match', 'the', 'journalist', 'verified', 'the', 'accuracy', 'of', 'the', 'story']\n"
     ]
    }
   ],
   "source": [
    "print(np_clean)"
   ]
  },
  {
   "cell_type": "code",
   "execution_count": 158,
   "id": "f9296206",
   "metadata": {},
   "outputs": [
    {
     "name": "stdout",
     "output_type": "stream",
     "text": [
      "222\n"
     ]
    }
   ],
   "source": [
    "print(len(np_clean))"
   ]
  },
  {
   "cell_type": "code",
   "execution_count": 159,
   "id": "54c3f3ac",
   "metadata": {},
   "outputs": [
    {
     "name": "stdout",
     "output_type": "stream",
     "text": [
      "['the', 'employees', 'knew', 'the', 'contract', 'inside', 'and', 'out', 'as', 'they', 'had', 'spent', 'weeks', 'studying', 'and', 'reviewing', 'its', 'contents', 'the', 'mechanic', 'accepted', 'the', 'car', 'into', 'the', 'shop', 'for', 'repairs', 'the', 'traveller', 'heard', 'the', 'clock', 'ticking', 'in', 'the', 'distance', 'its', 'steady', 'rhythm', 'echoing', 'through', 'the', 'empty', 'streets', 'the', 'committee', 'mentioned', 'the', 'issue', 'the', 'committee', 'mentioned', 'the', 'issue', 'of', 'declining', 'attendance', 'at', 'community', 'events', 'and', 'discussed', 'potential', 'strategies', 'to', 'increase', 'participation', 'the', 'soldiers', 'remembered', 'the', 'town', 'they', 'had', 'liberated', 'just', 'a', 'few', 'days', 'before']\n"
     ]
    }
   ],
   "source": [
    "print(s_clean)"
   ]
  },
  {
   "cell_type": "code",
   "execution_count": 160,
   "id": "41402e6d",
   "metadata": {},
   "outputs": [
    {
     "name": "stdout",
     "output_type": "stream",
     "text": [
      "81\n"
     ]
    }
   ],
   "source": [
    "print(len(s_clean))"
   ]
  },
  {
   "cell_type": "code",
   "execution_count": 165,
   "id": "89add7dd",
   "metadata": {},
   "outputs": [
    {
     "data": {
      "text/plain": [
       "[('the', 40),\n",
       " ('and', 7),\n",
       " ('for', 6),\n",
       " ('to', 5),\n",
       " ('had', 4),\n",
       " ('or', 4),\n",
       " ('during', 3),\n",
       " ('at', 3),\n",
       " ('by', 3),\n",
       " ('any', 3)]"
      ]
     },
     "execution_count": 165,
     "metadata": {},
     "output_type": "execute_result"
    }
   ],
   "source": [
    "fdist_np = FreqDist(np_clean)\n",
    "fdist_np.most_common(10)"
   ]
  },
  {
   "cell_type": "code",
   "execution_count": 166,
   "id": "5745ca13",
   "metadata": {},
   "outputs": [
    {
     "data": {
      "text/plain": [
       "[('the', 15),\n",
       " ('and', 3),\n",
       " ('they', 2),\n",
       " ('had', 2),\n",
       " ('its', 2),\n",
       " ('committee', 2),\n",
       " ('mentioned', 2),\n",
       " ('issue', 2),\n",
       " ('employees', 1),\n",
       " ('knew', 1)]"
      ]
     },
     "execution_count": 166,
     "metadata": {},
     "output_type": "execute_result"
    }
   ],
   "source": [
    "fdist_s = FreqDist(s_clean)\n",
    "fdist_s.most_common(10)"
   ]
  },
  {
   "cell_type": "code",
   "execution_count": 7,
   "id": "4138cd66",
   "metadata": {},
   "outputs": [
    {
     "data": {
      "text/plain": [
       "['The employees knew the contract \\ninside and out, as they had spent hours reviewing and discussing it during their training sessions',\n",
       " 'The mechanic accepted the car \\nfor repair and began diagnosing the issue',\n",
       " 'The old man recalled the nurse\\n who had cared for him during his stay in the hospital',\n",
       " 'The traveller heard the clock \\nticking in the distance, a constant reminder of the passing time',\n",
       " 'The journalist confirmed the story \\nThe journalist verified the accuracy of the story',\n",
       " 'The worker maintained the walls\\n by regularly inspecting for cracks or damage and promptly repairing any issues',\n",
       " 'The apprentice forgot the bicycle \\nhe was supposed to deliver to the customer',\n",
       " 'The committee mentioned the issue\\n during their meeting',\n",
       " 'The army found the supplies\\n that had been hidden in a remote cave deep in the forest',\n",
       " 'The umpire warned the spectators\\n to refrain from using offensive language and to respect the players on the field',\n",
       " 'The coach discovered the player\\n had exceptional talent and potential during a tryout session',\n",
       " 'The woman noticed the flyer\\n on the bulletin board as she walked through the park',\n",
       " 'The tourists saw the palace \\nand were amazed by its grandeur and beauty',\n",
       " 'The scientists proved the theory\\n through a series of rigorous experiments and observations',\n",
       " 'The soldiers remembered the town \\nthey had passed through months before',\n",
       " 'The priest recognized two guests \\nas members of the congregation and greeted them warmly',\n",
       " 'The reporter revealed the politician \\nThe reporter revealed that the politician had been involved in a corruption scandal, accepting bribes in exchange for political favors',\n",
       " 'The owners insured the house\\n against fire, theft, and natural disasters to protect their investment',\n",
       " 'The lawyer established the alibi \\nfor his client by presenting evidence and witness testimony that proved the client was not at the scene of the crime at the time it occurred',\n",
       " 'The store guaranteed the television for one year against any defects or malfunctions']"
      ]
     },
     "execution_count": 7,
     "metadata": {},
     "output_type": "execute_result"
    }
   ],
   "source": [
    "complete_sentences"
   ]
  },
  {
   "cell_type": "code",
   "execution_count": 8,
   "id": "04e8efe1",
   "metadata": {},
   "outputs": [
    {
     "data": {
      "text/plain": [
       "['The employees knew the contract inside and out, as they had spent hours reviewing and discussing it during their training sessions',\n",
       " 'The mechanic accepted the car for repair and began diagnosing the issue',\n",
       " 'The old man recalled the nurse who had cared for him during his stay in the hospital',\n",
       " 'The traveller heard the clock ticking in the distance, a constant reminder of the passing time',\n",
       " 'The journalist confirmed the story The journalist verified the accuracy of the story',\n",
       " 'The worker maintained the walls by regularly inspecting for cracks or damage and promptly repairing any issues',\n",
       " 'The apprentice forgot the bicycle he was supposed to deliver to the customer',\n",
       " 'The committee mentioned the issue during their meeting',\n",
       " 'The army found the supplies that had been hidden in a remote cave deep in the forest',\n",
       " 'The umpire warned the spectators to refrain from using offensive language and to respect the players on the field',\n",
       " 'The coach discovered the player had exceptional talent and potential during a tryout session',\n",
       " 'The woman noticed the flyer on the bulletin board as she walked through the park',\n",
       " 'The tourists saw the palace and were amazed by its grandeur and beauty',\n",
       " 'The scientists proved the theory through a series of rigorous experiments and observations',\n",
       " 'The soldiers remembered the town they had passed through months before',\n",
       " 'The priest recognized two guests as members of the congregation and greeted them warmly',\n",
       " 'The reporter revealed the politician The reporter revealed that the politician had been involved in a corruption scandal, accepting bribes in exchange for political favors',\n",
       " 'The owners insured the house against fire, theft, and natural disasters to protect their investment',\n",
       " 'The lawyer established the alibi for his client by presenting evidence and witness testimony that proved the client was not at the scene of the crime at the time it occurred',\n",
       " 'The store guaranteed the television for one year against any defects or malfunctions']"
      ]
     },
     "execution_count": 8,
     "metadata": {},
     "output_type": "execute_result"
    }
   ],
   "source": [
    "cleaned_sentences = [sentence.replace('\\n', '') for sentence in complete_sentences]\n",
    "cleaned_sentences"
   ]
  },
  {
   "cell_type": "code",
   "execution_count": 78,
   "id": "e353f3f4",
   "metadata": {},
   "outputs": [],
   "source": [
    "def categorize_sentences(messages,\n",
    "                model=\"gpt-3.5-turbo\",\n",
    "                temperature=0,\n",
    "                max_tokens=750):\n",
    "    response = openai.chat.completions.create(\n",
    "        model=model,\n",
    "        messages=messages,\n",
    "        temperature=temperature,\n",
    "        max_tokens=max_tokens,\n",
    "    )\n",
    "    return response.choices[0].message.content"
   ]
  },
  {
   "cell_type": "code",
   "execution_count": 79,
   "id": "359bd3c6",
   "metadata": {},
   "outputs": [],
   "source": [
    "sentences = ',\\n'.join([\n",
    "    f'{{\"sentence\": \"{sentence}\", \"is_NP\": true/false, \"is_S\": true/false}}'\n",
    "    for sentence in cleaned_sentences\n",
    "])\n",
    "\n",
    "system_message = \"\"\"\n",
    "You will be provided with a list of sentences.\n",
    "For each sentence, classify whether it is a noun phrase (NP) or a sentential complement (S).\n",
    "NP acts as the direct object of the main verb, while S acts as the embedded subject in an upcoming subordinate clause.\n",
    "Provide the output in JSON format with the following structure:\n",
    "\n",
    "{\n",
    "    \"sentences\": [\n",
    "        \"\"\" + sentences + \"\"\"\n",
    "    ]\n",
    "}\n",
    "\"\"\"\n",
    "\n",
    "messages = [\n",
    "    {'role': 'system', 'content': system_message}\n",
    "]\n",
    "\n",
    "response = categorize_sentences(messages)\n",
    "with open(\"output.json\", \"w\") as file:\n",
    "    file.write(response)"
   ]
  },
  {
   "cell_type": "code",
   "execution_count": 81,
   "id": "4e516392",
   "metadata": {},
   "outputs": [
    {
     "name": "stdout",
     "output_type": "stream",
     "text": [
      "{\n",
      "    \"sentences\": [\n",
      "        {\"sentence\": \"The employees knew the contract inside and out, as they had spent hours reviewing and discussing it during their training sessions\", \"is_NP\": false, \"is_S\": true},\n",
      "        {\"sentence\": \"The mechanic accepted the car for repair and began diagnosing the issue\", \"is_NP\": true, \"is_S\": false},\n",
      "        {\"sentence\": \"The old man recalled the nurse who had cared for him during his stay in the hospital\", \"is_NP\": true, \"is_S\": false},\n",
      "        {\"sentence\": \"The traveller heard the clock ticking in the distance, a constant reminder of the passing time\", \"is_NP\": true, \"is_S\": false},\n",
      "        {\"sentence\": \"The journalist confirmed the story The journalist verified the accuracy of the story\", \"is_NP\": true, \"is_S\": false},\n",
      "        {\"sentence\": \"The worker maintained the walls by regularly inspecting for cracks or damage and promptly repairing any issues\", \"is_NP\": true, \"is_S\": false},\n",
      "        {\"sentence\": \"The apprentice forgot the bicycle he was supposed to deliver to the customer\", \"is_NP\": true, \"is_S\": false},\n",
      "        {\"sentence\": \"The committee mentioned the issue during their meeting\", \"is_NP\": true, \"is_S\": false},\n",
      "        {\"sentence\": \"The army found the supplies that had been hidden in a remote cave deep in the forest\", \"is_NP\": true, \"is_S\": false},\n",
      "        {\"sentence\": \"The umpire warned the spectators to refrain from using offensive language and to respect the players on the field\", \"is_NP\": true, \"is_S\": false},\n",
      "        {\"sentence\": \"The coach discovered the player had exceptional talent and potential during a tryout session\", \"is_NP\": true, \"is_S\": false},\n",
      "        {\"sentence\": \"The woman noticed the flyer on the bulletin board as she walked through the park\", \"is_NP\": true, \"is_S\": false},\n",
      "        {\"sentence\": \"The tourists saw the palace and were amazed by its grandeur and beauty\", \"is_NP\": true, \"is_S\": false},\n",
      "        {\"sentence\": \"The scientists proved the theory through a series of rigorous experiments and observations\", \"is_NP\": true, \"is_S\": false},\n",
      "        {\"sentence\": \"The soldiers remembered the town they had passed through months before\", \"is_NP\": true, \"is_S\": false},\n",
      "        {\"sentence\": \"The priest recognized two guests as members of the congregation and greeted them warmly\", \"is_NP\": true, \"is_S\": false},\n",
      "        {\"sentence\": \"The reporter revealed the politician The reporter revealed that the politician had been involved in a corruption scandal, accepting bribes in exchange for political favors\", \"is_NP\": false, \"is_S\": true},\n",
      "        {\"sentence\": \"The owners insured the house against fire, theft, and natural disasters to protect their investment\", \"is_NP\": true, \"is_S\": false},\n",
      "        {\"sentence\": \"The lawyer established the alibi for his client by presenting evidence and witness testimony that proved the client was not at the scene of the crime at the time it occurred\", \"is_NP\": false, \"is_S\": true},\n",
      "        {\"sentence\": \"The store guaranteed the television for one year against any defects or malfunctions\", \"is_NP\": true, \"is_S\": false}\n",
      "    ]\n",
      "}\n"
     ]
    }
   ],
   "source": [
    "print(response)"
   ]
  },
  {
   "cell_type": "code",
   "execution_count": null,
   "id": "9bf3c93c",
   "metadata": {},
   "outputs": [],
   "source": []
  }
 ],
 "metadata": {
  "kernelspec": {
   "display_name": "Python 3 (ipykernel)",
   "language": "python",
   "name": "python3"
  },
  "language_info": {
   "codemirror_mode": {
    "name": "ipython",
    "version": 3
   },
   "file_extension": ".py",
   "mimetype": "text/x-python",
   "name": "python",
   "nbconvert_exporter": "python",
   "pygments_lexer": "ipython3",
   "version": "3.11.5"
  }
 },
 "nbformat": 4,
 "nbformat_minor": 5
}
