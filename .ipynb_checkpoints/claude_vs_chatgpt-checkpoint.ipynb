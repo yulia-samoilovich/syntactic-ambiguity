{
 "cells": [
  {
   "cell_type": "code",
   "execution_count": 1,
   "id": "e6de1495-5509-4b82-b608-6f87bda21663",
   "metadata": {},
   "outputs": [],
   "source": [
    "import os\n",
    "import openai\n",
    "import tiktoken"
   ]
  },
  {
   "cell_type": "code",
   "execution_count": 2,
   "id": "54809091-f965-4f9e-a425-b377ac7efeeb",
   "metadata": {},
   "outputs": [],
   "source": [
    "from dotenv import load_dotenv, find_dotenv\n",
    "_ = load_dotenv(find_dotenv())\n",
    "\n",
    "open.api_key = os.environ['OPENAI_API_KEY']"
   ]
  },
  {
   "cell_type": "code",
   "execution_count": 22,
   "id": "2758b9d8-6f86-4d8c-86d7-c2e3c2114329",
   "metadata": {
    "scrolled": true
   },
   "outputs": [
    {
     "name": "stdout",
     "output_type": "stream",
     "text": [
      "The employees understood the contract was binding\n",
      "The mechanic accepted the car with a grateful smile\n",
      "The old man recalled the nurse from his days in the hospital\n",
      "The traveller heard the clock strike midnight\n",
      "The worker maintained the walls with a fresh coat of paint\n",
      "The apprentice forgot the bicycle at the park\n",
      "The committee mentioned the issue during their weekly meeting\n",
      "The army discovered the supplies hidden in the underground bunker\n",
      "The umpire warned the spectators to stay behind the lines\n",
      "The artist conveyed the essence of beauty through her intricate brushstrokes\n",
      "The teacher expressed the concept that teamwork is essential for success\n",
      "The gardener detected the plants were wilting\n",
      "The employee believed the client's story\n",
      "The detective uncovered the clue to solving the mystery\n",
      "The author brainstormed the book for several weeks\n",
      "The man saw the doctor and received a prescription for antibiotics\n",
      "The historian researched the era of the Industrial Revolution\n",
      "The musician composed the melody that would become a hit song\n",
      "The runner broke the record in the 100-meter dash\n",
      "The viewer predicted the scene would end in a dramatic confrontation\n",
      "The student studied the material diligently\n",
      "The doctor reviewed the case carefully\n",
      "The builder calculated the space needed for the new addition\n",
      "The teacher perceived the effort as genuine\n",
      "\"The traveler suggested the landmark be added to our itinerary\n",
      "The woman noticed the flyer on the bulletin board\n",
      "The passengers feared the storm would capsize their small boat\n",
      "The professor questioned the theory's validity\n",
      "The banker secured the loan with collateral\n",
      "The politician stated the policy would be implemented immediately\n",
      "The surgeon asserted the procedure was necessary\n",
      "The photographer captured the moment with perfect lighting and composition\n",
      "The baker found the recipe for his famous chocolate chip cookies\n",
      "The scientist proposed the hypothesis that the new drug would cure cancer\n",
      "to take a break from school and focus on self-care\n",
      "The driver inspected the vehicle for any signs of damage\n",
      "The tourists distinguished the palace as the most impressive landmark in the city\n",
      "The priest recognized the guests by their familiar faces\n",
      "The owners insured the house against fire and theft\n",
      "The lawyer established the alibi to prove his client's innocence\n"
     ]
    }
   ],
   "source": [
    "def complete_gpt_sentences(prompt, \n",
    "                           model=\"gpt-3.5-turbo\",\n",
    "                           temperature=0.7, \n",
    "                           max_tokens=200, \n",
    "                           stop=[\".\"]):\n",
    "    \n",
    "    user_prompt = f'''Here is the first half of a sentence: '{prompt}'. \n",
    "    Complete it with one full sentence that is either a noun phrase or a sentential complement, not both. \n",
    "    A sentential complement is a clause that follows and completes the meaning of the main verb. \n",
    "    Generate the full sentence only.'''\n",
    "    messages = [{'role': 'user', 'content': user_prompt}]\n",
    "    response = openai.chat.completions.create(\n",
    "        model=model,\n",
    "        messages=messages,\n",
    "        temperature=temperature,\n",
    "        max_tokens=max_tokens,\n",
    "        stop=stop\n",
    "    )\n",
    "    \n",
    "    return response.choices[0].message.content\n",
    "\n",
    "with open(\"no_cue_prompts.txt\") as prompts_file:\n",
    "    prompts = prompts_file.readlines()\n",
    "\n",
    "    sentences_gpt = []\n",
    "    for prompt in prompts:\n",
    "        complete_sentence = complete_gpt_sentences(prompt.strip())\n",
    "        sentences_gpt.append(complete_sentence)\n",
    "        print(complete_sentence)"
   ]
  },
  {
   "cell_type": "code",
   "execution_count": 23,
   "id": "4972545b-4963-457c-8059-5ca2117194ff",
   "metadata": {},
   "outputs": [],
   "source": [
    "with open('sentences_gpt.txt', 'w') as f:\n",
    "    for line in sentences_gpt:\n",
    "        f.write(\"%s\\n\" % line)"
   ]
  },
  {
   "cell_type": "code",
   "execution_count": 6,
   "id": "7834d2a4-2192-4cec-b40f-62f2c1f451f0",
   "metadata": {},
   "outputs": [],
   "source": [
    "def categorize_gpt_sentences(messages,\n",
    "                model=\"gpt-3.5-turbo\",\n",
    "                temperature=0,\n",
    "                max_tokens=3000):\n",
    "    response = openai.chat.completions.create(\n",
    "        model=model,\n",
    "        messages=messages,\n",
    "        temperature=temperature,\n",
    "        max_tokens=max_tokens,\n",
    "    )\n",
    "    return response.choices[0].message.content"
   ]
  },
  {
   "cell_type": "code",
   "execution_count": 24,
   "id": "4eddb9a8-d341-4a89-9124-4b2ef337ee97",
   "metadata": {},
   "outputs": [],
   "source": [
    "with open (\"sentences_gpt.txt\") as sentences: \n",
    "    sentences = ',\\n'.join([\n",
    "        f'{{\"sentence\": \"{sentence}\", \"is_NP\": true/false, \"is_S\": true/false}}'\n",
    "        for sentence in sentences\n",
    "    ])\n",
    "\n",
    "system_message = \"\"\"\n",
    "Classify each sentence based on its grammatical structure by determining whether each sentence is a noun phrase (is_NP), \n",
    "or a sentential complement (is_S). \n",
    "A noun phrase acts as the direct object of the main verb, while a sentential complement acts as the embedded subject in an upcoming \n",
    "subordinate clause, it is a clause that follows and completes the meaning of the main verb.\n",
    "\n",
    "Please provide your classification for each sentence in the JSON format, marking 'true' for the category that applies and \n",
    "'false' for those that do not. Each sentence should be classified into only one category.\n",
    "Format for classification:\n",
    "\n",
    "{\n",
    "    \"sentences\": [\n",
    "        \"\"\" + sentences + \"\"\"\n",
    "    ]\n",
    "}\n",
    "\"\"\"\n",
    "\n",
    "messages = [\n",
    "    {'role': 'system', 'content': system_message}\n",
    "]\n",
    "\n",
    "response = categorize_gpt_sentences(messages)\n",
    "with open(\"categorize_gpt_sentences.json\", \"w\") as file:\n",
    "    file.write(response)"
   ]
  },
  {
   "cell_type": "code",
   "execution_count": 12,
   "id": "4e341de2-f42c-4d0c-a5bd-e3168aecac08",
   "metadata": {},
   "outputs": [],
   "source": [
    "import nltk\n",
    "from nltk import FreqDist\n",
    "from nltk.tokenize import word_tokenize\n",
    "import re\n",
    "import json"
   ]
  },
  {
   "cell_type": "code",
   "execution_count": 26,
   "id": "239181d4-7a9b-48a1-83ec-8df2325396d6",
   "metadata": {},
   "outputs": [],
   "source": [
    "with open(\"categorize_gpt_sentences.json\") as gpt_sentences:    \n",
    "    data = json.load(gpt_sentences)\n",
    "    \n",
    "    with open('np_gpt.txt', 'w') as f: \n",
    "        for sentence in data['sentences']:\n",
    "            is_NP = sentence['is_NP']\n",
    "            if is_NP:\n",
    "                sentences = sentence['sentence'] \n",
    "                f.write(\"%s\\n\" % sentences)\n",
    "                \n",
    "    with open('s_gpt.txt', 'w') as f: \n",
    "        for sentence in data['sentences']:\n",
    "            is_S = sentence['is_S']\n",
    "            if is_S:\n",
    "                sentences = sentence['sentence'] \n",
    "                f.write(\"%s\\n\" % sentences)"
   ]
  },
  {
   "cell_type": "code",
   "execution_count": 27,
   "id": "150680b2-0b9e-45bc-a624-10523a0cffc0",
   "metadata": {},
   "outputs": [],
   "source": [
    "with open (\"np_gpt.txt\") as np_sentences, open (\"s_gpt.txt\") as s_sentences:\n",
    "    gpt_np_sentences = np_sentences.read().lower()\n",
    "    gpt_s_sentences = s_sentences.read().lower()\n",
    "    \n",
    "    gpt_np_tokens = nltk.word_tokenize(gpt_np_sentences)\n",
    "    fdist_np_gpt = FreqDist(gpt_np_tokens)\n",
    "    re_pattern = r'\\w+'\n",
    "    gpt_np_clean = []\n",
    "    \n",
    "    gpt_s_tokens = nltk.word_tokenize(gpt_s_sentences)\n",
    "    fdist_s_gpt = FreqDist(gpt_s_tokens)\n",
    "    re_pattern = r'\\w+'\n",
    "    gpt_s_clean = []\n",
    "    \n",
    "    for word in gpt_np_tokens:\n",
    "        if re.match(re_pattern, word):\n",
    "            gpt_np_clean.append(word)\n",
    "            \n",
    "    for word in gpt_s_tokens:\n",
    "        if re.match(re_pattern, word):\n",
    "            gpt_s_clean.append(word)"
   ]
  },
  {
   "cell_type": "code",
   "execution_count": 28,
   "id": "ab21eb73-4cac-4b2f-97cc-002abb5091aa",
   "metadata": {},
   "outputs": [
    {
     "name": "stdout",
     "output_type": "stream",
     "text": [
      "68\n"
     ]
    }
   ],
   "source": [
    "print(len(gpt_s_clean))"
   ]
  },
  {
   "cell_type": "code",
   "execution_count": 29,
   "id": "08e47834-fc22-4c33-a498-48a8826081ea",
   "metadata": {},
   "outputs": [
    {
     "name": "stdout",
     "output_type": "stream",
     "text": [
      "304\n"
     ]
    }
   ],
   "source": [
    "print(len(gpt_np_clean))"
   ]
  },
  {
   "cell_type": "code",
   "execution_count": 30,
   "id": "f6366891-8b04-458f-b704-1505fa614b0e",
   "metadata": {},
   "outputs": [
    {
     "data": {
      "text/plain": [
       "[('the', 17),\n",
       " ('would', 3),\n",
       " ('was', 2),\n",
       " ('employees', 1),\n",
       " ('understood', 1),\n",
       " ('contract', 1),\n",
       " ('binding', 1),\n",
       " ('traveller', 1),\n",
       " ('heard', 1),\n",
       " ('clock', 1)]"
      ]
     },
     "execution_count": 30,
     "metadata": {},
     "output_type": "execute_result"
    }
   ],
   "source": [
    "fdist_s_gpt.most_common(10)"
   ]
  },
  {
   "cell_type": "code",
   "execution_count": 31,
   "id": "7f4061cb-04d7-486d-9496-e6af59acd46a",
   "metadata": {},
   "outputs": [
    {
     "data": {
      "text/plain": [
       "[('the', 75),\n",
       " ('a', 5),\n",
       " ('to', 5),\n",
       " ('for', 5),\n",
       " ('with', 4),\n",
       " ('in', 4),\n",
       " ('of', 4),\n",
       " ('and', 4),\n",
       " ('his', 3),\n",
       " ('that', 3)]"
      ]
     },
     "execution_count": 31,
     "metadata": {},
     "output_type": "execute_result"
    }
   ],
   "source": [
    "fdist_np_gpt.most_common(10)"
   ]
  },
  {
   "cell_type": "code",
   "execution_count": 17,
   "id": "1cf5b92e-d804-4c2d-b0fc-a7b90a2d6994",
   "metadata": {},
   "outputs": [],
   "source": [
    "open.api_key = os.environ['ANTHROPIC_API_KEY']\n",
    "import anthropic"
   ]
  },
  {
   "cell_type": "code",
   "execution_count": 25,
   "id": "740dc534-357c-42e7-9e74-fc7f9d5a55b2",
   "metadata": {
    "scrolled": true
   },
   "outputs": [
    {
     "name": "stdout",
     "output_type": "stream",
     "text": [
      "The employees understood the contract that they had signed the previous month\n",
      "The mechanic accepted the car that the customer had brought in for repair\n",
      "The old man recalled the nurse who had cared for him during his long illness\n",
      "The traveller heard the clock strike midnight\n",
      "The worker maintained the walls to ensure the building's structural integrity\n",
      "The apprentice forgot the bicycle at the shop\n",
      "The committee mentioned the issue that the new policy was causing significant concerns among the employees\n",
      "The army discovered the supplies were hidden in the warehouse\n",
      "The umpire warned the spectators that they would be ejected from the stadium if they continued to disrupt the game\n",
      "of the landscape through his masterful use of color and texture\n",
      "The teacher expressed the concept that the students understood the material\n",
      "The gardener detected the plants were wilting\n",
      "The employee believed the client was being dishonest\n",
      "The detective uncovered the clue that led to the suspect's arrest\n",
      "The author brainstormed the book to come up with a captivating storyline\n",
      "The man saw the doctor who was examining a patient\n",
      "The historian researched the era when the great leaders of the nation made significant political decisions that shaped the course of history\n",
      "The musician composed the melody that was later performed at the concert\n",
      "The runner broke the record because it was an outstanding performance\n",
      "The viewer predicted the scene would unfold dramatically\n",
      "diligently in order to pass the exam\n",
      "The doctor reviewed the case and determined that the patient's condition was improving\n",
      "The builder calculated the space that was required for the new addition\n",
      "the student had put into the assignment\n",
      "The traveler suggested the landmark was worth visiting\n",
      "The woman noticed the flyer advertising the upcoming charity event\n",
      "The passengers feared the storm would bring heavy rain and strong winds\n",
      "The professor questioned the theory that the experiment had produced unexpected results\n",
      "to finance the expansion of the company\n",
      "The politician stated that the new policy would be implemented immediately\n",
      "The surgeon asserted the procedure was a success\n",
      "The photographer captured the moment when the couple exchanged their vows\n",
      "The baker found the recipe that had been hidden in the back of the pantry\n",
      "The scientist proposed the hypothesis that the new experiment would yield unexpected results\n",
      "The counselor advised the student to apply for the scholarship\n",
      "The driver inspected the vehicle, which appeared to be in good condition\n",
      "The tourists distinguished the palace from the other buildings in the city\n",
      "The priest recognized the guests who had arrived early for the ceremony\n",
      "against any potential damages\n",
      "The lawyer established the alibi that his client was in a different city at the time of the crime\n"
     ]
    }
   ],
   "source": [
    "import time\n",
    "\n",
    "def complete_claude_sentences(prompt):\n",
    "    message = anthropic.Anthropic().messages.create(\n",
    "        model=\"claude-3-haiku-20240307\",\n",
    "        temperature=0.7,\n",
    "        max_tokens=200,\n",
    "        stop_sequences=[\".\"],\n",
    "        messages=[\n",
    "            {\"role\": \"user\", \n",
    "             \"content\": f\"Here is the first half of a sentence: '{prompt}'. Complete it with one full sentence that is either a noun phrase or a sentential complement, not both. A sentential complement is a clause that follows and completes the meaning of the main verb. Generate the full sentence only.\"\n",
    "            }\n",
    "             ]\n",
    "    )\n",
    "    return message.content[0].text\n",
    "\n",
    "with open(\"no_cue_prompts.txt\") as prompts_file:\n",
    "    prompts = prompts_file.readlines()   \n",
    "    sentences_claude = []\n",
    "    \n",
    "    for prompt in prompts:\n",
    "        complete_sentence = complete_claude_sentences(prompt.strip())\n",
    "        sentences_claude.append(complete_sentence)\n",
    "        print(complete_sentence)\n",
    "        time.sleep(15)"
   ]
  },
  {
   "cell_type": "code",
   "execution_count": 33,
   "id": "acb11ffd-26f9-4d13-978d-3a1bb553e4f9",
   "metadata": {},
   "outputs": [],
   "source": [
    "with open('sentences_claude.txt', 'w') as f:\n",
    "    for line in sentences_claude:\n",
    "        f.write(\"%s\\n\" % line)"
   ]
  },
  {
   "cell_type": "code",
   "execution_count": 34,
   "id": "6cbbfc58-4889-4d8e-82c5-ca584248f49e",
   "metadata": {},
   "outputs": [],
   "source": [
    "def categorize_claude_sentences():\n",
    "    message = anthropic.Anthropic().messages.create(\n",
    "        model=\"claude-3-haiku-20240307\",\n",
    "        temperature=0,\n",
    "        max_tokens=3000,\n",
    "        stop_sequences=[\".\"],\n",
    "        messages=[\n",
    "            {\"role\": \"user\", \n",
    "             \"content\": system_message}\n",
    "        ]\n",
    "    )\n",
    "    return message.content[0].text\n",
    "\n",
    "with open (\"sentences_claude.txt\") as sentences: \n",
    "    sentences = ',\\n'.join([\n",
    "        f'{{\"sentence\": \"{sentence}\", \"is_NP\": true/false, \"is_S\": true/false}}'\n",
    "        for sentence in sentences\n",
    "    ])\n",
    "\n",
    "system_message = \"\"\"\n",
    "Classify each sentence based on its grammatical structure by determining whether each sentence is a noun phrase (is_NP), \n",
    "or a sentential complement (is_S). \n",
    "A noun phrase acts as the direct object of the main verb, while a sentential complement acts as the embedded subject in an upcoming \n",
    "subordinate clause, introduced by conjunctions like \"that\" and often related to thoughts, speech, perception, or feelings. \n",
    "For example, in \"She said that she was happy,\" \"that she was happy\" is a sentential complement.\n",
    "\n",
    "Please provide your classification for each sentence in the JSON format, marking 'true' for the category that applies and \n",
    "'false' for those that do not. Each sentence should be classified into only one category.\n",
    "Format for classification:\n",
    "\n",
    "{\n",
    "    \"sentences\": [\n",
    "        \"\"\" + sentences + \"\"\"\n",
    "    ]\n",
    "}\n",
    "\"\"\"\n",
    "\n",
    "response = categorize_claude_sentences()\n",
    "with open(\"cateogrize_claude_sentences.json\", \"w\") as file:\n",
    "    file.write(response)"
   ]
  },
  {
   "cell_type": "code",
   "execution_count": 45,
   "id": "dd6478ee-c1fa-4376-bdbe-a3c5552d5faa",
   "metadata": {},
   "outputs": [],
   "source": [
    "with open(\"cateogrize_claude_sentences.json\") as claude_sentences:    \n",
    "    data = json.load(claude_sentences)\n",
    "    \n",
    "    with open('np_claude.txt', 'w') as f: \n",
    "        for sentence in data['sentences']:\n",
    "            is_NP = sentence['is_NP']\n",
    "            if is_NP:\n",
    "                sentences = sentence['sentence'] \n",
    "                f.write(\"%s\\n\" % sentences)\n",
    "                \n",
    "    with open('s_claude.txt', 'w') as f: \n",
    "        for sentence in data['sentences']:\n",
    "            is_S = sentence['is_S']\n",
    "            if is_S:\n",
    "                sentences = sentence['sentence'] \n",
    "                f.write(\"%s\\n\" % sentences)"
   ]
  },
  {
   "cell_type": "code",
   "execution_count": 46,
   "id": "22f1ed65-9f96-4552-ba6f-40c571abd697",
   "metadata": {},
   "outputs": [],
   "source": [
    "with open (\"np_claude.txt\") as np_sentences, open (\"s_claude.txt\") as s_sentences:\n",
    "    claude_np_sentences = np_sentences.read().lower()\n",
    "    claude_s_sentences = s_sentences.read().lower()\n",
    "    \n",
    "    claude_np_tokens = nltk.word_tokenize(claude_np_sentences)\n",
    "    fdist_np_claude = FreqDist(claude_np_tokens)\n",
    "    re_pattern = r'\\w+'\n",
    "    claude_np_clean = []\n",
    "    \n",
    "    claude_s_tokens = nltk.word_tokenize(claude_s_sentences)\n",
    "    fdist_s_claude = FreqDist(claude_s_tokens)\n",
    "    re_pattern = r'\\w+'\n",
    "    claude_s_clean = []\n",
    "    \n",
    "    for word in claude_np_tokens:\n",
    "        if re.match(re_pattern, word):\n",
    "            claude_np_clean.append(word)\n",
    "            \n",
    "    for word in claude_s_tokens:\n",
    "        if re.match(re_pattern, word):\n",
    "            claude_s_clean.append(word)"
   ]
  },
  {
   "cell_type": "code",
   "execution_count": 47,
   "id": "d2074e55-1dfb-4e2a-9d27-d374313464d3",
   "metadata": {},
   "outputs": [
    {
     "name": "stdout",
     "output_type": "stream",
     "text": [
      "96\n"
     ]
    }
   ],
   "source": [
    "print(len(claude_s_clean))"
   ]
  },
  {
   "cell_type": "code",
   "execution_count": 48,
   "id": "c6be2700-8586-4297-a089-f8f45d042071",
   "metadata": {},
   "outputs": [
    {
     "name": "stdout",
     "output_type": "stream",
     "text": [
      "376\n"
     ]
    }
   ],
   "source": [
    "print(len(claude_np_clean))"
   ]
  },
  {
   "cell_type": "code",
   "execution_count": 49,
   "id": "499af796-da52-4ab4-8acf-6328310b433c",
   "metadata": {},
   "outputs": [
    {
     "data": {
      "text/plain": [
       "[('the', 93),\n",
       " ('that', 13),\n",
       " ('had', 7),\n",
       " ('to', 7),\n",
       " ('was', 7),\n",
       " ('of', 7),\n",
       " ('in', 6),\n",
       " ('for', 5),\n",
       " ('who', 3),\n",
       " ('his', 3)]"
      ]
     },
     "execution_count": 49,
     "metadata": {},
     "output_type": "execute_result"
    }
   ],
   "source": [
    "fdist_np_claude.most_common(10)"
   ]
  },
  {
   "cell_type": "code",
   "execution_count": 50,
   "id": "2e43d2bd-73d3-42cf-81f3-bb4f0c519414",
   "metadata": {},
   "outputs": [
    {
     "data": {
      "text/plain": [
       "[('the', 22),\n",
       " ('would', 4),\n",
       " ('was', 3),\n",
       " ('were', 2),\n",
       " ('they', 2),\n",
       " ('be', 2),\n",
       " ('traveller', 1),\n",
       " ('heard', 1),\n",
       " ('clock', 1),\n",
       " ('strike', 1)]"
      ]
     },
     "execution_count": 50,
     "metadata": {},
     "output_type": "execute_result"
    }
   ],
   "source": [
    "fdist_s_claude.most_common(10)"
   ]
  },
  {
   "cell_type": "code",
   "execution_count": 51,
   "id": "ea1baa81-9a93-4641-ac75-71764dfb8961",
   "metadata": {},
   "outputs": [],
   "source": [
    "gpt_count_np = 0\n",
    "gpt_count_s = 0\n",
    "\n",
    "with open(\"np_gpt.txt\") as gpt_np, open(\"s_gpt.txt\") as gpt_s:\n",
    "    for line in gpt_np:\n",
    "        gpt_count_np += 1\n",
    "    for line in gpt_s:\n",
    "        gpt_count_s += 1\n",
    "\n",
    "claude_count_np = 0\n",
    "claude_count_s = 0\n",
    "\n",
    "with open(\"np_claude.txt\") as claude_np, open(\"s_claude.txt\") as claude_s:\n",
    "    for line in claude_np:\n",
    "        claude_count_np += 1 \n",
    "    for line in claude_s:\n",
    "        claude_count_s += 1"
   ]
  },
  {
   "cell_type": "code",
   "execution_count": 52,
   "id": "14e76dce-a827-42a1-bf75-61739632e21d",
   "metadata": {},
   "outputs": [],
   "source": [
    "from matplotlib import pyplot as plt\n",
    "import numpy as np"
   ]
  },
  {
   "cell_type": "code",
   "execution_count": 53,
   "id": "34217633-3b26-4f1c-a693-3b6add7a50cf",
   "metadata": {},
   "outputs": [
    {
     "data": {
      "image/png": "[encoded data removed]",
      "text/plain": [
       "<Figure size 640x480 with 1 Axes>"
      ]
     },
     "metadata": {},
     "output_type": "display_data"
    }
   ],
   "source": [
    "count_np = {\n",
    "    'chatGPT': gpt_count_np,  \n",
    "    'Claude': claude_count_np \n",
    "}\n",
    "count_s = {\n",
    "    'chatGPT': gpt_count_s,  \n",
    "    'Claude': claude_count_s\n",
    "}\n",
    "\n",
    "LLMs = ['chatGPT', 'Claude']\n",
    "\n",
    "width = 0.6\n",
    "fig, ax = plt.subplots()\n",
    "\n",
    "x = np.arange(len(LLMs))\n",
    "\n",
    "bottom_np = np.zeros(len(LLMs))\n",
    "bottom_s = np.zeros(len(LLMs))\n",
    "\n",
    "for i, (LLM, count) in enumerate(count_np.items()):\n",
    "    bars = ax.bar(x[i], count, width, label='{} NP'.format(LLM))\n",
    "    bottom_np[i] += count\n",
    "    ax.bar_label(bars, label_type='center')\n",
    "\n",
    "for i, (LLM, count) in enumerate(count_s.items()):\n",
    "    bars = ax.bar(x[i], count, width, label='{} S'.format(LLM), bottom=bottom_np[i])\n",
    "    bottom_s[i] += count\n",
    "    ax.bar_label(bars, label_type='center')\n",
    "\n",
    "ax.set_ylabel('Counts')\n",
    "ax.set_title('Counts of NP and S by LLM')\n",
    "ax.set_xticks(x)\n",
    "ax.set_xticklabels(LLMs)\n",
    "ax.legend(bbox_to_anchor=(1.05, 1), loc='upper left')\n",
    "\n",
    "plt.show()"
   ]
  },
  {
   "cell_type": "code",
   "execution_count": 4,
   "id": "0a514ccf-8a94-4d99-b4b4-8394eb8c39ef",
   "metadata": {
    "scrolled": true
   },
   "outputs": [
    {
     "name": "stdout",
     "output_type": "stream",
     "text": [
      "The employees understood the contract was binding and required their signature\n",
      "The mechanic accepted the car with a grateful smile\n",
      "The old man recalled the nurse who had cared for him during his stay in the hospital\n",
      "The traveller heard the clock strike midnight\n",
      "The worker maintained the walls to prevent any further damage\n",
      "The apprentice forgot the bicycle at the park\n",
      "The committee mentioned the issue in their weekly meeting\n",
      "The army discovered the supplies hidden in the abandoned warehouse\n",
      "The umpire warned the spectators to refrain from using offensive language\n",
      "of tranquility and peace through their use of soft colors and gentle brushstrokes\n",
      "The teacher expressed the concept that hard work leads to success\n",
      "The gardener detected the plants were infested with aphids\n",
      "The employee believed the client's explanation\n",
      "The detective uncovered the clue that would solve the case\n",
      "The author brainstormed the book for several weeks\n",
      "The man saw the doctor for his annual check-up\n",
      "The historian researched the era to uncover new insights into the cultural and political climate of the time period\n",
      "The musician composed the melody that would become an instant hit\n",
      "The runner broke the record for the fastest mile\n",
      "The viewer predicted the scene would end in a dramatic twist\n",
      "The student studied the material thoroughly\n",
      "The doctor reviewed the case thoroughly\n",
      "The builder calculated the space needed for the new addition\n",
      "The teacher perceived the effort was genuine\n",
      "The traveler suggested the landmark be included on the itinerary\n",
      "The woman noticed the flyer hanging on the community bulletin board\n",
      "The passengers feared the storm would cause their flight to be delayed\n",
      "The professor questioned the theory's validity\n",
      "The banker secured the loan quickly\n",
      "The politician stated the policy would be implemented immediately\n",
      "The surgeon asserted the procedure was the best option for the patient\n",
      "The photographer captured the moment perfectly\n",
      "The baker found the recipe to make the perfect chocolate cake\n",
      "The scientist proposed the hypothesis that the chemical reaction would result in a new compound\n",
      "to seek help from the school psychologist\n",
      "The driver inspected the vehicle for any signs of damage\n",
      "The tourists distinguished the palace as the most magnificent structure they had ever seen\n",
      "The priest recognized the guests with a warm smile\n",
      "The owners insured the house for natural disasters\n",
      "The lawyer established the alibi to prove his client's innocence\n"
     ]
    }
   ],
   "source": [
    "def complete_gpt_sentences(prompt, \n",
    "                           model=\"gpt-3.5-turbo\",\n",
    "                           temperature=0.7, \n",
    "                           max_tokens=200, \n",
    "                           stop=[\".\"]):\n",
    "    \n",
    "    user_prompt = f'''Here is the first half of a sentence: '{prompt}'. \n",
    "    Complete it with one full sentence that is either a noun phrase or a sentential complement, not both. \n",
    "    A sentential complement is a clause that follows and completes the meaning of the main verb. \n",
    "    Generate the full sentence only.'''\n",
    "    messages = [{'role': 'user', 'content': user_prompt}]\n",
    "    response = openai.chat.completions.create(\n",
    "        model=model,\n",
    "        messages=messages,\n",
    "        temperature=temperature,\n",
    "        max_tokens=max_tokens,\n",
    "        stop=stop\n",
    "    )\n",
    "    \n",
    "    return response.choices[0].message.content\n",
    "\n",
    "with open(\"no_cue_prompts.txt\") as prompts_file:\n",
    "    prompts = prompts_file.readlines()\n",
    "\n",
    "    sentences_gpt2 = []\n",
    "    for prompt in prompts:\n",
    "        complete_sentence = complete_gpt_sentences(prompt.strip())\n",
    "        sentences_gpt2.append(complete_sentence)\n",
    "        print(complete_sentence)"
   ]
  },
  {
   "cell_type": "code",
   "execution_count": 5,
   "id": "8c99ff44-f8c1-427f-8a2c-baef99a7d904",
   "metadata": {},
   "outputs": [],
   "source": [
    "with open('sentences_gpt2.txt', 'w') as f:\n",
    "    for line in sentences_gpt2:\n",
    "        f.write(\"%s\\n\" % line)"
   ]
  },
  {
   "cell_type": "code",
   "execution_count": 7,
   "id": "e3cd1b5d-ddcd-4406-af16-f6a20715d4c4",
   "metadata": {},
   "outputs": [],
   "source": [
    "with open (\"sentences_gpt2.txt\") as sentences: \n",
    "    sentences = ',\\n'.join([\n",
    "        f'{{\"sentence\": \"{sentence}\", \"is_NP\": true/false, \"is_S\": true/false}}'\n",
    "        for sentence in sentences\n",
    "    ])\n",
    "\n",
    "system_message = \"\"\"\n",
    "Classify each sentence based on its grammatical structure by determining whether each sentence is a noun phrase (is_NP), \n",
    "or a sentential complement (is_S). \n",
    "A noun phrase acts as the direct object of the main verb, while a sentential complement acts as the embedded subject in an upcoming \n",
    "subordinate clause, it is a clause that follows and completes the meaning of the main verb.\n",
    "\n",
    "Please provide your classification for each sentence in the JSON format, marking 'true' for the category that applies and \n",
    "'false' for those that do not. Each sentence should be classified into only one category.\n",
    "Format for classification:\n",
    "\n",
    "{\n",
    "    \"sentences\": [\n",
    "        \"\"\" + sentences + \"\"\"\n",
    "    ]\n",
    "}\n",
    "\"\"\"\n",
    "\n",
    "messages = [\n",
    "    {'role': 'system', 'content': system_message}\n",
    "]\n",
    "\n",
    "response = categorize_gpt_sentences(messages)\n",
    "with open(\"categorize_gpt_sentences2.json\", \"w\") as file:\n",
    "    file.write(response)"
   ]
  },
  {
   "cell_type": "code",
   "execution_count": 8,
   "id": "3ab2c7ad-9f3f-43dc-9f76-6e9b3f8f2768",
   "metadata": {},
   "outputs": [],
   "source": [
    "import nltk\n",
    "from nltk import FreqDist\n",
    "from nltk.tokenize import word_tokenize\n",
    "import re\n",
    "import json"
   ]
  },
  {
   "cell_type": "code",
   "execution_count": 9,
   "id": "0b037831-8cfd-4dfa-8e4b-d938654ab08d",
   "metadata": {},
   "outputs": [],
   "source": [
    "with open(\"categorize_gpt_sentences2.json\") as gpt_sentences:    \n",
    "    data = json.load(gpt_sentences)\n",
    "    \n",
    "    with open('np_gpt2.txt', 'w') as f: \n",
    "        for sentence in data['sentences']:\n",
    "            is_NP = sentence['is_NP']\n",
    "            if is_NP:\n",
    "                sentences = sentence['sentence'] \n",
    "                f.write(\"%s\\n\" % sentences)\n",
    "                \n",
    "    with open('s_gpt2.txt', 'w') as f: \n",
    "        for sentence in data['sentences']:\n",
    "            is_S = sentence['is_S']\n",
    "            if is_S:\n",
    "                sentences = sentence['sentence'] \n",
    "                f.write(\"%s\\n\" % sentences)"
   ]
  },
  {
   "cell_type": "code",
   "execution_count": 10,
   "id": "afb4a911-0bbe-4f43-bb0d-41baaf8e863c",
   "metadata": {},
   "outputs": [],
   "source": [
    "with open (\"np_gpt2.txt\") as np_sentences, open (\"s_gpt2.txt\") as s_sentences:\n",
    "    gpt_np_sentences2 = np_sentences.read().lower()\n",
    "    gpt_s_sentences2 = s_sentences.read().lower()\n",
    "    \n",
    "    gpt_np_tokens2 = nltk.word_tokenize(gpt_np_sentences2)\n",
    "    fdist_np_gpt2 = FreqDist(gpt_np_tokens2)\n",
    "    re_pattern = r'\\w+'\n",
    "    gpt_np_clean2 = []\n",
    "    \n",
    "    gpt_s_tokens2 = nltk.word_tokenize(gpt_s_sentences2)\n",
    "    fdist_s_gpt2 = FreqDist(gpt_s_tokens2)\n",
    "    re_pattern = r'\\w+'\n",
    "    gpt_s_clean2 = []\n",
    "    \n",
    "    for word in gpt_np_tokens2:\n",
    "        if re.match(re_pattern, word):\n",
    "            gpt_np_clean2.append(word)\n",
    "            \n",
    "    for word in gpt_s_tokens2:\n",
    "        if re.match(re_pattern, word):\n",
    "            gpt_s_clean2.append(word)"
   ]
  },
  {
   "cell_type": "code",
   "execution_count": 12,
   "id": "e0d1cf93-1221-42fe-864e-e37a58a49fa6",
   "metadata": {},
   "outputs": [
    {
     "name": "stdout",
     "output_type": "stream",
     "text": [
      "82\n"
     ]
    }
   ],
   "source": [
    "print(len(gpt_s_clean2))"
   ]
  },
  {
   "cell_type": "code",
   "execution_count": 13,
   "id": "98972fb3-ec91-4e9a-b039-ee084ae67833",
   "metadata": {},
   "outputs": [
    {
     "name": "stdout",
     "output_type": "stream",
     "text": [
      "321\n"
     ]
    }
   ],
   "source": [
    "print(len(gpt_np_clean2))"
   ]
  },
  {
   "cell_type": "code",
   "execution_count": 15,
   "id": "b3db884c-c205-4c2a-b223-90b3f952205c",
   "metadata": {},
   "outputs": [
    {
     "data": {
      "text/plain": [
       "[('the', 18),\n",
       " ('would', 3),\n",
       " ('was', 2),\n",
       " ('their', 2),\n",
       " ('to', 2),\n",
       " ('be', 2),\n",
       " ('employees', 1),\n",
       " ('understood', 1),\n",
       " ('contract', 1),\n",
       " ('binding', 1)]"
      ]
     },
     "execution_count": 15,
     "metadata": {},
     "output_type": "execute_result"
    }
   ],
   "source": [
    "fdist_s_gpt2.most_common(10)"
   ]
  },
  {
   "cell_type": "code",
   "execution_count": 16,
   "id": "17cd8313-5562-4dae-979c-9fd36c3ee65a",
   "metadata": {},
   "outputs": [
    {
     "data": {
      "text/plain": [
       "[('the', 78),\n",
       " ('for', 7),\n",
       " ('to', 6),\n",
       " ('in', 4),\n",
       " ('of', 4),\n",
       " ('that', 4),\n",
       " ('a', 3),\n",
       " ('his', 3),\n",
       " ('and', 3),\n",
       " (\"'s\", 3)]"
      ]
     },
     "execution_count": 16,
     "metadata": {},
     "output_type": "execute_result"
    }
   ],
   "source": [
    "fdist_np_gpt2.most_common(10)"
   ]
  },
  {
   "cell_type": "code",
   "execution_count": 18,
   "id": "f1b8838f-f6c7-43f9-92da-c39644272ef4",
   "metadata": {
    "scrolled": true
   },
   "outputs": [
    {
     "name": "stdout",
     "output_type": "stream",
     "text": [
      "The employees understood the contract was fair and reasonable\n",
      "The mechanic accepted the car that had been brought in for repairs\n",
      "The old man recalled the nurse who had cared for him during his illness\n",
      "The traveller heard the clock strike midnight\n",
      "The worker maintained the walls of the building\n",
      "The apprentice forgot the bicycle was locked to the bike rack\n",
      "The committee mentioned the issue that the project was behind schedule\n",
      "The army discovered the supplies were missing\n",
      "The umpire warned the spectators that they would be ejected from the stadium if they continued to disrupt the game\n",
      "The artist conveyed the essence of the painting through his bold brushstrokes\n",
      "The teacher expressed the concept that the students had grasped the material\n",
      "The gardener detected the plants were wilting\n",
      "The employee believed the client was telling the truth\n",
      "The detective uncovered the clue that led to the suspect's arrest\n",
      "The author brainstormed the book's main themes and plot points\n",
      "The man saw the doctor because he was feeling unwell\n",
      "The historian researched the era when the ancient civilization flourished\n",
      "The musician composed the melody that was hauntingly beautiful\n",
      "The runner broke the record that had stood for over a decade\n",
      "The viewer predicted the scene would unfold dramatically\n",
      "with great diligence\n",
      "The doctor reviewed the case and determined that the patient's condition was critical\n",
      "The builder calculated the space needed for the new addition\n",
      "that the student had put into the assignment\n",
      "The traveler suggested the landmark was an impressive sight\n",
      "The woman noticed the flyer advertising a local art exhibition\n",
      "The passengers feared the storm would destroy the ship\n",
      "The professor questioned the theory that the experiment had yielded unexpected results\n",
      "for the company's expansion project\n",
      "\"The politician stated the policy was controversial\n",
      "The surgeon asserted the procedure was a success\n",
      "The photographer captured the moment when the couple exchanged their vows\n",
      "The baker found the recipe that had been hidden in the drawer for years\n",
      "The scientist proposed the hypothesis that the new findings supported his theory\n",
      "The counselor advised the student to apply for the scholarship\n",
      "The driver inspected the vehicle and found that the tires were in good condition\n",
      "from the surrounding buildings\n",
      "The priest recognized the guests who had arrived for the ceremony\n",
      "The owners insured the house against potential damage from natural disasters\n",
      "The lawyer established the alibi that the defendant was at home at the time of the crime\n"
     ]
    }
   ],
   "source": [
    "import time\n",
    "\n",
    "def complete_claude_sentences(prompt):\n",
    "    message = anthropic.Anthropic().messages.create(\n",
    "        model=\"claude-3-haiku-20240307\",\n",
    "        temperature=0.7,\n",
    "        max_tokens=200,\n",
    "        stop_sequences=[\".\"],\n",
    "        messages=[\n",
    "            {\"role\": \"user\", \n",
    "             \"content\": f\"Here is the first half of a sentence: '{prompt}'. Complete it with one full sentence that is either a noun phrase or a sentential complement, not both. A sentential complement is a clause that follows and completes the meaning of the main verb. Generate the full sentence only.\"\n",
    "            }\n",
    "             ]\n",
    "    )\n",
    "    return message.content[0].text\n",
    "\n",
    "with open(\"no_cue_prompts.txt\") as prompts_file:\n",
    "    prompts = prompts_file.readlines()   \n",
    "    sentences_claude2 = []\n",
    "    \n",
    "    for prompt in prompts:\n",
    "        complete_sentence = complete_claude_sentences(prompt.strip())\n",
    "        sentences_claude2.append(complete_sentence)\n",
    "        print(complete_sentence)\n",
    "        time.sleep(15)"
   ]
  },
  {
   "cell_type": "code",
   "execution_count": 19,
   "id": "cc65b21b-7d95-4a76-a749-9a8b60498255",
   "metadata": {},
   "outputs": [],
   "source": [
    "with open('sentences_claude2.txt', 'w') as f:\n",
    "    for line in sentences_claude2:\n",
    "        f.write(\"%s\\n\" % line)"
   ]
  },
  {
   "cell_type": "code",
   "execution_count": 20,
   "id": "d7432bfc-588c-44a6-a118-652c461c2a6b",
   "metadata": {},
   "outputs": [],
   "source": [
    "def categorize_claude_sentences():\n",
    "    message = anthropic.Anthropic().messages.create(\n",
    "        model=\"claude-3-haiku-20240307\",\n",
    "        temperature=0,\n",
    "        max_tokens=3000,\n",
    "        stop_sequences=[\".\"],\n",
    "        messages=[\n",
    "            {\"role\": \"user\", \n",
    "             \"content\": system_message}\n",
    "        ]\n",
    "    )\n",
    "    return message.content[0].text\n",
    "\n",
    "with open (\"sentences_claude2.txt\") as sentences: \n",
    "    sentences = ',\\n'.join([\n",
    "        f'{{\"sentence\": \"{sentence}\", \"is_NP\": true/false, \"is_S\": true/false}}'\n",
    "        for sentence in sentences\n",
    "    ])\n",
    "\n",
    "system_message = \"\"\"\n",
    "Classify each sentence based on its grammatical structure by determining whether each sentence is a noun phrase (is_NP), \n",
    "or a sentential complement (is_S). \n",
    "A noun phrase acts as the direct object of the main verb, while a sentential complement acts as the embedded subject in an upcoming \n",
    "subordinate clause, introduced by conjunctions like \"that\" and often related to thoughts, speech, perception, or feelings. \n",
    "For example, in \"She said that she was happy,\" \"that she was happy\" is a sentential complement.\n",
    "\n",
    "Please provide your classification for each sentence in the JSON format, marking 'true' for the category that applies and \n",
    "'false' for those that do not. Each sentence should be classified into only one category.\n",
    "Format for classification:\n",
    "\n",
    "{\n",
    "    \"sentences\": [\n",
    "        \"\"\" + sentences + \"\"\"\n",
    "    ]\n",
    "}\n",
    "\"\"\"\n",
    "\n",
    "response = categorize_claude_sentences()\n",
    "with open(\"categorize_sentences_claude2.json\", \"w\") as file:\n",
    "    file.write(response)"
   ]
  },
  {
   "cell_type": "code",
   "execution_count": 21,
   "id": "ffbd52b4-5760-4587-b0de-651f6e0ff7d8",
   "metadata": {},
   "outputs": [],
   "source": [
    "with open(\"categorize_sentences_claude2.json\") as claude_sentences:    \n",
    "    data = json.load(claude_sentences)\n",
    "    \n",
    "    with open('np_claude2.txt', 'w') as f: \n",
    "        for sentence in data['sentences']:\n",
    "            is_NP = sentence['is_NP']\n",
    "            if is_NP:\n",
    "                sentences = sentence['sentence'] \n",
    "                f.write(\"%s\\n\" % sentences)\n",
    "                \n",
    "    with open('s_claude2.txt', 'w') as f: \n",
    "        for sentence in data['sentences']:\n",
    "            is_S = sentence['is_S']\n",
    "            if is_S:\n",
    "                sentences = sentence['sentence'] \n",
    "                f.write(\"%s\\n\" % sentences)"
   ]
  },
  {
   "cell_type": "code",
   "execution_count": 22,
   "id": "39a512db-6c16-42e3-bc7f-c7c3bc864ffd",
   "metadata": {},
   "outputs": [],
   "source": [
    "with open (\"np_claude2.txt\") as np_sentences, open (\"s_claude2.txt\") as s_sentences:\n",
    "    claude_np_sentences = np_sentences.read().lower()\n",
    "    claude_s_sentences = s_sentences.read().lower()\n",
    "    \n",
    "    claude_np_tokens = nltk.word_tokenize(claude_np_sentences)\n",
    "    fdist_np_claude = FreqDist(claude_np_tokens)\n",
    "    re_pattern = r'\\w+'\n",
    "    claude_np_clean = []\n",
    "    \n",
    "    claude_s_tokens = nltk.word_tokenize(claude_s_sentences)\n",
    "    fdist_s_claude = FreqDist(claude_s_tokens)\n",
    "    re_pattern = r'\\w+'\n",
    "    claude_s_clean = []\n",
    "    \n",
    "    for word in claude_np_tokens:\n",
    "        if re.match(re_pattern, word):\n",
    "            claude_np_clean.append(word)\n",
    "            \n",
    "    for word in claude_s_tokens:\n",
    "        if re.match(re_pattern, word):\n",
    "            claude_s_clean.append(word)"
   ]
  },
  {
   "cell_type": "code",
   "execution_count": 23,
   "id": "062079a4-99f2-403e-a77c-e7e5460d0ffb",
   "metadata": {},
   "outputs": [
    {
     "name": "stdout",
     "output_type": "stream",
     "text": [
      "123\n"
     ]
    }
   ],
   "source": [
    "print(len(claude_s_clean))"
   ]
  },
  {
   "cell_type": "code",
   "execution_count": 24,
   "id": "7dc70178-5ca5-4e23-a079-f0ed9b7e215e",
   "metadata": {},
   "outputs": [
    {
     "name": "stdout",
     "output_type": "stream",
     "text": [
      "316\n"
     ]
    }
   ],
   "source": [
    "print(len(claude_np_clean))"
   ]
  },
  {
   "cell_type": "code",
   "execution_count": 25,
   "id": "d996d75a-3e10-470a-b751-9bcb893f4ee7",
   "metadata": {},
   "outputs": [
    {
     "data": {
      "text/plain": [
       "[('the', 79),\n",
       " ('that', 13),\n",
       " ('had', 8),\n",
       " ('for', 8),\n",
       " ('was', 5),\n",
       " (\"'s\", 4),\n",
       " ('in', 3),\n",
       " ('his', 3),\n",
       " ('of', 3),\n",
       " ('and', 3)]"
      ]
     },
     "execution_count": 25,
     "metadata": {},
     "output_type": "execute_result"
    }
   ],
   "source": [
    "fdist_np_claude.most_common(10)"
   ]
  },
  {
   "cell_type": "code",
   "execution_count": 26,
   "id": "fdad7c20-a8ba-4e7d-ac77-feeb36747d38",
   "metadata": {},
   "outputs": [
    {
     "data": {
      "text/plain": [
       "[('the', 32),\n",
       " ('was', 6),\n",
       " ('would', 3),\n",
       " ('to', 2),\n",
       " ('were', 2),\n",
       " ('that', 2),\n",
       " ('they', 2),\n",
       " ('employees', 1),\n",
       " ('understood', 1),\n",
       " ('contract', 1)]"
      ]
     },
     "execution_count": 26,
     "metadata": {},
     "output_type": "execute_result"
    }
   ],
   "source": [
    "fdist_s_claude.most_common(10)"
   ]
  },
  {
   "cell_type": "code",
   "execution_count": 28,
   "id": "148bed65-78f6-4a82-aecf-d70068310d54",
   "metadata": {},
   "outputs": [],
   "source": [
    "gpt_count_np2 = 0\n",
    "gpt_count_s2 = 0\n",
    "\n",
    "with open(\"np_gpt2.txt\") as gpt_np, open(\"s_gpt2.txt\") as gpt_s:\n",
    "    for line in gpt_np:\n",
    "        gpt_count_np2 += 1\n",
    "    for line in gpt_s:\n",
    "        gpt_count_s2 += 1\n",
    "\n",
    "claude_count_np2 = 0\n",
    "claude_count_s2 = 0\n",
    "\n",
    "with open(\"np_claude2.txt\") as claude_np, open(\"s_claude2.txt\") as claude_s:\n",
    "    for line in claude_np:\n",
    "        claude_count_np2 += 1 \n",
    "    for line in claude_s:\n",
    "        claude_count_s2 += 1"
   ]
  },
  {
   "cell_type": "code",
   "execution_count": 29,
   "id": "fc6e1bd9-6e3a-469f-a65b-0e8533cfab95",
   "metadata": {},
   "outputs": [],
   "source": [
    "from matplotlib import pyplot as plt\n",
    "import numpy as np"
   ]
  },
  {
   "cell_type": "code",
   "execution_count": 30,
   "id": "c4fcab57-8cff-465a-b5ed-032ac45adc44",
   "metadata": {},
   "outputs": [
    {
     "data": {
      "image/png": "[encoded data removed]",
      "text/plain": [
       "<Figure size 640x480 with 1 Axes>"
      ]
     },
     "metadata": {},
     "output_type": "display_data"
    }
   ],
   "source": [
    "count_np2 = {\n",
    "    'chatGPT': gpt_count_np2,  \n",
    "    'Claude': claude_count_np2 \n",
    "}\n",
    "count_s2 = {\n",
    "    'chatGPT': gpt_count_s2,  \n",
    "    'Claude': claude_count_s2\n",
    "}\n",
    "\n",
    "LLMs = ['chatGPT', 'Claude']\n",
    "\n",
    "width = 0.6\n",
    "fig, ax = plt.subplots()\n",
    "\n",
    "x = np.arange(len(LLMs))\n",
    "\n",
    "bottom_np = np.zeros(len(LLMs))\n",
    "bottom_s = np.zeros(len(LLMs))\n",
    "\n",
    "for i, (LLM, count) in enumerate(count_np2.items()):\n",
    "    bars = ax.bar(x[i], count, width, label='{} NP'.format(LLM))\n",
    "    bottom_np[i] += count\n",
    "    ax.bar_label(bars, label_type='center')\n",
    "\n",
    "for i, (LLM, count) in enumerate(count_s2.items()):\n",
    "    bars = ax.bar(x[i], count, width, label='{} S'.format(LLM), bottom=bottom_np[i])\n",
    "    bottom_s[i] += count\n",
    "    ax.bar_label(bars, label_type='center')\n",
    "\n",
    "ax.set_ylabel('Counts')\n",
    "ax.set_title('Counts of NP and S by LLM')\n",
    "ax.set_xticks(x)\n",
    "ax.set_xticklabels(LLMs)\n",
    "ax.legend(bbox_to_anchor=(1.05, 1), loc='upper left')\n",
    "\n",
    "plt.show()"
   ]
  },
  {
   "cell_type": "code",
   "execution_count": 31,
   "id": "f7e576cb-7cfd-4877-ad6d-416d17b2d9ec",
   "metadata": {
    "scrolled": true
   },
   "outputs": [
    {
     "name": "stdout",
     "output_type": "stream",
     "text": [
      "The employees understood the contract's terms and conditions\n",
      "The mechanic accepted the car with a grateful smile\n",
      "The old man recalled the nurse who had cared for him during his recovery\n",
      "The traveller heard the clock chiming in the distance\n",
      "The worker maintained the walls with a fresh coat of paint\n",
      "The apprentice forgot the bicycle was leaning against the shed\n",
      "The committee mentioned the issue in their weekly meeting\n",
      "The army discovered the supplies hidden in a remote cave\n",
      "to stay behind the designated lines\n",
      "The artist conveyed the essence of melancholy through his haunting portrayal of the abandoned house\n",
      "The teacher expressed the concept that learning a second language enhances cognitive abilities\n",
      "The gardener detected the plants were infested with aphids\n",
      "was satisfied with the outcome of the project\n",
      "The detective uncovered the clue that broke the case wide open\n",
      "The author brainstormed the book, outlining each chapter in detail\n",
      "The man saw the doctor for his annual check-up\n",
      "The historian researched the era of the Roman Empire\n",
      "The musician composed the melody that would become a chart-topping hit\n",
      "The runner broke the record in the 100-meter dash\n",
      "The viewer predicted the scene would end in a dramatic confrontation\n",
      "The student studied the material diligently\n",
      "The doctor reviewed the case carefully to determine the best course of treatment\n",
      "The builder calculated the space needed for the new addition\n",
      "The teacher perceived the effort put forth by her students\n",
      "The traveler suggested the landmark be added to their itinerary\n",
      "The woman noticed the flyer was advertising a sale at the local grocery store\n",
      "The passengers feared the storm would cause their flight to be delayed\n",
      "The professor questioned the theory's validity\n",
      "The banker secured the loan to purchase a new house\n",
      "The politician stated the policy would be up for debate in the next session\n",
      "was a success\n",
      "The photographer captured the moment perfectly\n",
      "The baker found the recipe in an old cookbook\n",
      "\"The scientist proposed the hypothesis that the new drug would cure cancer\n",
      "to seek help from the school psychologist\n",
      "The driver inspected the vehicle before starting the engine\n",
      "The tourists distinguished the palace with its intricate architecture and vibrant colors\n",
      "The priest recognized the guests with a warm smile\n",
      "The owners insured the house against fire damage\n",
      "The lawyer established the alibi to prove the defendant's innocence\n"
     ]
    }
   ],
   "source": [
    "with open(\"no_cue_prompts.txt\") as prompts_file:\n",
    "    prompts = prompts_file.readlines()\n",
    "\n",
    "    sentences_gpt3 = []\n",
    "    for prompt in prompts:\n",
    "        complete_sentence = complete_gpt_sentences(prompt.strip())\n",
    "        sentences_gpt3.append(complete_sentence)\n",
    "        print(complete_sentence)"
   ]
  },
  {
   "cell_type": "code",
   "execution_count": 32,
   "id": "526e6327-dccd-4783-a2b6-886cfa04fafd",
   "metadata": {},
   "outputs": [],
   "source": [
    "with open('sentences_gpt3.txt', 'w') as f:\n",
    "    for line in sentences_gpt3:\n",
    "        f.write(\"%s\\n\" % line)"
   ]
  },
  {
   "cell_type": "code",
   "execution_count": null,
   "id": "10aa318d-8a85-4498-8d1b-a8c98b4e1870",
   "metadata": {},
   "outputs": [],
   "source": [
    "with open (\"sentences_gpt.txt\") as sentences: \n",
    "    sentences = ',\\n'.join([\n",
    "        f'{{\"sentence\": \"{sentence}\", \"is_NP\": true/false, \"is_S\": true/false}}'\n",
    "        for sentence in sentences\n",
    "    ])\n",
    "\n",
    "system_message = \"\"\"\n",
    "Classify each sentence based on its grammatical structure by determining whether each sentence is a noun phrase (is_NP), \n",
    "or a sentential complement (is_S). \n",
    "A noun phrase acts as the direct object of the main verb, while a sentential complement acts as the embedded subject in an upcoming \n",
    "subordinate clause, introduced by conjunctions like \"that\" and often related to thoughts, speech, perception, or feelings. \n",
    "\n",
    "Please provide your classification for each sentence in the JSON format, marking 'true' for the category that applies and \n",
    "'false' for those that do not. Each sentence should be classified into only one category.\n",
    "Format for classification:\n",
    "\n",
    "{\n",
    "    \"sentences\": [\n",
    "        \"\"\" + sentences + \"\"\"\n",
    "    ]\n",
    "}\n",
    "\"\"\"\n",
    "\n",
    "messages = [\n",
    "    {'role': 'system', 'content': system_message}\n",
    "]\n",
    "\n",
    "response = categorize_gpt_sentences(messages)\n",
    "with open(\"categorize_gpt_sentences.json\", \"w\") as file:\n",
    "    file.write(response)"
   ]
  }
 ],
 "metadata": {
  "kernelspec": {
   "display_name": "Python 3 (ipykernel)",
   "language": "python",
   "name": "python3"
  },
  "language_info": {
   "codemirror_mode": {
    "name": "ipython",
    "version": 3
   },
   "file_extension": ".py",
   "mimetype": "text/x-python",
   "name": "python",
   "nbconvert_exporter": "python",
   "pygments_lexer": "ipython3",
   "version": "3.11.5"
  }
 },
 "nbformat": 4,
 "nbformat_minor": 5
}
