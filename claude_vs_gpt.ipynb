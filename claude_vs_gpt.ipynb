{
 "cells": [
  {
   "cell_type": "code",
   "execution_count": 1,
   "id": "e6de1495-5509-4b82-b608-6f87bda21663",
   "metadata": {},
   "outputs": [],
   "source": [
    "import os\n",
    "import openai\n",
    "import tiktoken"
   ]
  },
  {
   "cell_type": "code",
   "execution_count": 2,
   "id": "54809091-f965-4f9e-a425-b377ac7efeeb",
   "metadata": {},
   "outputs": [],
   "source": [
    "from dotenv import load_dotenv, find_dotenv\n",
    "_ = load_dotenv(find_dotenv())\n",
    "\n",
    "open.api_key = os.environ['OPENAI_API_KEY']"
   ]
  },
  {
   "cell_type": "code",
   "execution_count": 6,
   "id": "2758b9d8-6f86-4d8c-86d7-c2e3c2114329",
   "metadata": {
    "scrolled": true
   },
   "outputs": [
    {
     "name": "stdout",
     "output_type": "stream",
     "text": [
      "The employees understood the contract was binding\n",
      "The mechanic accepted the car for repair\n",
      "The old man recalled the nurse who had cared for him during his time in the hospital\n",
      "The traveller heard the clock strike midnight\n",
      "The worker maintained the walls with a fresh coat of paint\n",
      "The apprentice forgot the bicycle in the garage\n",
      "The committee mentioned the issue at their meeting\n",
      "The army discovered the supplies hidden in the underground bunker\n",
      "The umpire warned the spectators to stay back from the playing field\n",
      "The artist discussed the concept of abstract expressionism\n",
      "The teacher expressed the idea that students should work together on the group project\n",
      "The gardener felt the plants with care\n",
      "The employee believed the client's story\n",
      "The detective found the clue in the abandoned house\n",
      "The author rejected the plot due to its lack of originality\n",
      "The man saw the doctor and received a clean bill of health\n",
      "The historian explained the past events\n",
      "The musician remembered the melody and hummed it to himself all day\n",
      "The child imagined the story coming to life\n",
      "The viewer predicted the scene would end in tragedy\n",
      "The student disregarded the material given by the teacher\n",
      "The doctor admitted the problem was more serious than initially thought\n",
      "The architect validated the construction with a thorough inspection\n",
      "The teacher perceived the effort of her students\n",
      "The traveler suggested the landmark as a must-see destination\n",
      "The woman noticed the flyer advertising the upcoming art exhibit\n",
      "The passengers feared the storm would cause their flight to be delayed\n",
      "The student claimed the hypothesis was incorrect\n",
      "The man reported the incident to the police\n",
      "The politician doubted the policy would be effective\n",
      "The nurse identified the patient with ease\n",
      "The photographer acknowledged the moment with a smile\n",
      "The baker found the recipe to be the secret to his famous chocolate cake\n",
      "The scientist proposed the hypothesis that the Earth revolves around the sun\n",
      "The counselor expected the student to excel in their upcoming exams\n",
      "The driver ignored the vehicle parked in the no parking zone\n",
      "The tourists confirmed the location of the hotel\n",
      "The priest recognized the guests with a warm smile\n",
      "The owners insured the house against fire and theft\n",
      "The lawyer established the alibi to prove his client's innocence\n"
     ]
    }
   ],
   "source": [
    "def complete_gpt_sentences(prompt, \n",
    "                           model=\"gpt-3.5-turbo\",\n",
    "                           temperature=0.7, \n",
    "                           max_tokens=200, \n",
    "                           stop=[\".\"]):\n",
    "    \n",
    "    user_prompt = f'''Here is the first half of a sentence: '{prompt}'. \n",
    "    Complete it as one full sentence that is either a noun phrase or a sentential complement, not both. \n",
    "    A sentential complement is a clause that follows and completes the meaning of the main verb. \n",
    "    Generate the full sentence only.'''\n",
    "    messages = [{'role': 'user', 'content': user_prompt}]\n",
    "    response = openai.chat.completions.create(\n",
    "        model=model,\n",
    "        messages=messages,\n",
    "        temperature=temperature,\n",
    "        max_tokens=max_tokens,\n",
    "        stop=stop\n",
    "    )\n",
    "    \n",
    "    return response.choices[0].message.content\n",
    "\n",
    "with open(\"no_cue_prompts.txt\") as prompts_file:\n",
    "    prompts = prompts_file.readlines()\n",
    "\n",
    "    sentences_gpt = []\n",
    "    for prompt in prompts:\n",
    "        complete_sentence = complete_gpt_sentences(prompt.strip())\n",
    "        sentences_gpt.append(complete_sentence)\n",
    "        print(complete_sentence)"
   ]
  },
  {
   "cell_type": "code",
   "execution_count": 7,
   "id": "4972545b-4963-457c-8059-5ca2117194ff",
   "metadata": {},
   "outputs": [],
   "source": [
    "with open('sentences_gpt.txt', 'w') as f:\n",
    "    for line in sentences_gpt:\n",
    "        f.write(\"%s\\n\" % line)"
   ]
  },
  {
   "cell_type": "code",
   "execution_count": 8,
   "id": "7834d2a4-2192-4cec-b40f-62f2c1f451f0",
   "metadata": {},
   "outputs": [],
   "source": [
    "def categorize_gpt_sentences(messages,\n",
    "                model=\"gpt-3.5-turbo\",\n",
    "                temperature=0,\n",
    "                max_tokens=3000):\n",
    "    response = openai.chat.completions.create(\n",
    "        model=model,\n",
    "        messages=messages,\n",
    "        temperature=temperature,\n",
    "        max_tokens=max_tokens,\n",
    "    )\n",
    "    return response.choices[0].message.content"
   ]
  },
  {
   "cell_type": "code",
   "execution_count": 9,
   "id": "4eddb9a8-d341-4a89-9124-4b2ef337ee97",
   "metadata": {},
   "outputs": [],
   "source": [
    "with open (\"sentences_gpt.txt\") as sentences: \n",
    "    sentences = ',\\n'.join([\n",
    "        f'{{\"sentence\": \"{sentence}\", \"is_NP\": true/false, \"is_S\": true/false}}'\n",
    "        for sentence in sentences\n",
    "    ])\n",
    "\n",
    "system_message = \"\"\"\n",
    "Classify each sentence based on its grammatical structure by determining whether each sentence is a noun phrase (is_NP), \n",
    "or a sentential complement (is_S). \n",
    "A noun phrase acts as the direct object of the main verb, while a sentential complement acts as the embedded subject in an upcoming \n",
    "subordinate clause, it is a clause that follows and completes the meaning of the main verb.\n",
    "\n",
    "Please provide your classification for each sentence in the JSON format, marking 'true' for the category that applies and \n",
    "'false' for those that do not. Each sentence should be classified into only one category.\n",
    "Format for classification:\n",
    "\n",
    "{\n",
    "    \"sentences\": [\n",
    "        \"\"\" + sentences + \"\"\"\n",
    "    ]\n",
    "}\n",
    "\"\"\"\n",
    "\n",
    "messages = [\n",
    "    {'role': 'system', 'content': system_message}\n",
    "]\n",
    "\n",
    "response = categorize_gpt_sentences(messages)\n",
    "with open(\"categorize_gpt_sentences.json\", \"w\") as file:\n",
    "    file.write(response)"
   ]
  },
  {
   "cell_type": "code",
   "execution_count": 11,
   "id": "4e341de2-f42c-4d0c-a5bd-e3168aecac08",
   "metadata": {},
   "outputs": [],
   "source": [
    "import nltk\n",
    "from nltk import FreqDist\n",
    "from nltk.tokenize import word_tokenize\n",
    "import re\n",
    "import json"
   ]
  },
  {
   "cell_type": "code",
   "execution_count": 30,
   "id": "239181d4-7a9b-48a1-83ec-8df2325396d6",
   "metadata": {},
   "outputs": [],
   "source": [
    "with open(\"categorize_gpt_sentences.json\") as gpt_sentences:    \n",
    "    data = json.load(gpt_sentences)\n",
    "    \n",
    "    with open('np_gpt.txt', 'w') as f: \n",
    "        for sentence in data['sentences']:\n",
    "            is_NP = sentence['is_NP']\n",
    "            if is_NP:\n",
    "                sentences = sentence['sentence'] \n",
    "                f.write(\"%s\\n\" % sentences)\n",
    "                \n",
    "    with open('s_gpt.txt', 'w') as f: \n",
    "        for sentence in data['sentences']:\n",
    "            is_S = sentence['is_S']\n",
    "            if is_S:\n",
    "                sentences = sentence['sentence'] \n",
    "                f.write(\"%s\\n\" % sentences)"
   ]
  },
  {
   "cell_type": "code",
   "execution_count": 31,
   "id": "150680b2-0b9e-45bc-a624-10523a0cffc0",
   "metadata": {},
   "outputs": [],
   "source": [
    "with open (\"np_gpt.txt\") as np_sentences, open (\"s_gpt.txt\") as s_sentences:\n",
    "    gpt_np_sentences = np_sentences.read().lower()\n",
    "    gpt_s_sentences = s_sentences.read().lower()\n",
    "    \n",
    "    gpt_np_tokens = nltk.word_tokenize(gpt_np_sentences)\n",
    "    fdist_np_gpt = FreqDist(gpt_np_tokens)\n",
    "    re_pattern = r'\\w+'\n",
    "    gpt_np_clean = []\n",
    "    \n",
    "    gpt_s_tokens = nltk.word_tokenize(gpt_s_sentences)\n",
    "    fdist_s_gpt = FreqDist(gpt_s_tokens)\n",
    "    re_pattern = r'\\w+'\n",
    "    gpt_s_clean = []\n",
    "    \n",
    "    for word in gpt_np_tokens:\n",
    "        if re.match(re_pattern, word):\n",
    "            gpt_np_clean.append(word)\n",
    "            \n",
    "    for word in gpt_s_tokens:\n",
    "        if re.match(re_pattern, word):\n",
    "            gpt_s_clean.append(word)"
   ]
  },
  {
   "cell_type": "code",
   "execution_count": 32,
   "id": "ab21eb73-4cac-4b2f-97cc-002abb5091aa",
   "metadata": {},
   "outputs": [
    {
     "name": "stdout",
     "output_type": "stream",
     "text": [
      "99\n"
     ]
    }
   ],
   "source": [
    "print(len(gpt_s_clean))"
   ]
  },
  {
   "cell_type": "code",
   "execution_count": 33,
   "id": "08e47834-fc22-4c33-a498-48a8826081ea",
   "metadata": {},
   "outputs": [
    {
     "name": "stdout",
     "output_type": "stream",
     "text": [
      "280\n"
     ]
    }
   ],
   "source": [
    "print(len(gpt_np_clean))"
   ]
  },
  {
   "cell_type": "code",
   "execution_count": 34,
   "id": "f6366891-8b04-458f-b704-1505fa614b0e",
   "metadata": {},
   "outputs": [
    {
     "data": {
      "text/plain": [
       "[('the', 24),\n",
       " ('was', 3),\n",
       " ('would', 3),\n",
       " ('to', 2),\n",
       " ('that', 2),\n",
       " ('be', 2),\n",
       " ('hypothesis', 2),\n",
       " ('employees', 1),\n",
       " ('understood', 1),\n",
       " ('contract', 1)]"
      ]
     },
     "execution_count": 34,
     "metadata": {},
     "output_type": "execute_result"
    }
   ],
   "source": [
    "fdist_s_gpt.most_common(10)"
   ]
  },
  {
   "cell_type": "code",
   "execution_count": 35,
   "id": "7f4061cb-04d7-486d-9496-e6af59acd46a",
   "metadata": {},
   "outputs": [
    {
     "data": {
      "text/plain": [
       "[('the', 70),\n",
       " ('to', 8),\n",
       " ('in', 6),\n",
       " ('with', 6),\n",
       " ('a', 6),\n",
       " ('of', 6),\n",
       " ('man', 3),\n",
       " ('his', 3),\n",
       " ('and', 3),\n",
       " ('for', 2)]"
      ]
     },
     "execution_count": 35,
     "metadata": {},
     "output_type": "execute_result"
    }
   ],
   "source": [
    "fdist_np_gpt.most_common(10)"
   ]
  },
  {
   "cell_type": "code",
   "execution_count": 3,
   "id": "1cf5b92e-d804-4c2d-b0fc-a7b90a2d6994",
   "metadata": {},
   "outputs": [],
   "source": [
    "open.api_key = os.environ['ANTHROPIC_API_KEY']\n",
    "import anthropic"
   ]
  },
  {
   "cell_type": "code",
   "execution_count": 4,
   "id": "740dc534-357c-42e7-9e74-fc7f9d5a55b2",
   "metadata": {
    "scrolled": true
   },
   "outputs": [
    {
     "name": "stdout",
     "output_type": "stream",
     "text": [
      "The employees understood the contract that was presented to them\n",
      "The mechanic accepted the car for repairs\n",
      "The old man recalled the nurse tending to his ailing wife\n",
      "The traveller heard the clock strike midnight\n",
      "The worker maintained the walls until they were spotless\n",
      "Sentential Complement:\n",
      "\n",
      "The apprentice forgot the bicycle that he had left at the park\n",
      "Sentential complement:\n",
      "The committee mentioned the issue that the organization had been struggling with for years\n",
      "The army discovered the supplies had been stolen\n",
      "The umpire warned the spectators that they should refrain from heckling the players\n",
      "The artist discussed the concept that his work was a reflection of the human experience\n",
      "Sentential complement:\n",
      "\n",
      "The teacher expressed the idea that the students should study more diligently\n",
      "The gardener felt the plants were thriving in the warm sunlight\n",
      "The employee believed the client was telling the truth\n",
      "Sentential complement:\n",
      "\n",
      "The detective found the clue that led to the suspect's arrest\n",
      "The author rejected the plot because it was too predictable\n",
      "Sentential complement:\n",
      "The man saw the doctor when he arrived at the hospital\n",
      "Sentential complement:\n",
      "The historian explained the past was a crucial period in the country's history\n",
      "The musician remembered the melody that he had played years ago\n",
      "Sentential complement:\n",
      "\n",
      "The child imagined the story was full of adventure\n",
      "Sentential complement:\n",
      "\n",
      "The viewer predicted that the scene would unfold as expected\n",
      "The student disregarded the material because it was too difficult to understand\n",
      "The doctor admitted that the problem was serious\n",
      "The architect validated the construction plans\n",
      "The teacher perceived the effort that the student put into the assignment\n",
      "The traveler suggested the landmark was worth visiting\n",
      "The woman noticed the flyer advertising the upcoming charity event\n",
      "The passengers feared the storm would be severe\n",
      "The student claimed that the hypothesis was correct\n",
      "Sentential complement:\n",
      "The man reported the incident that had occurred earlier that day\n",
      "The politician doubted the policy would be effective\n",
      "The nurse identified the patient was experiencing severe pain\n",
      "The photographer acknowledged the moment was a perfect capture\n",
      "The baker found the recipe that was hidden in the old cookbook\n",
      "Sentential complement:\n",
      "The scientist proposed the hypothesis that the experiment would yield surprising results\n",
      "The counselor expected the student to succeed\n",
      "The driver ignored the vehicle's warning lights\n",
      "The tourists confirmed the location was accurate\n",
      "The priest recognized the guests as they entered the church\n",
      "The owners insured the house against fire and theft\n",
      "The lawyer established the alibi that proved his client's innocence\n"
     ]
    }
   ],
   "source": [
    "import time\n",
    "\n",
    "def complete_claude_sentences(prompt):\n",
    "    message = anthropic.Anthropic().messages.create(\n",
    "        model=\"claude-3-haiku-20240307\",\n",
    "        temperature=0.7,\n",
    "        max_tokens=200,\n",
    "        stop_sequences=[\".\"],\n",
    "        messages=[\n",
    "            {\"role\": \"user\", \n",
    "             \"content\": f\"Here is the first half of a sentence: '{prompt}'. Complete it as one full sentence that is either a noun phrase or a sentential complement, not both. A sentential complement is a clause that follows and completes the meaning of the main verb. Generate the full sentence only.\"\n",
    "            }\n",
    "             ]\n",
    "    )\n",
    "    return message.content[0].text\n",
    "\n",
    "with open(\"no_cue_prompts.txt\") as prompts_file:\n",
    "    prompts = prompts_file.readlines()   \n",
    "    sentences_claude = []\n",
    "    \n",
    "    for prompt in prompts:\n",
    "        complete_sentence = complete_claude_sentences(prompt.strip())\n",
    "        sentences_claude.append(complete_sentence)\n",
    "        print(complete_sentence)\n",
    "        time.sleep(15)"
   ]
  },
  {
   "cell_type": "code",
   "execution_count": 5,
   "id": "acb11ffd-26f9-4d13-978d-3a1bb553e4f9",
   "metadata": {},
   "outputs": [],
   "source": [
    "with open('sentences_claude.txt', 'w') as f:\n",
    "    for line in sentences_claude:\n",
    "        f.write(\"%s\\n\" % line)"
   ]
  },
  {
   "cell_type": "code",
   "execution_count": 6,
   "id": "6cbbfc58-4889-4d8e-82c5-ca584248f49e",
   "metadata": {},
   "outputs": [],
   "source": [
    "def categorize_claude_sentences():\n",
    "    message = anthropic.Anthropic().messages.create(\n",
    "        model=\"claude-3-haiku-20240307\",\n",
    "        temperature=0,\n",
    "        max_tokens=3000,\n",
    "        stop_sequences=[\".\"],\n",
    "        messages=[\n",
    "            {\"role\": \"user\", \n",
    "             \"content\": system_message}\n",
    "        ]\n",
    "    )\n",
    "    return message.content[0].text\n",
    "\n",
    "with open (\"sentences_claude.txt\") as sentences: \n",
    "    sentences = ',\\n'.join([\n",
    "        f'{{\"sentence\": \"{sentence}\", \"is_NP\": true/false, \"is_S\": true/false}}'\n",
    "        for sentence in sentences\n",
    "    ])\n",
    "\n",
    "system_message = \"\"\"\n",
    "Classify each sentence based on its grammatical structure by determining whether each sentence is a noun phrase (is_NP), \n",
    "or a sentential complement (is_S). \n",
    "A noun phrase acts as the direct object of the main verb, while a sentential complement acts as the embedded subject in an upcoming \n",
    "subordinate clause, introduced by conjunctions like \"that\" and often related to thoughts, speech, perception, or feelings. \n",
    "For example, in \"She said that she was happy,\" \"that she was happy\" is a sentential complement.\n",
    "\n",
    "Please provide your classification for each sentence in the JSON format, marking 'true' for the category that applies and \n",
    "'false' for those that do not. Each sentence should be classified into only one category.\n",
    "Format for classification:\n",
    "\n",
    "{\n",
    "    \"sentences\": [\n",
    "        \"\"\" + sentences + \"\"\"\n",
    "    ]\n",
    "}\n",
    "\"\"\"\n",
    "\n",
    "response = categorize_claude_sentences()\n",
    "with open(\"cateogrize_claude_sentences.json\", \"w\") as file:\n",
    "    file.write(response)"
   ]
  },
  {
   "cell_type": "code",
   "execution_count": 21,
   "id": "dd6478ee-c1fa-4376-bdbe-a3c5552d5faa",
   "metadata": {},
   "outputs": [],
   "source": [
    "with open(\"cateogrize_claude_sentences.json\") as claude_sentences:    \n",
    "    data = json.load(claude_sentences)\n",
    "    \n",
    "    with open('np_claude.txt', 'w') as f: \n",
    "        for sentence in data['sentences']:\n",
    "            is_NP = sentence['is_NP']\n",
    "            if is_NP:\n",
    "                sentences = sentence['sentence'] \n",
    "                f.write(\"%s\\n\" % sentences)\n",
    "                \n",
    "    with open('s_claude.txt', 'w') as f: \n",
    "        for sentence in data['sentences']:\n",
    "            is_S = sentence['is_S']\n",
    "            if is_S:\n",
    "                sentences = sentence['sentence'] \n",
    "                f.write(\"%s\\n\" % sentences)"
   ]
  },
  {
   "cell_type": "code",
   "execution_count": 22,
   "id": "22f1ed65-9f96-4552-ba6f-40c571abd697",
   "metadata": {},
   "outputs": [],
   "source": [
    "with open (\"np_claude.txt\") as np_sentences, open (\"s_claude.txt\") as s_sentences:\n",
    "    claude_np_sentences = np_sentences.read().lower()\n",
    "    claude_s_sentences = s_sentences.read().lower()\n",
    "    \n",
    "    claude_np_tokens = nltk.word_tokenize(claude_np_sentences)\n",
    "    fdist_np_claude = FreqDist(claude_np_tokens)\n",
    "    re_pattern = r'\\w+'\n",
    "    claude_np_clean = []\n",
    "    \n",
    "    claude_s_tokens = nltk.word_tokenize(claude_s_sentences)\n",
    "    fdist_s_claude = FreqDist(claude_s_tokens)\n",
    "    re_pattern = r'\\w+'\n",
    "    claude_s_clean = []\n",
    "    \n",
    "    for word in claude_np_tokens:\n",
    "        if re.match(re_pattern, word):\n",
    "            claude_np_clean.append(word)\n",
    "            \n",
    "    for word in claude_s_tokens:\n",
    "        if re.match(re_pattern, word):\n",
    "            claude_s_clean.append(word)"
   ]
  },
  {
   "cell_type": "code",
   "execution_count": 23,
   "id": "d2074e55-1dfb-4e2a-9d27-d374313464d3",
   "metadata": {},
   "outputs": [
    {
     "name": "stdout",
     "output_type": "stream",
     "text": [
      "184\n"
     ]
    }
   ],
   "source": [
    "print(len(claude_s_clean))"
   ]
  },
  {
   "cell_type": "code",
   "execution_count": 24,
   "id": "c6be2700-8586-4297-a089-f8f45d042071",
   "metadata": {},
   "outputs": [
    {
     "name": "stdout",
     "output_type": "stream",
     "text": [
      "212\n"
     ]
    }
   ],
   "source": [
    "print(len(claude_np_clean))"
   ]
  },
  {
   "cell_type": "code",
   "execution_count": 25,
   "id": "499af796-da52-4ab4-8acf-6328310b433c",
   "metadata": {},
   "outputs": [
    {
     "data": {
      "text/plain": [
       "[('the', 51),\n",
       " ('that', 10),\n",
       " ('to', 5),\n",
       " ('was', 4),\n",
       " ('had', 4),\n",
       " ('man', 3),\n",
       " ('he', 3),\n",
       " (\"'s\", 3),\n",
       " ('student', 3),\n",
       " ('for', 2)]"
      ]
     },
     "execution_count": 25,
     "metadata": {},
     "output_type": "execute_result"
    }
   ],
   "source": [
    "fdist_np_claude.most_common(10)"
   ]
  },
  {
   "cell_type": "code",
   "execution_count": 26,
   "id": "2e43d2bd-73d3-42cf-81f3-bb4f0c519414",
   "metadata": {},
   "outputs": [
    {
     "data": {
      "text/plain": [
       "[('the', 45),\n",
       " ('was', 10),\n",
       " ('that', 7),\n",
       " ('would', 4),\n",
       " ('a', 3),\n",
       " ('should', 2),\n",
       " ('of', 2),\n",
       " ('in', 2),\n",
       " ('be', 2),\n",
       " ('severe', 2)]"
      ]
     },
     "execution_count": 26,
     "metadata": {},
     "output_type": "execute_result"
    }
   ],
   "source": [
    "fdist_s_claude.most_common(10)"
   ]
  },
  {
   "cell_type": "code",
   "execution_count": 36,
   "id": "ea1baa81-9a93-4641-ac75-71764dfb8961",
   "metadata": {},
   "outputs": [],
   "source": [
    "gpt_count_np = 0\n",
    "gpt_count_s = 0\n",
    "\n",
    "with open(\"np_gpt.txt\") as gpt_np, open(\"s_gpt.txt\") as gpt_s:\n",
    "    for line in gpt_np:\n",
    "        gpt_count_np += 1\n",
    "    for line in gpt_s:\n",
    "        gpt_count_s += 1\n",
    "\n",
    "claude_count_np = 0\n",
    "claude_count_s = 0\n",
    "\n",
    "with open(\"np_claude.txt\") as claude_np, open(\"s_claude.txt\") as claude_s:\n",
    "    for line in claude_np:\n",
    "        claude_count_np += 1 \n",
    "    for line in claude_s:\n",
    "        claude_count_s += 1"
   ]
  },
  {
   "cell_type": "code",
   "execution_count": 28,
   "id": "14e76dce-a827-42a1-bf75-61739632e21d",
   "metadata": {},
   "outputs": [],
   "source": [
    "from matplotlib import pyplot as plt\n",
    "import numpy as np"
   ]
  },
  {
   "cell_type": "code",
   "execution_count": 37,
   "id": "34217633-3b26-4f1c-a693-3b6add7a50cf",
   "metadata": {},
   "outputs": [
    {
     "data": {
      "image/png": "[encoded data removed]",
      "text/plain": [
       "<Figure size 640x480 with 1 Axes>"
      ]
     },
     "metadata": {},
     "output_type": "display_data"
    }
   ],
   "source": [
    "count_np = {\n",
    "    'chatGPT': gpt_count_np,  \n",
    "    'Claude': claude_count_np \n",
    "}\n",
    "count_s = {\n",
    "    'chatGPT': gpt_count_s,  \n",
    "    'Claude': claude_count_s\n",
    "}\n",
    "\n",
    "LLMs = ['chatGPT', 'Claude']\n",
    "\n",
    "width = 0.6\n",
    "fig, ax = plt.subplots()\n",
    "\n",
    "x = np.arange(len(LLMs))\n",
    "\n",
    "bottom_np = np.zeros(len(LLMs))\n",
    "bottom_s = np.zeros(len(LLMs))\n",
    "\n",
    "for i, (LLM, count) in enumerate(count_np.items()):\n",
    "    bars = ax.bar(x[i], count, width, label='{} NP'.format(LLM))\n",
    "    bottom_np[i] += count\n",
    "    ax.bar_label(bars, label_type='center')\n",
    "\n",
    "for i, (LLM, count) in enumerate(count_s.items()):\n",
    "    bars = ax.bar(x[i], count, width, label='{} S'.format(LLM), bottom=bottom_np[i])\n",
    "    bottom_s[i] += count\n",
    "    ax.bar_label(bars, label_type='center')\n",
    "\n",
    "ax.set_ylabel('Counts')\n",
    "ax.set_title('Counts of NP and S by LLM')\n",
    "ax.set_xticks(x)\n",
    "ax.set_xticklabels(LLMs)\n",
    "ax.legend(bbox_to_anchor=(1.05, 1), loc='upper left')\n",
    "\n",
    "plt.show()"
   ]
  }
 ],
 "metadata": {
  "kernelspec": {
   "display_name": "Python 3 (ipykernel)",
   "language": "python",
   "name": "python3"
  },
  "language_info": {
   "codemirror_mode": {
    "name": "ipython",
    "version": 3
   },
   "file_extension": ".py",
   "mimetype": "text/x-python",
   "name": "python",
   "nbconvert_exporter": "python",
   "pygments_lexer": "ipython3",
   "version": "3.11.5"
  }
 },
 "nbformat": 4,
 "nbformat_minor": 5
}
