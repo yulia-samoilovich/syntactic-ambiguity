{
 "cells": [
  {
   "cell_type": "code",
   "execution_count": 1,
   "id": "edbf023b-374f-4c6c-9d05-1ddfb5a23238",
   "metadata": {},
   "outputs": [],
   "source": [
    "import os\n",
    "import openai\n",
    "import tiktoken"
   ]
  },
  {
   "cell_type": "code",
   "execution_count": 2,
   "id": "3f1e4a88-7858-43a8-aa2e-c4ed77502d81",
   "metadata": {},
   "outputs": [],
   "source": [
    "from dotenv import load_dotenv, find_dotenv\n",
    "_ = load_dotenv(find_dotenv())\n",
    "\n",
    "open.api_key = os.environ['OPENAI_API_KEY']"
   ]
  },
  {
   "cell_type": "code",
   "execution_count": 15,
   "id": "2f25e489-1faa-4bd2-b1b3-a40c065249c4",
   "metadata": {
    "scrolled": true
   },
   "outputs": [
    {
     "name": "stdout",
     "output_type": "stream",
     "text": [
      "S: 'The employees understood the contract was legally binding\n",
      "NP completion: The mechanic accepted the car with a faulty transmission\n",
      "S: The old man recalled the nurse was the one who held his hand during his darkest days in the hospital\n",
      "The traveller heard the clock strike midnight\n",
      "S: 'The worker maintained the walls were in good condition\n",
      "S: The apprentice forgot the bicycle was his only mode of transportation\n",
      "The committee mentioned the issue that had been causing tension among the team\n",
      "S: The army found the supplies were already taken by the enemy\n",
      "The umpire warned the spectators to refrain from disruptive behavior\n",
      "S: of the bustling city streets with vibrant colors and dynamic brushstrokes\n",
      "S: 'The teacher explained the concept was difficult for some students to grasp\n",
      "The gardener observed the plants blooming beautifully in the morning sun\n",
      "The chef tasted the sauce to see if it needed more salt\n",
      "The detective uncovered the clue that led to the arrest of the suspect\n",
      "The author finished the chapter, relieved to finally reach the end after weeks of writing\n",
      "NP: The programmer debugged the software with meticulous attention to detail\n",
      "The historian researched the era of the Roman Empire\n",
      "NP completion: The musician composed the melody in just one night\n",
      "S: The runner broke the record is the fastest time ever recorded\n",
      "S: showing the actor's emotional range\n",
      "The student studied the material diligently for hours\n",
      "S: The doctor reviewed the case and determined that surgery was necessary\n",
      "The builder measured the space to ensure the new kitchen cabinets would fit perfectly\n",
      "NP: The driver followed the route marked on the map\n",
      "S: 'The teacher praised the effort that the student put into their project'\n",
      "NP Completion: The critic reviewed the performance with a critical eye\n",
      "The traveler visited the landmark to learn about its history\n",
      "S: The woman noticed the flyer advertising the upcoming concert\n",
      "The pilot navigated the storm with skill and precision\n",
      "S: The journalist wrote the article that exposed corruption within the government\n",
      "The professor questioned the theory that had been widely accepted in the scientific community\n",
      "The banker secured the loan for the new business venture\n",
      "NP completion: 'The actor rehearsed the lines flawlessly\n",
      "The politician debated the policy for hours, hoping to sway voters\n",
      "NP: 'The surgeon performed the procedure successfully\n",
      "The architect designed the building with intricate details and modern features\n",
      "The dancer practiced the routine until she had it perfectly memorized\n",
      "The photographer captured the moment of pure joy on the bride's face\n",
      "The librarian organized the collection by genre\n",
      "S: that his new app would revolutionize the way people communicate\n",
      "S: The baker perfected the recipe so that it was loved by all who tasted it\n",
      "The scientist proposed the hypothesis that global warming is caused by human activity\n",
      "S: that he should consider taking a break from his studies to focus on his mental health\n",
      "NP: The driver inspected the vehicle for any signs of damage\n",
      "S: The coach developed the strategy that would lead the team to victory\n",
      "The inspector examined the property for any signs of damage\n",
      "The tourists saw the palace that was once home to royalty\n",
      "The priest recognized the guests as members of the parish\n",
      "S: 'The owners insured the house is now protected against potential damages\n",
      "The lawyer established the alibi that his client was out of town at the time of the crime\n"
     ]
    }
   ],
   "source": [
    "def complete_gpt_sentences(prompt, \n",
    "                           model=\"gpt-3.5-turbo\",\n",
    "                           temperature=0.7, \n",
    "                           max_tokens=100, \n",
    "                           stop=[\".\"]):\n",
    "    \n",
    "    user_prompt = f\"Here is the first half of a sentence: '{prompt}'. \n",
    "    Complete it with one full sentence that is either a noun phrase or a sentential complement, not both. \n",
    "    A sentential complement is a clause that follows and completes the meaning of the main verb. \n",
    "    Generate the full sentence only.\"\n",
    "    messages = [{'role': 'user', 'content': user_prompt}]\n",
    "    response = openai.chat.completions.create(\n",
    "        model=model,\n",
    "        messages=messages,\n",
    "        temperature=temperature,\n",
    "        max_tokens=max_tokens,\n",
    "        stop=stop\n",
    "    )\n",
    "    \n",
    "    return response.choices[0].message.content\n",
    "\n",
    "with open(\"no_cue_prompts.txt\") as prompts_file:\n",
    "    prompts = prompts_file.readlines()\n",
    "\n",
    "    sentences_gpt = []\n",
    "    for prompt in prompts:\n",
    "        complete_sentence = complete_gpt_sentences(prompt.strip())\n",
    "        sentences_gpt.append(complete_sentence)\n",
    "        print(complete_sentence)"
   ]
  },
  {
   "cell_type": "code",
   "execution_count": 16,
   "id": "ee10cb2c-a9f2-4db7-a737-0ab0430cabeb",
   "metadata": {},
   "outputs": [],
   "source": [
    "with open('gpt_sentences.txt', 'w') as f:\n",
    "    for line in sentences_gpt:\n",
    "        f.write(\"%s\\n\" % line)"
   ]
  },
  {
   "cell_type": "code",
   "execution_count": 18,
   "id": "d086d642-eba8-4986-8bfa-17132bc4778e",
   "metadata": {},
   "outputs": [],
   "source": [
    "import spacy\n",
    "from spacy import displacy\n",
    "from pathlib import Path"
   ]
  },
  {
   "cell_type": "code",
   "execution_count": 19,
   "id": "3ed80231-0402-4bed-9a69-231298069b22",
   "metadata": {},
   "outputs": [],
   "source": [
    "nlp = spacy.load(\"en_core_web_sm\")"
   ]
  },
  {
   "cell_type": "code",
   "execution_count": null,
   "id": "db7ae549-302e-42e4-a12f-5e11552ae8a0",
   "metadata": {
    "scrolled": true
   },
   "outputs": [],
   "source": [
    "with open('gpt_sentences.txt') as gpt_output:\n",
    "    for line in gpt_output:\n",
    "        sentence = line.strip()\n",
    "        doc = nlp(sentence)\n",
    "        displacy.render(doc, style=\"dep\")\n",
    "\n",
    "        for token in doc:\n",
    "            print(f\"{token.text}: {token.dep_} from {token.head.text}\")\n",
    "        \n",
    "        \n",
    "        has_sentential_complement = any(token.dep_ in [\"ccomp\", \"xcomp\"] for token in doc)\n",
    "        print(f\"Has Sentential Complement: {has_sentential_complement}\")"
   ]
  },
  {
   "cell_type": "code",
   "execution_count": 55,
   "id": "991e27dc-024b-4779-a2a3-6999e82c7ad9",
   "metadata": {},
   "outputs": [],
   "source": [
    "def categorize_sentences(messages,\n",
    "                model=\"gpt-3.5-turbo\",\n",
    "                temperature=0,\n",
    "                max_tokens=3000):\n",
    "    response = openai.chat.completions.create(\n",
    "        model=model,\n",
    "        messages=messages,\n",
    "        temperature=temperature,\n",
    "        max_tokens=max_tokens,\n",
    "    )\n",
    "    return response.choices[0].message.content"
   ]
  },
  {
   "cell_type": "code",
   "execution_count": 23,
   "id": "25e06eb0-21d7-4f70-b201-efdd1d1ad3c4",
   "metadata": {},
   "outputs": [],
   "source": [
    "with open (\"gpt_sentences.txt\") as sentences: \n",
    "    sentences = ',\\n'.join([\n",
    "        f'{{\"sentence\": \"{sentence}\", \"is_NP\": true/false, \"is_S\": true/false}}'\n",
    "        for sentence in sentences\n",
    "    ])\n",
    "\n",
    "system_message = \"\"\"\n",
    "Classify each sentence based on its grammatical structure by determining whether each sentence is a noun phrase (is_NP), \n",
    "or a sentential complement (is_S). \n",
    "A noun phrase acts as the direct object of the main verb, while a sentential complement acts as the embedded subject in an upcoming \n",
    "subordinate clause, introduced by conjunctions like \"that\" and often related to thoughts, speech, perception, or feelings. \n",
    "For example, in \"She said that she was happy,\" \"that she was happy\" is a sentential complement.\n",
    "\n",
    "Please provide your classification for each sentence in the JSON format, marking 'true' for the category that applies and \n",
    "'false' for those that do not. Each sentence should be classified into only one category.\n",
    "Format for classification:\n",
    "\n",
    "{\n",
    "    \"sentences\": [\n",
    "        \"\"\" + sentences + \"\"\"\n",
    "    ]\n",
    "}\n",
    "\"\"\"\n",
    "\n",
    "messages = [\n",
    "    {'role': 'system', 'content': system_message}\n",
    "]\n",
    "\n",
    "response = categorize_sentences(messages)\n",
    "with open(\"gpt_output.json\", \"w\") as file:\n",
    "    file.write(response)"
   ]
  },
  {
   "cell_type": "code",
   "execution_count": 19,
   "id": "43704f1d-e54b-4d67-b950-35f067dab717",
   "metadata": {},
   "outputs": [],
   "source": [
    "import nltk\n",
    "from nltk import FreqDist\n",
    "from nltk.tokenize import word_tokenize\n",
    "import re\n",
    "import json"
   ]
  },
  {
   "cell_type": "code",
   "execution_count": 20,
   "id": "5721c9b8-7f71-4ca5-a696-7556397e238f",
   "metadata": {},
   "outputs": [],
   "source": [
    "with open(\"gpt_output.json\") as gpt_sentences:    \n",
    "    data = json.load(gpt_sentences)\n",
    "    \n",
    "    with open('np_gpt.txt', 'w') as f: \n",
    "        for sentence in data['sentences']:\n",
    "            is_NP = sentence['is_NP']\n",
    "            if is_NP:\n",
    "                sentences = sentence['sentence'] \n",
    "                f.write(\"%s\\n\" % sentences)\n",
    "                \n",
    "    with open('s_gpt.txt', 'w') as f: \n",
    "        for sentence in data['sentences']:\n",
    "            is_S = sentence['is_S']\n",
    "            if is_S:\n",
    "                sentences = sentence['sentence'] \n",
    "                f.write(\"%s\\n\" % sentences)"
   ]
  },
  {
   "cell_type": "code",
   "execution_count": 21,
   "id": "97b7942f-4d0d-406a-b173-98e46539d45c",
   "metadata": {},
   "outputs": [],
   "source": [
    "with open (\"np_gpt.txt\") as np_sentences, open (\"s_gpt.txt\") as s_sentences:\n",
    "    gpt_np_sentences = np_sentences.read().lower()\n",
    "    gpt_s_sentences = s_sentences.read().lower()\n",
    "    \n",
    "    gpt_np_tokens = nltk.word_tokenize(gpt_np_sentences)\n",
    "    fdist_np_gpt = FreqDist(gpt_np_tokens)\n",
    "    re_pattern = r'\\w+'\n",
    "    gpt_np_clean = []\n",
    "    \n",
    "    gpt_s_tokens = nltk.word_tokenize(gpt_s_sentences)\n",
    "    fdist_s_gpt = FreqDist(gpt_s_tokens)\n",
    "    re_pattern = r'\\w+'\n",
    "    gpt_s_clean = []\n",
    "    \n",
    "    for word in gpt_np_tokens:\n",
    "        if re.match(re_pattern, word):\n",
    "            gpt_np_clean.append(word)\n",
    "            \n",
    "    for word in gpt_s_tokens:\n",
    "        if re.match(re_pattern, word):\n",
    "            gpt_s_clean.append(word)"
   ]
  },
  {
   "cell_type": "code",
   "execution_count": 22,
   "id": "27b013b7-5651-49e2-9f0e-961232427867",
   "metadata": {},
   "outputs": [
    {
     "name": "stdout",
     "output_type": "stream",
     "text": [
      "78\n"
     ]
    }
   ],
   "source": [
    "print(len(gpt_s_clean))"
   ]
  },
  {
   "cell_type": "code",
   "execution_count": 23,
   "id": "90919e31-ac7a-4307-ab3b-e6cc0e761976",
   "metadata": {},
   "outputs": [
    {
     "name": "stdout",
     "output_type": "stream",
     "text": [
      "484\n"
     ]
    }
   ],
   "source": [
    "print(len(gpt_np_clean))"
   ]
  },
  {
   "cell_type": "code",
   "execution_count": 24,
   "id": "e0aa1b78-6fbf-43b7-a9e5-5b14768ae9e3",
   "metadata": {},
   "outputs": [
    {
     "data": {
      "text/plain": [
       "[('the', 17),\n",
       " ('was', 4),\n",
       " ('his', 3),\n",
       " ('in', 2),\n",
       " ('were', 2),\n",
       " ('employees', 1),\n",
       " ('understood', 1),\n",
       " ('contract', 1),\n",
       " ('legally', 1),\n",
       " ('binding', 1)]"
      ]
     },
     "execution_count": 24,
     "metadata": {},
     "output_type": "execute_result"
    }
   ],
   "source": [
    "fdist_s_gpt.most_common(10)"
   ]
  },
  {
   "cell_type": "code",
   "execution_count": 25,
   "id": "2f5719fa-5524-4c08-bc03-c0fbba1ee7d9",
   "metadata": {},
   "outputs": [
    {
     "data": {
      "text/plain": [
       "[('the', 108),\n",
       " ('that', 13),\n",
       " ('to', 11),\n",
       " ('of', 10),\n",
       " ('with', 6),\n",
       " ('for', 5),\n",
       " ('and', 4),\n",
       " ('it', 4),\n",
       " ('was', 4),\n",
       " ('his', 4)]"
      ]
     },
     "execution_count": 25,
     "metadata": {},
     "output_type": "execute_result"
    }
   ],
   "source": [
    "fdist_np_gpt.most_common(10)"
   ]
  },
  {
   "cell_type": "code",
   "execution_count": 26,
   "id": "eaa5553d-1380-466c-83a8-fdbebb08b2d7",
   "metadata": {},
   "outputs": [],
   "source": [
    "open.api_key = os.environ['ANTHROPIC_API_KEY']\n",
    "import anthropic"
   ]
  },
  {
   "cell_type": "code",
   "execution_count": 16,
   "id": "532e93cc-2dd6-4f64-8458-c7da20d8f9c8",
   "metadata": {
    "scrolled": true
   },
   "outputs": [
    {
     "name": "stdout",
     "output_type": "stream",
     "text": [
      "The employees understood the contract that they had signed last month\n",
      "The mechanic accepted the car that the customer had brought in for repairs\n",
      "The old man recalled the nurse had been very kind to him during his stay in the hospital\n",
      "The traveller heard the clock strike midnight\n",
      "The worker maintained the walls until they were spotless\n",
      "The apprentice forgot the bicycle that he had left in the garage\n",
      "The committee mentioned the issue that the project was over budget\n",
      "The army found the supplies that had been hidden in the warehouse\n",
      "The umpire warned the spectators that they should not interfere with the game\n",
      "The artist captured the essence of the sunset\n",
      "The teacher explained the concept that the students had difficulty understanding\n",
      "The gardener observed the plants thriving in the warm sunlight\n",
      "The chef tasted the sauce and found it to be perfectly seasoned\n",
      "The detective uncovered the clue that the suspect had hidden in the bushes\n",
      "The author finished the chapter that was well-received by the readers\n",
      "The programmer debugged the software that contained a critical bug\n",
      "The historian researched the era when the ancient civilization flourished\n",
      "The musician composed the melody that was hauntingly beautiful\n",
      "The runner broke the record because it was an outstanding performance\n",
      "The director filmed the scene where the actors performed their roles with enthusiasm\n",
      "The student studied the material before the exam\n",
      "The doctor reviewed the case that the patient's condition had improved significantly\n",
      "The builder measured the space to ensure it was suitable for the new kitchen appliances\n",
      "The driver followed the route that led to the city\n",
      "The teacher praised the effort that the student had put into the assignment\n",
      "The critic reviewed the performance, and it was outstanding\n",
      "The traveler visited the landmark that was known for its historical significance\n",
      "The woman noticed the flyer advertising the upcoming concert\n",
      "The pilot navigated the storm, which was a treacherous ordeal\n",
      "The journalist wrote the article that exposed the corruption within the government\n",
      "The professor questioned the theory that the experiment's results were inconclusive\n",
      "The banker secured the loan that would provide the necessary funding for the expansion project\n",
      "The actor rehearsed the lines carefully\n",
      "The politician debated the policy, which was a controversial issue in the upcoming election\n",
      "The surgeon performed the procedure with great precision\n",
      "The architect designed the building to be a modern and sustainable structure\n",
      "The dancer practiced the routine until she was satisfied with her performance\n",
      "The photographer captured the moment when the couple exchanged their vows\n",
      "The librarian organized the collection to ensure easy access for patrons\n",
      "The entrepreneur pitched the idea to the investors\n",
      "The baker perfected the recipe and sold it at the local farmer's market\n",
      "The scientist proposed the hypothesis that the new experiment would yield surprising results\n",
      "The counselor advised the student to apply for the scholarship\n",
      "The driver inspected the vehicle and found that the tires were worn\n",
      "The coach developed the strategy to help the team win the championship\n",
      "The inspector examined the property and found that the roof needed repairs\n",
      "The tourists saw the palace that was built in the 18th century\n",
      "The priest recognized the guests who had arrived for the ceremony\n",
      "The owners insured the house against any potential damage\n",
      "The lawyer established the alibi that the defendant was at home at the time of the crime\n"
     ]
    }
   ],
   "source": [
    "import time\n",
    "\n",
    "def complete_sentences_claude(prompt):\n",
    "    message = anthropic.Anthropic().messages.create(\n",
    "        model=\"claude-3-haiku-20240307\",\n",
    "        temperature=0.7,\n",
    "        max_tokens=100,\n",
    "        stop_sequences=[\".\"],\n",
    "        messages=[\n",
    "            {\"role\": \"user\", \n",
    "             \"content\": f\"Here is the first half of a sentence: '{prompt}'. Complete it with one full sentence that is either a noun phrase or a sentential complement, not both. A sentential complement completion means that the first half of the sentence needs to be followed by a verb that takes a sentential complement. Generate the full sentence only.\"\n",
    "            }\n",
    "             ]\n",
    "    )\n",
    "    return message.content[0].text\n",
    "\n",
    "with open(\"no_cue_prompts.txt\") as prompts_file:\n",
    "    prompts = prompts_file.readlines()   \n",
    "    sentences_claude = []\n",
    "    \n",
    "    for prompt in prompts:\n",
    "        complete_sentence = complete_sentences_claude(prompt.strip())\n",
    "        sentences_claude.append(complete_sentence)\n",
    "        print(complete_sentence)\n",
    "        time.sleep(15)"
   ]
  },
  {
   "cell_type": "code",
   "execution_count": 17,
   "id": "810f5b4f-bbe7-46f3-9a7c-7cc8f018d5e4",
   "metadata": {},
   "outputs": [],
   "source": [
    "with open('claude_sentences.txt', 'w') as f:\n",
    "    for line in sentences_claude:\n",
    "        f.write(\"%s\\n\" % line)"
   ]
  },
  {
   "cell_type": "code",
   "execution_count": 18,
   "id": "b03fcc86-af83-46cd-af77-635254ded34e",
   "metadata": {},
   "outputs": [],
   "source": [
    "def categorize_claude_sentences():\n",
    "    message = anthropic.Anthropic().messages.create(\n",
    "        model=\"claude-3-haiku-20240307\",\n",
    "        temperature=0,\n",
    "        max_tokens=3000,\n",
    "        stop_sequences=[\".\"],\n",
    "        messages=[\n",
    "            {\"role\": \"user\", \n",
    "             \"content\": system_message}\n",
    "        ]\n",
    "    )\n",
    "    return message.content[0].text\n",
    "\n",
    "with open (\"claude_sentences.txt\") as sentences: \n",
    "    sentences = ',\\n'.join([\n",
    "        f'{{\"sentence\": \"{sentence}\", \"is_NP\": true/false, \"is_S\": true/false}}'\n",
    "        for sentence in sentences\n",
    "    ])\n",
    "\n",
    "system_message = \"\"\"\n",
    "Classify each sentence based on its grammatical structure by determining whether each sentence is a noun phrase (is_NP), \n",
    "or a sentential complement (is_S). \n",
    "A noun phrase acts as the direct object of the main verb, while a sentential complement acts as the embedded subject in an upcoming \n",
    "subordinate clause, introduced by conjunctions like \"that\" and often related to thoughts, speech, perception, or feelings. \n",
    "For example, in \"She said that she was happy,\" \"that she was happy\" is a sentential complement.\n",
    "\n",
    "Please provide your classification for each sentence in the JSON format, marking 'true' for the category that applies and \n",
    "'false' for those that do not. Each sentence should be classified into only one category.\n",
    "Format for classification:\n",
    "\n",
    "{\n",
    "    \"sentences\": [\n",
    "        \"\"\" + sentences + \"\"\"\n",
    "    ]\n",
    "}\n",
    "\"\"\"\n",
    "\n",
    "response = categorize_claude_sentences()\n",
    "with open(\"claude_output.json\", \"w\") as file:\n",
    "    file.write(response)"
   ]
  },
  {
   "cell_type": "code",
   "execution_count": 36,
   "id": "78b7661f-3571-4095-81c3-4d2b094fd53d",
   "metadata": {},
   "outputs": [],
   "source": [
    "with open(\"claude_output.json\") as claude_sentences:    \n",
    "    data = json.load(claude_sentences)\n",
    "    \n",
    "    with open('np_claude.txt', 'w') as f: \n",
    "        for sentence in data['sentences']:\n",
    "            is_NP = sentence['is_NP']\n",
    "            if is_NP:\n",
    "                sentences = sentence['sentence'] \n",
    "                f.write(\"%s\\n\" % sentences)\n",
    "                \n",
    "    with open('s_claude.txt', 'w') as f: \n",
    "        for sentence in data['sentences']:\n",
    "            is_S = sentence['is_S']\n",
    "            if is_S:\n",
    "                sentences = sentence['sentence'] \n",
    "                f.write(\"%s\\n\" % sentences)"
   ]
  },
  {
   "cell_type": "code",
   "execution_count": 37,
   "id": "19432fd0-fe50-4cb8-b957-75fa01c886f7",
   "metadata": {},
   "outputs": [],
   "source": [
    "with open (\"np_claude.txt\") as np_sentences, open (\"s_claude.txt\") as s_sentences:\n",
    "    claude_np_sentences = np_sentences.read().lower()\n",
    "    claude_s_sentences = s_sentences.read().lower()\n",
    "    \n",
    "    claude_np_tokens = nltk.word_tokenize(claude_np_sentences)\n",
    "    fdist_np_claude = FreqDist(claude_np_tokens)\n",
    "    re_pattern = r'\\w+'\n",
    "    claude_np_clean = []\n",
    "    \n",
    "    claude_s_tokens = nltk.word_tokenize(claude_s_sentences)\n",
    "    fdist_s_claude = FreqDist(claude_s_tokens)\n",
    "    re_pattern = r'\\w+'\n",
    "    claude_s_clean = []\n",
    "    \n",
    "    for word in claude_np_tokens:\n",
    "        if re.match(re_pattern, word):\n",
    "            claude_np_clean.append(word)\n",
    "            \n",
    "    for word in claude_s_tokens:\n",
    "        if re.match(re_pattern, word):\n",
    "            claude_s_clean.append(word)"
   ]
  },
  {
   "cell_type": "code",
   "execution_count": 38,
   "id": "7788c94c-7c1e-42a1-bff5-bdec8fe58ebc",
   "metadata": {},
   "outputs": [
    {
     "name": "stdout",
     "output_type": "stream",
     "text": [
      "129\n"
     ]
    }
   ],
   "source": [
    "print(len(claude_s_clean))"
   ]
  },
  {
   "cell_type": "code",
   "execution_count": 39,
   "id": "37140940-f91d-40b2-8a75-63c84981d0ac",
   "metadata": {},
   "outputs": [
    {
     "name": "stdout",
     "output_type": "stream",
     "text": [
      "434\n"
     ]
    }
   ],
   "source": [
    "print(len(claude_np_clean))"
   ]
  },
  {
   "cell_type": "code",
   "execution_count": 40,
   "id": "cbe90b37-8bed-4b3e-b017-a14faa219df8",
   "metadata": {},
   "outputs": [
    {
     "data": {
      "text/plain": [
       "[('the', 112),\n",
       " ('that', 20),\n",
       " ('had', 9),\n",
       " ('was', 9),\n",
       " ('in', 7),\n",
       " ('for', 6),\n",
       " ('to', 5),\n",
       " ('a', 3),\n",
       " ('with', 3),\n",
       " ('student', 3)]"
      ]
     },
     "execution_count": 40,
     "metadata": {},
     "output_type": "execute_result"
    }
   ],
   "source": [
    "fdist_np_claude.most_common(10)"
   ]
  },
  {
   "cell_type": "code",
   "execution_count": 41,
   "id": "74272a11-40cb-4f6d-a717-d4e22d8ca0fa",
   "metadata": {},
   "outputs": [
    {
     "data": {
      "text/plain": [
       "[('the', 29),\n",
       " ('to', 4),\n",
       " ('and', 4),\n",
       " ('that', 3),\n",
       " ('found', 3),\n",
       " ('it', 3),\n",
       " ('was', 3),\n",
       " ('they', 2),\n",
       " ('were', 2),\n",
       " (',', 2)]"
      ]
     },
     "execution_count": 41,
     "metadata": {},
     "output_type": "execute_result"
    }
   ],
   "source": [
    "fdist_s_claude.most_common(10)"
   ]
  },
  {
   "cell_type": "code",
   "execution_count": 42,
   "id": "214f16b9-6152-44cc-8fa7-be0cd7f30f72",
   "metadata": {},
   "outputs": [],
   "source": [
    "gpt_count_np = 0\n",
    "gpt_count_s = 0\n",
    "\n",
    "with open(\"np_gpt.txt\") as gpt_np, open(\"s_gpt.txt\") as gpt_s:\n",
    "    for line in gpt_np:\n",
    "        gpt_count_np += 1\n",
    "    for line in gpt_s:\n",
    "        gpt_count_s += 1\n",
    "\n",
    "claude_count_np = 0\n",
    "claude_count_s = 0\n",
    "\n",
    "with open(\"np_claude.txt\") as claude_np, open(\"s_claude.txt\") as claude_s:\n",
    "    for line in claude_np:\n",
    "        claude_count_np += 1 \n",
    "    for line in claude_s:\n",
    "        claude_count_s += 1"
   ]
  },
  {
   "cell_type": "code",
   "execution_count": 43,
   "id": "33d768a7-667b-4dc4-9e62-348c11470d88",
   "metadata": {},
   "outputs": [],
   "source": [
    "from matplotlib import pyplot as plt\n",
    "import numpy as np"
   ]
  },
  {
   "cell_type": "code",
   "execution_count": 44,
   "id": "33bf1452-0227-46da-ad64-63db641069e8",
   "metadata": {},
   "outputs": [
    {
     "data": {
      "image/png": "[encoded data removed]",
      "text/plain": [
       "<Figure size 640x480 with 1 Axes>"
      ]
     },
     "metadata": {},
     "output_type": "display_data"
    }
   ],
   "source": [
    "count_np = {\n",
    "    'chatGPT': gpt_count_np,  \n",
    "    'Claude': claude_count_np \n",
    "}\n",
    "count_s = {\n",
    "    'chatGPT': gpt_count_s,  \n",
    "    'Claude': claude_count_s\n",
    "}\n",
    "\n",
    "LLMs = ['chatGPT', 'Claude']\n",
    "\n",
    "width = 0.6\n",
    "fig, ax = plt.subplots()\n",
    "\n",
    "x = np.arange(len(LLMs))\n",
    "\n",
    "bottom_np = np.zeros(len(LLMs))\n",
    "bottom_s = np.zeros(len(LLMs))\n",
    "\n",
    "for i, (LLM, count) in enumerate(count_np.items()):\n",
    "    bars = ax.bar(x[i], count, width, label='{} NP'.format(LLM))\n",
    "    bottom_np[i] += count\n",
    "    ax.bar_label(bars, label_type='center')\n",
    "\n",
    "for i, (LLM, count) in enumerate(count_s.items()):\n",
    "    bars = ax.bar(x[i], count, width, label='{} S'.format(LLM), bottom=bottom_np[i])\n",
    "    bottom_s[i] += count\n",
    "    ax.bar_label(bars, label_type='center')\n",
    "\n",
    "ax.set_ylabel('Counts')\n",
    "ax.set_title('Counts of NP and S by LLM')\n",
    "ax.set_xticks(x)\n",
    "ax.set_xticklabels(LLMs)\n",
    "ax.legend(bbox_to_anchor=(1.05, 1), loc='upper left')\n",
    "\n",
    "plt.show()"
   ]
  },
  {
   "cell_type": "code",
   "execution_count": 52,
   "id": "c1e7c14a-2c45-4ed0-a7c2-ed9438a948c5",
   "metadata": {
    "scrolled": true
   },
   "outputs": [
    {
     "name": "stdout",
     "output_type": "stream",
     "text": [
      "The employees understood the contract terms\n",
      "The mechanic accepted the car with a grateful smile\n",
      "The old man recalled the nurse who had cared for him during his recovery\n",
      "The traveller heard the clock chiming in the distance\n",
      "The worker maintained the walls with a fresh coat of paint\n",
      "The apprentice forgot the bicycle at the park\n",
      "The committee mentioned the issue during their weekly meeting\n",
      "The army found the supplies hidden in the remote cave\n",
      "The umpire warned the spectators to stop throwing objects onto the field\n",
      "The artist captured the essence of tranquility in his painting\n",
      "The teacher explained the concept clearly and concisely\n",
      "The gardener observed the plants growing beautifully in the morning sun\n",
      "The chef tasted the sauce and immediately added more salt\n",
      "The detective uncovered the clue, leading to a breakthrough in the case\n",
      "The author finished the chapter with a sense of accomplishment\n",
      "The programmer debugged the software successfully\n",
      "The historian researched the era of the Roman Empire\n",
      "The musician composed the melody that would become an instant hit\n",
      "The runner broke the record for the fastest mile\n",
      "The director filmed the scene in one take\n",
      "The student studied the material thoroughly before the exam\n",
      "The doctor reviewed the case thoroughly\n",
      "The builder measured the space accurately\n",
      "The driver followed the route to the new office building\n",
      "The teacher praised the effort of the students\n",
      "The critic reviewed the performance with glowing praise\n",
      "The traveler visited the landmark at sunset\n",
      "The woman noticed the flyer was advertising a sale at the local store\n",
      "The pilot navigated the storm with skill and precision\n",
      "The journalist wrote the article with great care and attention to detail\n",
      "The professor questioned the theory's validity\n",
      "The banker secured the loan with collateral\n",
      "The actor rehearsed the lines perfectly\n",
      "The politician debated the policy with great eloquence\n",
      "The surgeon performed the procedure successfully\n",
      "The architect designed the building to be both visually stunning and structurally sound\n",
      "The dancer practiced the routine until it was flawless\n",
      "The photographer captured the moment perfectly\n",
      "The librarian organized the collection by genre\n",
      "The entrepreneur pitched the idea to potential investors\n",
      "The baker perfected the recipe for chocolate chip cookies\n",
      "The scientist proposed the hypothesis that the Earth is round\n",
      "The counselor advised the student to take more breaks during the day\n",
      "The driver inspected the vehicle thoroughly for any signs of damage\n",
      "The coach developed the strategy for winning the championship\n",
      "The inspector examined the property thoroughly\n",
      "The tourists saw the palace shimmering in the sunlight\n",
      "The priest recognized the guests from his childhood parish\n",
      "The owners insured the house for fire damage\n",
      "The lawyer established the alibi to prove his client's innocence\n"
     ]
    }
   ],
   "source": [
    "def complete_gpt_sentences(prompt, \n",
    "                           model=\"gpt-3.5-turbo\",\n",
    "                           temperature=0.7, \n",
    "                           max_tokens=100, \n",
    "                           stop=[\".\"]):\n",
    "    \n",
    "    user_prompt = f\"Here is the first half of a sentence: '{prompt}'. Complete it with one full sentence that is either a noun phrase or a sentential complement, not both. A sentential complement completion means that the first half of the sentence needs to be followed by a verb that takes a sentential complement. Generate the full sentence only.\"\n",
    "    \n",
    "    messages = [{'role': 'user', 'content': user_prompt}]\n",
    "    response = openai.chat.completions.create(\n",
    "        model=model,\n",
    "        messages=messages,\n",
    "        temperature=temperature,\n",
    "        max_tokens=max_tokens,\n",
    "        stop=stop\n",
    "    )\n",
    "    \n",
    "    return response.choices[0].message.content\n",
    "\n",
    "with open(\"no_cue_prompts.txt\") as prompts_file:\n",
    "    prompts = prompts_file.readlines()\n",
    "\n",
    "    sentences_gpt2 = []\n",
    "    for prompt in prompts:\n",
    "        complete_sentence = complete_gpt_sentences(prompt.strip())\n",
    "        sentences_gpt2.append(complete_sentence)\n",
    "        print(complete_sentence)"
   ]
  },
  {
   "cell_type": "code",
   "execution_count": 53,
   "id": "e4359932-a66a-4a0b-9296-7a6decd69e50",
   "metadata": {},
   "outputs": [],
   "source": [
    "with open('gpt_sentences2.txt', 'w') as f:\n",
    "    for line in sentences_gpt2:\n",
    "        f.write(\"%s\\n\" % line)"
   ]
  },
  {
   "cell_type": "code",
   "execution_count": 56,
   "id": "0bb304c5-50f9-4f6c-bfd0-9ebda1cf6d86",
   "metadata": {},
   "outputs": [],
   "source": [
    "with open (\"gpt_sentences2.txt\") as sentences: \n",
    "    sentences = ',\\n'.join([\n",
    "        f'{{\"sentence\": \"{sentence}\", \"is_NP\": true/false, \"is_S\": true/false}}'\n",
    "        for sentence in sentences\n",
    "    ])\n",
    "\n",
    "system_message = \"\"\"\n",
    "Classify each sentence based on its grammatical structure by determining whether each sentence is a noun phrase (is_NP), \n",
    "or a sentential complement (is_S). \n",
    "A noun phrase acts as the direct object of the main verb, while a sentential complement acts as the embedded subject in an upcoming \n",
    "subordinate clause, introduced by conjunctions like \"that\" and often related to thoughts, speech, perception, or feelings. \n",
    "For example, in \"She said that she was happy,\" \"that she was happy\" is a sentential complement.\n",
    "\n",
    "Please provide your classification for each sentence in the JSON format, marking 'true' for the category that applies and \n",
    "'false' for those that do not. Each sentence should be classified into only one category.\n",
    "Format for classification:\n",
    "\n",
    "{\n",
    "    \"sentences\": [\n",
    "        \"\"\" + sentences + \"\"\"\n",
    "    ]\n",
    "}\n",
    "\"\"\"\n",
    "\n",
    "messages = [\n",
    "    {'role': 'system', 'content': system_message}\n",
    "]\n",
    "\n",
    "response = categorize_sentences(messages)\n",
    "with open(\"gpt_output2.json\", \"w\") as file:\n",
    "    file.write(response)"
   ]
  },
  {
   "cell_type": "code",
   "execution_count": 57,
   "id": "b1e921a2-1e53-44af-88aa-6aa4e2c514ac",
   "metadata": {},
   "outputs": [],
   "source": [
    "with open(\"gpt_output2.json\") as gpt_sentences2:    \n",
    "    data = json.load(gpt_sentences2)\n",
    "    \n",
    "    with open('np_gpt2.txt', 'w') as f: \n",
    "        for sentence in data['sentences']:\n",
    "            is_NP = sentence['is_NP']\n",
    "            if is_NP:\n",
    "                sentences = sentence['sentence'] \n",
    "                f.write(\"%s\\n\" % sentences)\n",
    "                \n",
    "    with open('s_gpt2.txt', 'w') as f: \n",
    "        for sentence in data['sentences']:\n",
    "            is_S = sentence['is_S']\n",
    "            if is_S:\n",
    "                sentences = sentence['sentence'] \n",
    "                f.write(\"%s\\n\" % sentences)"
   ]
  },
  {
   "cell_type": "code",
   "execution_count": 58,
   "id": "be5c8afc-d3ef-4572-9a9c-15e4beefa06b",
   "metadata": {
    "scrolled": true
   },
   "outputs": [
    {
     "name": "stdout",
     "output_type": "stream",
     "text": [
      "The employees understood the contract that the company had presented to them\n",
      "The mechanic accepted the car that was in need of a tune-up\n",
      "The old man recalled the nurse who had cared for him during his illness\n",
      "The traveller heard the clock strike midnight\n",
      "The worker maintained the walls until they were spotless\n",
      "The apprentice forgot the bicycle that he had left at the park\n",
      "The committee mentioned the issue that the project was behind schedule\n",
      "The army found the supplies hidden in the abandoned warehouse\n",
      "The umpire warned the spectators that their behavior was unacceptable\n",
      "The artist captured the essence of the landscape\n",
      "The teacher explained the concept that the students had been struggling with\n",
      "The gardener observed the plants were thriving in the sunlight\n",
      "The chef tasted the sauce and found it to be too salty\n",
      "The detective uncovered the clue that the victim had been murdered the previous night\n",
      "The author finished the chapter after weeks of tireless writing\n",
      "The programmer debugged the software that was causing the system to crash\n",
      "The historian researched the era that had been largely overlooked by previous scholars\n",
      "The musician composed the melody that became a hit song\n",
      "The runner broke the record because the competition was fierce\n",
      "The director filmed the scene where the actors performed their lines with passion\n",
      "The student studied the material because the exam was the next day\n",
      "The doctor reviewed the case and determined that the patient required immediate surgery\n",
      "The builder measured the space to ensure it was large enough for the new appliances\n",
      "The driver followed the route that was marked on the map\n",
      "The teacher praised the effort that the student had put into the assignment\n",
      "The critic reviewed the performance with great enthusiasm\n",
      "The traveler visited the landmark that stood tall and majestic\n",
      "The woman noticed the flyer advertising the upcoming concert\n",
      "The pilot navigated the storm with great skill\n",
      "The journalist wrote the article that revealed the scandal\n",
      "The professor questioned the theory that the experiment had produced unexpected results\n",
      "The banker secured the loan to expand the business\n",
      "The actor rehearsed the lines carefully\n",
      "The politician debated the policy before the audience\n",
      "The surgeon performed the procedure with great skill and precision\n",
      "The architect designed the building to be a modern masterpiece\n",
      "The dancer practiced the routine until the performance\n",
      "The photographer captured the moment when the sun was setting over the horizon\n",
      "The librarian organized the collection to ensure that all the books were properly categorized and easily accessible to the patrons\n",
      "The entrepreneur pitched the idea that it would revolutionize the industry\n",
      "The baker perfected the recipe that had been passed down for generations\n",
      "The scientist proposed the hypothesis that the new experiment would yield unexpected results\n",
      "The counselor advised the student to apply for the scholarship\n",
      "The driver inspected the vehicle and found that the tires were in good condition\n",
      "The coach developed the strategy to win the championship\n",
      "The inspector examined the property and found it to be in excellent condition\n",
      "The tourists saw the palace which was a magnificent structure\n",
      "The priest recognized the guests were seated at the table\n",
      "The owners insured the house because they were concerned about potential damages\n",
      "The lawyer established the alibi was solid\n"
     ]
    }
   ],
   "source": [
    "with open(\"no_cue_prompts.txt\") as prompts_file:\n",
    "    prompts = prompts_file.readlines()   \n",
    "    sentences_claude2 = []\n",
    "    \n",
    "    for prompt in prompts:\n",
    "        complete_sentence = complete_sentences_claude(prompt.strip())\n",
    "        sentences_claude2.append(complete_sentence)\n",
    "        print(complete_sentence)\n",
    "        time.sleep(15)"
   ]
  },
  {
   "cell_type": "code",
   "execution_count": 59,
   "id": "6dfdbf76-ae25-4b61-804b-c381a204d3df",
   "metadata": {},
   "outputs": [],
   "source": [
    "with open('claude_sentences2.txt', 'w') as f:\n",
    "    for line in sentences_claude2:\n",
    "        f.write(\"%s\\n\" % line)"
   ]
  },
  {
   "cell_type": "code",
   "execution_count": 60,
   "id": "eab6489a-b153-44ae-9869-dd4e65ff345b",
   "metadata": {},
   "outputs": [],
   "source": [
    "def categorize_claude_sentences():\n",
    "    message = anthropic.Anthropic().messages.create(\n",
    "        model=\"claude-3-haiku-20240307\",\n",
    "        temperature=0,\n",
    "        max_tokens=3000,\n",
    "        stop_sequences=[\".\"],\n",
    "        messages=[\n",
    "            {\"role\": \"user\", \n",
    "             \"content\": system_message}\n",
    "        ]\n",
    "    )\n",
    "    return message.content[0].text\n",
    "\n",
    "with open (\"claude_sentences2.txt\") as sentences: \n",
    "    sentences = ',\\n'.join([\n",
    "        f'{{\"sentence\": \"{sentence}\", \"is_NP\": true/false, \"is_S\": true/false}}'\n",
    "        for sentence in sentences\n",
    "    ])\n",
    "\n",
    "system_message = \"\"\"\n",
    "You will be provided with a list of sentences.\n",
    "For each sentence, classify whether it is a noun phrase (is_NP) or a sentential complement (is_S).\n",
    "NP acts as the direct object of the main verb, while S acts as the embedded subject in an upcoming subordinate clause.\n",
    "Provide the output in JSON format with the following structure:\n",
    "\n",
    "{\n",
    "    \"sentences\": [\n",
    "        \"\"\" + sentences + \"\"\"\n",
    "    ]\n",
    "}\n",
    "\"\"\"\n",
    "\n",
    "response = categorize_claude_sentences()\n",
    "with open(\"claude_output2.json\", \"w\") as file:\n",
    "    file.write(response)"
   ]
  },
  {
   "cell_type": "code",
   "execution_count": 61,
   "id": "28a40f4c-49cc-4ae5-bb48-0c69d69d6143",
   "metadata": {},
   "outputs": [],
   "source": [
    "with open(\"claude_output2.json\") as claude_sentences2:    \n",
    "    data = json.load(claude_sentences2)\n",
    "    \n",
    "    with open('np_claude2.txt', 'w') as f: \n",
    "        for sentence in data['sentences']:\n",
    "            is_NP = sentence['is_NP']\n",
    "            if is_NP:\n",
    "                sentences = sentence['sentence'] \n",
    "                f.write(\"%s\\n\" % sentences)\n",
    "                \n",
    "    with open('s_claude2.txt', 'w') as f: \n",
    "        for sentence in data['sentences']:\n",
    "            is_S = sentence['is_S']\n",
    "            if is_S:\n",
    "                sentences = sentence['sentence'] \n",
    "                f.write(\"%s\\n\" % sentences)"
   ]
  },
  {
   "cell_type": "code",
   "execution_count": 62,
   "id": "64055adf-7a03-46c3-9040-9363d07d4c2f",
   "metadata": {},
   "outputs": [],
   "source": [
    "gpt_count_np2 = 0\n",
    "gpt_count_s2 = 0\n",
    "\n",
    "with open(\"np_gpt2.txt\") as gpt_np2, open(\"s_gpt2.txt\") as gpt_s2:\n",
    "    for line in gpt_np2:\n",
    "        gpt_count_np2 += 1\n",
    "    for line in gpt_s2:\n",
    "        gpt_count_s2 += 1\n",
    "\n",
    "claude_count_np2 = 0\n",
    "claude_count_s2 = 0\n",
    "\n",
    "with open(\"np_claude2.txt\") as claude_np2, open(\"s_claude2.txt\") as claude_s2:\n",
    "    for line in claude_np2:\n",
    "        claude_count_np2 += 1 \n",
    "    for line in claude_s2:\n",
    "        claude_count_s2 += 1"
   ]
  },
  {
   "cell_type": "code",
   "execution_count": 63,
   "id": "9bad376e-6505-4f78-92c2-1f1773d7569d",
   "metadata": {},
   "outputs": [
    {
     "data": {
      "image/png": "[encoded data removed]",
      "text/plain": [
       "<Figure size 640x480 with 1 Axes>"
      ]
     },
     "metadata": {},
     "output_type": "display_data"
    }
   ],
   "source": [
    "count_np2 = {\n",
    "    'chatGPT': gpt_count_np2,  \n",
    "    'Claude': claude_count_np2\n",
    "}\n",
    "count_s2 = {\n",
    "    'chatGPT': gpt_count_s2,  \n",
    "    'Claude': claude_count_s2\n",
    "}\n",
    "\n",
    "LLMs = ['chatGPT', 'Claude']\n",
    "\n",
    "width = 0.6\n",
    "fig, ax = plt.subplots()\n",
    "\n",
    "x = np.arange(len(LLMs))\n",
    "\n",
    "bottom_np = np.zeros(len(LLMs))\n",
    "bottom_s = np.zeros(len(LLMs))\n",
    "\n",
    "for i, (LLM, count) in enumerate(count_np2.items()):\n",
    "    bars = ax.bar(x[i], count, width, label='{} NP'.format(LLM))\n",
    "    bottom_np[i] += count\n",
    "    ax.bar_label(bars, label_type='center')\n",
    "\n",
    "for i, (LLM, count) in enumerate(count_s2.items()):\n",
    "    bars = ax.bar(x[i], count, width, label='{} S'.format(LLM), bottom=bottom_np[i])\n",
    "    bottom_s[i] += count\n",
    "    ax.bar_label(bars, label_type='center')\n",
    "\n",
    "ax.set_ylabel('Counts')\n",
    "ax.set_title('Counts of NP and S by LLM')\n",
    "ax.set_xticks(x)\n",
    "ax.set_xticklabels(LLMs)\n",
    "ax.legend(bbox_to_anchor=(1.05, 1), loc='upper left')\n",
    "\n",
    "plt.show()"
   ]
  },
  {
   "cell_type": "code",
   "execution_count": 68,
   "id": "69fbf066-c759-46ec-9857-747519945026",
   "metadata": {
    "scrolled": true
   },
   "outputs": [
    {
     "name": "stdout",
     "output_type": "stream",
     "text": [
      "The employees understood the contract was written in legal jargon\n",
      "The mechanic accepted the car for repairs\n",
      "The old man recalled the nurse from his time in the hospital\n",
      "The traveller heard the clock ticking in the distance\n",
      "The worker maintained the walls with a fresh coat of paint\n",
      "The apprentice forgot the bicycle at the park\n",
      "The committee mentioned the issue in their monthly report\n",
      "The army found the supplies hidden in the underground bunker\n",
      "\"The umpire warned the spectators to stop throwing objects onto the field\n",
      "The artist captured the essence of love in their painting\n",
      "The teacher explained the concept in great detail\n",
      "The gardener observed the plants withering in the harsh sunlight\n",
      "The chef tasted the sauce and immediately knew it needed more salt\n",
      "The detective uncovered the clue that led to the suspect's arrest\n",
      "The author finished the chapter and celebrated with a glass of wine\n",
      "The programmer debugged the software successfully\n",
      "The historian researched the era's impact on modern society\n",
      "The musician composed the melody with a hauntingly beautiful piano accompaniment\n",
      "The runner broke the record for the fastest mile time\n",
      "The director filmed the scene in one take\n",
      "The student studied the material thoroughly\n",
      "The doctor reviewed the case thoroughly before making a diagnosis\n",
      "The builder measured the space with a tape measure\n",
      "The driver followed the route to the new restaurant\n",
      "The teacher praised the effort put into the project\n",
      "The critic reviewed the performance and found it to be exceptional\n",
      "The traveler visited the landmark located in the heart of the city\n",
      "The woman noticed the flyer was for a local yoga studio\n",
      "The pilot navigated the storm with skill and precision\n",
      "The journalist wrote the article that exposed government corruption\n",
      "The professor questioned the theory's validity\n",
      "The banker secured the loan approval\n",
      "The actor rehearsed the lines with intense focus and dedication\n",
      "The politician debated the policy for over two hours\n",
      "The surgeon performed the procedure flawlessly\n",
      "The architect designed the building with sustainability in mind\n",
      "The dancer practiced the routine diligently for hours\n",
      "The photographer captured the moment perfectly\n",
      "The librarian organized the collection by genre\n",
      "The entrepreneur pitched the idea to potential investors\n",
      "The baker perfected the recipe for his famous chocolate cake\n",
      "The scientist proposed the hypothesis that climate change is caused by human activity\n",
      "The counselor advised the student to consider all of their options before making a decision\n",
      "The driver inspected the vehicle for any signs of damage\n",
      "The coach developed the strategy that would lead the team to victory\n",
      "The inspector examined the property thoroughly for any signs of damage\n",
      "The tourists saw the palace shimmering in the sunlight\n",
      "The priest recognized the guests with a warm smile\n",
      "The owners insured the house against fire damage\n",
      "The lawyer established the alibi to prove his client's innocence\n"
     ]
    }
   ],
   "source": [
    "with open(\"no_cue_prompts.txt\") as prompts_file:\n",
    "    prompts = prompts_file.readlines()\n",
    "\n",
    "    sentences_gpt3 = []\n",
    "    for prompt in prompts:\n",
    "        complete_sentence = complete_gpt_sentences(prompt.strip())\n",
    "        sentences_gpt3.append(complete_sentence)\n",
    "        print(complete_sentence)"
   ]
  },
  {
   "cell_type": "code",
   "execution_count": 69,
   "id": "c2888c55-e53f-4048-afee-b97661ea40dc",
   "metadata": {},
   "outputs": [],
   "source": [
    "with open('gpt_sentences3.txt', 'w') as f:\n",
    "    for line in sentences_gpt3:\n",
    "        f.write(\"%s\\n\" % line)"
   ]
  },
  {
   "cell_type": "code",
   "execution_count": 70,
   "id": "e99ccced-2e1f-4da4-ae50-0f51e63405fb",
   "metadata": {},
   "outputs": [],
   "source": [
    "with open (\"gpt_sentences3.txt\") as sentences: \n",
    "    sentences = ',\\n'.join([\n",
    "        f'{{\"sentence\": \"{sentence}\", \"is_NP\": true/false, \"is_S\": true/false}}'\n",
    "        for sentence in sentences\n",
    "    ])\n",
    "\n",
    "system_message = \"\"\"\n",
    "Classify each sentence based on its grammatical structure by determining whether each sentence is a noun phrase (is_NP), \n",
    "or a sentential complement (is_S). \n",
    "A noun phrase acts as the direct object of the main verb, while a sentential complement acts as the embedded subject in an upcoming \n",
    "subordinate clause, introduced by conjunctions like \"that\" and often related to thoughts, speech, perception, or feelings. \n",
    "For example, in \"She said that she was happy,\" \"that she was happy\" is a sentential complement.\n",
    "\n",
    "Please provide your classification for each sentence in the JSON format, marking 'true' for the category that applies and \n",
    "'false' for those that do not. Each sentence should be classified into only one category.\n",
    "Format for classification:\n",
    "\n",
    "{\n",
    "    \"sentences\": [\n",
    "        \"\"\" + sentences + \"\"\"\n",
    "    ]\n",
    "}\n",
    "\"\"\"\n",
    "\n",
    "messages = [\n",
    "    {'role': 'system', 'content': system_message}\n",
    "]\n",
    "\n",
    "response = categorize_sentences(messages)\n",
    "with open(\"gpt_output3.json\", \"w\") as file:\n",
    "    file.write(response)"
   ]
  },
  {
   "cell_type": "code",
   "execution_count": 76,
   "id": "e2fbac84-9fd0-4df2-9398-27d1199e79ab",
   "metadata": {},
   "outputs": [],
   "source": [
    "with open(\"gpt_output3.json\") as gpt_sentences3:    \n",
    "    data = json.load(gpt_sentences3)\n",
    "    \n",
    "    with open('np_gpt3.txt', 'w') as f: \n",
    "        for sentence in data['sentences']:\n",
    "            is_NP = sentence['is_NP']\n",
    "            if is_NP:\n",
    "                sentences = sentence['sentence'] \n",
    "                f.write(\"%s\\n\" % sentences)\n",
    "                \n",
    "    with open('s_gpt3.txt', 'w') as f: \n",
    "        for sentence in data['sentences']:\n",
    "            is_S = sentence['is_S']\n",
    "            if is_S:\n",
    "                sentences = sentence['sentence'] \n",
    "                f.write(\"%s\\n\" % sentences)"
   ]
  },
  {
   "cell_type": "code",
   "execution_count": 71,
   "id": "ddf20a18-4d6b-44b1-bac2-29ee2a6a4364",
   "metadata": {
    "scrolled": true
   },
   "outputs": [
    {
     "name": "stdout",
     "output_type": "stream",
     "text": [
      "The employees understood the contract that they had signed last month\n",
      "The mechanic accepted the car because it was in need of repair\n",
      "The old man recalled the nurse that she had been very kind to him during his stay at the hospital\n",
      "The traveller heard the clock strike midnight\n",
      "The worker maintained the walls that were in need of repair\n",
      "The apprentice forgot the bicycle was locked to the post\n",
      "The committee mentioned the issue that the new policy had caused significant controversy\n",
      "The army found the supplies that were hidden in the warehouse\n",
      "The umpire warned the spectators that they should refrain from throwing objects onto the field\n",
      "The artist captured the essence of the landscape\n",
      "The teacher explained the concept that the students had been struggling with\n",
      "The gardener observed the plants were thriving in the warm weather\n",
      "The chef tasted the sauce and found it to be perfectly seasoned\n",
      "The detective uncovered the clue that the suspect had hidden in the bushes\n",
      "The author finished the chapter that was the most challenging to write\n",
      "The programmer debugged the software and found the issue with the code\n",
      "The historian researched the era when the ancient civilization flourished\n",
      "The musician composed the melody that was hauntingly beautiful\n",
      "The runner broke the record because he had been training hard for months\n",
      "The director filmed the scene where the actors performed their lines with passion\n",
      "The student studied the material because it was important for the upcoming exam\n",
      "The doctor reviewed the case that the patient had been experiencing severe headaches for several weeks\n",
      "The builder measured the space to ensure it was large enough for the new appliances\n",
      "The driver followed the route that led to the city\n",
      "The teacher praised the effort that the student had put into the assignment\n",
      "The critic reviewed the performance that was outstanding\n",
      "The traveler visited the landmark that had stood for centuries\n",
      "The woman noticed the flyer advertising the upcoming concert\n",
      "The pilot navigated the storm until the clouds cleared\n",
      "The journalist wrote the article that exposed the corruption in the government\n",
      "The professor questioned the theory that the hypothesis was flawed\n",
      "The banker secured the loan that would provide the necessary funds for the business expansion\n",
      "The actor rehearsed the lines meticulously\n",
      "The politician debated the policy that would have a significant impact on the economy\n",
      "The surgeon performed the procedure with great skill and precision\n",
      "The architect designed the building to be a modern masterpiece\n",
      "The dancer practiced the routine until the performance\n",
      "The photographer captured the moment when the couple exchanged their vows\n",
      "The librarian organized the collection to ensure the books were easily accessible to all patrons\n",
      "The entrepreneur pitched the idea to the investors\n",
      "The baker perfected the recipe to satisfy the customers\n",
      "The scientist proposed the hypothesis that the new treatment could cure the disease\n",
      "The counselor advised the student to apply for the scholarship\n",
      "The driver inspected the vehicle and found that the tires were underinflated\n",
      "The coach developed the strategy to win the championship\n",
      "The inspector examined the property and found it to be in excellent condition\n",
      "The tourists saw the palace that was built in the 18th century\n",
      "The priest recognized the guests who had arrived early for the ceremony\n",
      "The owners insured the house against any potential damage\n",
      "The lawyer established the alibi that the defendant was at home at the time of the crime\n"
     ]
    }
   ],
   "source": [
    "with open(\"no_cue_prompts.txt\") as prompts_file:\n",
    "    prompts = prompts_file.readlines()   \n",
    "    sentences_claude3 = []\n",
    "    \n",
    "    for prompt in prompts:\n",
    "        complete_sentence = complete_sentences_claude(prompt.strip())\n",
    "        sentences_claude3.append(complete_sentence)\n",
    "        print(complete_sentence)\n",
    "        time.sleep(15)"
   ]
  },
  {
   "cell_type": "code",
   "execution_count": 72,
   "id": "7bd711e7-dadd-4991-aed6-dc1fb6010eec",
   "metadata": {},
   "outputs": [],
   "source": [
    "with open('claude_sentences3.txt', 'w') as f:\n",
    "    for line in sentences_claude3:\n",
    "        f.write(\"%s\\n\" % line)"
   ]
  },
  {
   "cell_type": "code",
   "execution_count": 73,
   "id": "f7e23430-a400-4ea8-a331-cc72bd895617",
   "metadata": {},
   "outputs": [],
   "source": [
    "def categorize_claude_sentences():\n",
    "    message = anthropic.Anthropic().messages.create(\n",
    "        model=\"claude-3-haiku-20240307\",\n",
    "        temperature=0,\n",
    "        max_tokens=3000,\n",
    "        stop_sequences=[\".\"],\n",
    "        messages=[\n",
    "            {\"role\": \"user\", \n",
    "             \"content\": system_message}\n",
    "        ]\n",
    "    )\n",
    "    return message.content[0].text\n",
    "\n",
    "with open (\"claude_sentences3.txt\") as sentences: \n",
    "    sentences = ',\\n'.join([\n",
    "        f'{{\"sentence\": \"{sentence}\", \"is_NP\": true/false, \"is_S\": true/false}}'\n",
    "        for sentence in sentences\n",
    "    ])\n",
    "\n",
    "system_message = \"\"\"\n",
    "You will be provided with a list of sentences.\n",
    "For each sentence, classify whether it is a noun phrase (is_NP) or a sentential complement (is_S).\n",
    "NP acts as the direct object of the main verb, while S acts as the embedded subject in an upcoming subordinate clause.\n",
    "Provide the output in JSON format with the following structure:\n",
    "\n",
    "{\n",
    "    \"sentences\": [\n",
    "        \"\"\" + sentences + \"\"\"\n",
    "    ]\n",
    "}\n",
    "\"\"\"\n",
    "\n",
    "response = categorize_claude_sentences()\n",
    "with open(\"claude_output3.json\", \"w\") as file:\n",
    "    file.write(response)"
   ]
  },
  {
   "cell_type": "code",
   "execution_count": 74,
   "id": "6da41a39-4dbd-4bb4-b289-4afc246fc080",
   "metadata": {},
   "outputs": [],
   "source": [
    "with open(\"claude_output3.json\") as claude_sentences2:    \n",
    "    data = json.load(claude_sentences2)\n",
    "    \n",
    "    with open('np_claude3.txt', 'w') as f: \n",
    "        for sentence in data['sentences']:\n",
    "            is_NP = sentence['is_NP']\n",
    "            if is_NP:\n",
    "                sentences = sentence['sentence'] \n",
    "                f.write(\"%s\\n\" % sentences)\n",
    "                \n",
    "    with open('s_claude3.txt', 'w') as f: \n",
    "        for sentence in data['sentences']:\n",
    "            is_S = sentence['is_S']\n",
    "            if is_S:\n",
    "                sentences = sentence['sentence'] \n",
    "                f.write(\"%s\\n\" % sentences)"
   ]
  },
  {
   "cell_type": "code",
   "execution_count": 77,
   "id": "17ed737a-2266-4349-9b08-6b4fc55f0128",
   "metadata": {},
   "outputs": [],
   "source": [
    "gpt_count_np3 = 0\n",
    "gpt_count_s3 = 0\n",
    "\n",
    "with open(\"np_gpt3.txt\") as gpt_np3, open(\"s_gpt3.txt\") as gpt_s3:\n",
    "    for line in gpt_np3:\n",
    "        gpt_count_np3 += 1\n",
    "    for line in gpt_s3:\n",
    "        gpt_count_s3 += 1\n",
    "\n",
    "claude_count_np3 = 0\n",
    "claude_count_s3 = 0\n",
    "\n",
    "with open(\"np_claude3.txt\") as claude_np3, open(\"s_claude3.txt\") as claude_s3:\n",
    "    for line in claude_np3:\n",
    "        claude_count_np3 += 1 \n",
    "    for line in claude_s3:\n",
    "        claude_count_s3 += 1"
   ]
  },
  {
   "cell_type": "code",
   "execution_count": 78,
   "id": "6e5b598c-868e-4361-a66f-d33b4f454e75",
   "metadata": {},
   "outputs": [
    {
     "data": {
      "image/png": "[encoded data removed]",
      "text/plain": [
       "<Figure size 640x480 with 1 Axes>"
      ]
     },
     "metadata": {},
     "output_type": "display_data"
    }
   ],
   "source": [
    "count_np3 = {\n",
    "    'chatGPT': gpt_count_np3,  \n",
    "    'Claude': claude_count_np3\n",
    "}\n",
    "count_s3 = {\n",
    "    'chatGPT': gpt_count_s3,  \n",
    "    'Claude': claude_count_s3\n",
    "}\n",
    "\n",
    "LLMs = ['chatGPT', 'Claude']\n",
    "\n",
    "width = 0.6\n",
    "fig, ax = plt.subplots()\n",
    "\n",
    "x = np.arange(len(LLMs))\n",
    "\n",
    "bottom_np = np.zeros(len(LLMs))\n",
    "bottom_s = np.zeros(len(LLMs))\n",
    "\n",
    "for i, (LLM, count) in enumerate(count_np3.items()):\n",
    "    bars = ax.bar(x[i], count, width, label='{} NP'.format(LLM))\n",
    "    bottom_np[i] += count\n",
    "    ax.bar_label(bars, label_type='center')\n",
    "\n",
    "for i, (LLM, count) in enumerate(count_s3.items()):\n",
    "    bars = ax.bar(x[i], count, width, label='{} S'.format(LLM), bottom=bottom_np[i])\n",
    "    bottom_s[i] += count\n",
    "    ax.bar_label(bars, label_type='center')\n",
    "\n",
    "ax.set_ylabel('Counts')\n",
    "ax.set_title('Counts of NP and S by LLM')\n",
    "ax.set_xticks(x)\n",
    "ax.set_xticklabels(LLMs)\n",
    "ax.legend(bbox_to_anchor=(1.05, 1), loc='upper left')\n",
    "\n",
    "plt.show()"
   ]
  },
  {
   "cell_type": "code",
   "execution_count": null,
   "id": "fd09c520-b346-4910-b00a-295479e93daa",
   "metadata": {},
   "outputs": [],
   "source": []
  }
 ],
 "metadata": {
  "kernelspec": {
   "display_name": "Python 3 (ipykernel)",
   "language": "python",
   "name": "python3"
  },
  "language_info": {
   "codemirror_mode": {
    "name": "ipython",
    "version": 3
   },
   "file_extension": ".py",
   "mimetype": "text/x-python",
   "name": "python",
   "nbconvert_exporter": "python",
   "pygments_lexer": "ipython3",
   "version": "3.11.5"
  }
 },
 "nbformat": 4,
 "nbformat_minor": 5
}
