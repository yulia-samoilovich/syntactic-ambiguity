{
 "cells": [
  {
   "cell_type": "code",
   "execution_count": 12,
   "id": "9fb8b37c",
   "metadata": {},
   "outputs": [],
   "source": [
    "import os\n",
    "import openai"
   ]
  },
  {
   "cell_type": "code",
   "execution_count": 13,
   "id": "2d40ae3d",
   "metadata": {},
   "outputs": [],
   "source": [
    "import tiktoken"
   ]
  },
  {
   "cell_type": "code",
   "execution_count": 14,
   "id": "dbe84d8f",
   "metadata": {},
   "outputs": [],
   "source": [
    "from dotenv import load_dotenv, find_dotenv\n",
    "_ = load_dotenv(find_dotenv())\n",
    "\n",
    "open.api_key = os.environ['OPENAI_API_KEY']"
   ]
  },
  {
   "cell_type": "code",
   "execution_count": 8,
   "id": "be90761f",
   "metadata": {
    "scrolled": true
   },
   "outputs": [
    {
     "name": "stdout",
     "output_type": "stream",
     "text": [
      "No Cue Prompt:The employees knew the contract \n",
      "\n",
      "Generated Text:inside and out, as they had spent hours reviewing and discussing its terms and conditions\n",
      "\n",
      "No Cue Prompt:The mechanic accepted the car \n",
      "\n",
      "Generated Text:into the shop for repairs\n",
      "\n",
      "No Cue Prompt:The old man recalled the nurse\n",
      "\n",
      "Generated Text: who had cared for him during his recent hospital stay\n",
      "\n",
      "No Cue Prompt:The traveller heard the clock \n",
      "\n",
      "Generated Text:ticking in the distance, its steady rhythm echoing through the empty halls of the old mansion\n",
      "\n",
      "No Cue Prompt:The journalist confirmed the story \n",
      "\n",
      "Generated Text:The journalist verified the information in the story\n",
      "\n",
      "No Cue Prompt:The worker maintained the walls\n",
      "\n",
      "Generated Text:by regularly inspecting them for any signs of damage, such as cracks or water leaks, and promptly repairing any issues that were found\n",
      "\n",
      "No Cue Prompt:The apprentice forgot the bicycle \n",
      "\n",
      "Generated Text:at the store where he had borrowed it for a quick errand\n",
      "\n",
      "No Cue Prompt:The committee mentioned the issue\n",
      "\n",
      "Generated Text: at their last meeting and decided to address it in their next agenda\n",
      "\n",
      "No Cue Prompt:The army found the supplies\n",
      "\n",
      "Generated Text: they had been searching for in a hidden bunker deep in the forest\n",
      "\n",
      "No Cue Prompt:The umpire warned the spectators\n",
      "\n",
      "Generated Text:to refrain from making any disruptive or disrespectful comments towards the players on the field\n",
      "\n",
      "No Cue Prompt:The coach discovered the player\n",
      "\n",
      "Generated Text:during a local soccer match\n",
      "\n",
      "No Cue Prompt:The woman noticed the flyer\n",
      "\n",
      "Generated Text: on the bulletin board as she walked by\n",
      "\n",
      "No Cue Prompt:The tourists saw the palace \n",
      "\n",
      "Generated Text:and were amazed by its grandeur and beauty\n",
      "\n",
      "No Cue Prompt:The scientists proved the theory\n",
      "\n",
      "Generated Text: through a series of rigorous experiments and observations, providing concrete evidence to support their hypothesis\n",
      "\n",
      "No Cue Prompt:The soldiers remembered the town \n",
      "\n",
      "Generated Text:they had passed through on their way to battle\n",
      "\n",
      "No Cue Prompt:The priest recognized two guests \n",
      "\n",
      "Generated Text:who had just entered the church\n",
      "\n",
      "No Cue Prompt:The reporter revealed the politician \n",
      "\n",
      "Generated Text:'s involvement in a corruption scandal, detailing how he had accepted bribes in exchange for political favors\n",
      "\n",
      "No Cue Prompt:The owners insured the house\n",
      "\n",
      "Generated Text: against fire, theft, and other potential damages\n",
      "\n",
      "No Cue Prompt:The lawyer established the alibi \n",
      "\n",
      "Generated Text:for her client by presenting evidence that he was out of town at the time of the crime\n",
      "\n",
      "No Cue Prompt:The store guaranteed the television\n",
      "Generated Text: for one year against any defects or malfunctions\n",
      "\n"
     ]
    }
   ],
   "source": [
    "def complete_prompt(prompt, model=\"gpt-3.5-turbo\"):\n",
    "    messages = [{\"role\": \"user\", \"content\": prompt}]\n",
    "    response = openai.chat.completions.create(\n",
    "        model=model,\n",
    "        messages=messages,\n",
    "        temperature=0.5,\n",
    "        max_tokens=60,\n",
    "        stop=[\".\"],\n",
    "    )\n",
    "    return response.choices[0].message.content\n",
    "\n",
    "with open(\"dataset.txt\") as phrases_file, open(\"no_cue_prompts.txt\") as prompts_file:\n",
    "    phrases = phrases_file.readlines()\n",
    "    prompts = prompts_file.readlines()\n",
    "    complete_sentences = []\n",
    "        \n",
    "    for prompt in prompts: \n",
    "        generated_text = complete_prompt(prompt)\n",
    "        complete_sentences.append(prompt + generated_text)\n",
    "        print(f\"No Cue Prompt:{prompt}\")\n",
    "        print(f\"Generated Text:{generated_text}\\n\")"
   ]
  },
  {
   "cell_type": "code",
   "execution_count": 59,
   "id": "a98324a3",
   "metadata": {},
   "outputs": [],
   "source": [
    "import nltk\n",
    "from nltk import FreqDist\n",
    "from nltk.tokenize import word_tokenize\n",
    "import re"
   ]
  },
  {
   "cell_type": "code",
   "execution_count": 156,
   "id": "2fddf51f",
   "metadata": {},
   "outputs": [],
   "source": [
    "with open (\"np.txt\") as np_sentences, open (\"s.txt\") as s_sentences:\n",
    "    np_sentences = np_sentences.read().lower()\n",
    "    s_sentences = s_sentences.read().lower()\n",
    "    \n",
    "    np_tokens = nltk.word_tokenize(np_sentences)\n",
    "    fdist_np = FreqDist(np_tokens)\n",
    "    re_pattern = r'\\w+'\n",
    "    np_clean = []\n",
    "    \n",
    "    s_tokens = nltk.word_tokenize(s_sentences)\n",
    "    fdist_s = FreqDist(s_tokens)\n",
    "    re_pattern = r'\\w+'\n",
    "    s_clean = []\n",
    "    \n",
    "    for word in np_tokens:\n",
    "        if re.match(re_pattern, word):\n",
    "            np_clean.append(word)\n",
    "            \n",
    "    for word in s_tokens:\n",
    "        if re.match(re_pattern, word):\n",
    "            s_clean.append(word)"
   ]
  },
  {
   "cell_type": "code",
   "execution_count": 157,
   "id": "231a0f61",
   "metadata": {},
   "outputs": [
    {
     "name": "stdout",
     "output_type": "stream",
     "text": [
      "['the', 'old', 'man', 'recalled', 'the', 'nurse', 'who', 'had', 'cared', 'for', 'him', 'during', 'his', 'recovery', 'at', 'the', 'hospital', 'the', 'worker', 'maintained', 'the', 'walls', 'by', 'regularly', 'inspecting', 'for', 'cracks', 'or', 'damage', 'patching', 'up', 'any', 'areas', 'that', 'needed', 'repair', 'and', 'repainting', 'or', 'sealing', 'as', 'necessary', 'the', 'apprentice', 'forgot', 'the', 'bicycle', 'at', 'the', 'shop', 'and', 'had', 'to', 'walk', 'home', 'instead', 'the', 'army', 'found', 'the', 'supplies', 'they', 'had', 'been', 'searching', 'for', 'in', 'a', 'hidden', 'bunker', 'deep', 'in', 'the', 'forest', 'the', 'umpire', 'warned', 'the', 'spectators', 'to', 'refrain', 'from', 'using', 'any', 'inappropriate', 'language', 'or', 'behavior', 'during', 'the', 'game', 'the', 'tourists', 'saw', 'the', 'palace', 'and', 'were', 'amazed', 'by', 'its', 'grandeur', 'and', 'beauty', 'the', 'scientists', 'proved', 'the', 'theory', 'through', 'extensive', 'research', 'and', 'experimentation', 'the', 'priest', 'recognized', 'two', 'guests', 'who', 'had', 'been', 'coming', 'to', 'the', 'church', 'for', 'years', 'the', 'reporter', 'exposed', 'the', 'politician', 'involvement', 'in', 'a', 'corruption', 'scandal', 'the', 'owners', 'insured', 'the', 'house', 'against', 'fire', 'theft', 'and', 'other', 'potential', 'damages', 'the', 'lawyer', 'established', 'the', 'alibi', 'for', 'his', 'client', 'by', 'providing', 'evidence', 'and', 'witnesses', 'to', 'prove', 'that', 'the', 'client', 'was', 'elsewhere', 'at', 'the', 'time', 'of', 'the', 'crime', 'the', 'store', 'guaranteed', 'the', 'television', 'for', 'one', 'year', 'against', 'any', 'defects', 'or', 'malfunctions', 'the', 'woman', 'noticed', 'the', 'flyer', 'taped', 'to', 'the', 'lamppost', 'as', 'she', 'walked', 'down', 'the', 'street', 'the', 'coach', 'discovered', 'the', 'player', 'during', 'a', 'local', 'soccer', 'match', 'the', 'journalist', 'verified', 'the', 'accuracy', 'of', 'the', 'story']\n"
     ]
    }
   ],
   "source": [
    "print(np_clean)"
   ]
  },
  {
   "cell_type": "code",
   "execution_count": 158,
   "id": "f9296206",
   "metadata": {},
   "outputs": [
    {
     "name": "stdout",
     "output_type": "stream",
     "text": [
      "222\n"
     ]
    }
   ],
   "source": [
    "print(len(np_clean))"
   ]
  },
  {
   "cell_type": "code",
   "execution_count": 159,
   "id": "54c3f3ac",
   "metadata": {},
   "outputs": [
    {
     "name": "stdout",
     "output_type": "stream",
     "text": [
      "['the', 'employees', 'knew', 'the', 'contract', 'inside', 'and', 'out', 'as', 'they', 'had', 'spent', 'weeks', 'studying', 'and', 'reviewing', 'its', 'contents', 'the', 'mechanic', 'accepted', 'the', 'car', 'into', 'the', 'shop', 'for', 'repairs', 'the', 'traveller', 'heard', 'the', 'clock', 'ticking', 'in', 'the', 'distance', 'its', 'steady', 'rhythm', 'echoing', 'through', 'the', 'empty', 'streets', 'the', 'committee', 'mentioned', 'the', 'issue', 'the', 'committee', 'mentioned', 'the', 'issue', 'of', 'declining', 'attendance', 'at', 'community', 'events', 'and', 'discussed', 'potential', 'strategies', 'to', 'increase', 'participation', 'the', 'soldiers', 'remembered', 'the', 'town', 'they', 'had', 'liberated', 'just', 'a', 'few', 'days', 'before']\n"
     ]
    }
   ],
   "source": [
    "print(s_clean)"
   ]
  },
  {
   "cell_type": "code",
   "execution_count": 160,
   "id": "41402e6d",
   "metadata": {},
   "outputs": [
    {
     "name": "stdout",
     "output_type": "stream",
     "text": [
      "81\n"
     ]
    }
   ],
   "source": [
    "print(len(s_clean))"
   ]
  },
  {
   "cell_type": "code",
   "execution_count": 165,
   "id": "89add7dd",
   "metadata": {},
   "outputs": [
    {
     "data": {
      "text/plain": [
       "[('the', 40),\n",
       " ('and', 7),\n",
       " ('for', 6),\n",
       " ('to', 5),\n",
       " ('had', 4),\n",
       " ('or', 4),\n",
       " ('during', 3),\n",
       " ('at', 3),\n",
       " ('by', 3),\n",
       " ('any', 3)]"
      ]
     },
     "execution_count": 165,
     "metadata": {},
     "output_type": "execute_result"
    }
   ],
   "source": [
    "fdist_np = FreqDist(np_clean)\n",
    "fdist_np.most_common(10)"
   ]
  },
  {
   "cell_type": "code",
   "execution_count": 166,
   "id": "5745ca13",
   "metadata": {},
   "outputs": [
    {
     "data": {
      "text/plain": [
       "[('the', 15),\n",
       " ('and', 3),\n",
       " ('they', 2),\n",
       " ('had', 2),\n",
       " ('its', 2),\n",
       " ('committee', 2),\n",
       " ('mentioned', 2),\n",
       " ('issue', 2),\n",
       " ('employees', 1),\n",
       " ('knew', 1)]"
      ]
     },
     "execution_count": 166,
     "metadata": {},
     "output_type": "execute_result"
    }
   ],
   "source": [
    "fdist_s = FreqDist(s_clean)\n",
    "fdist_s.most_common(10)"
   ]
  },
  {
   "cell_type": "code",
   "execution_count": 9,
   "id": "4138cd66",
   "metadata": {
    "scrolled": true
   },
   "outputs": [
    {
     "data": {
      "text/plain": [
       "['The employees knew the contract \\ninside and out, as they had spent hours reviewing and discussing its terms and conditions',\n",
       " 'The mechanic accepted the car \\ninto the shop for repairs',\n",
       " 'The old man recalled the nurse\\n who had cared for him during his recent hospital stay',\n",
       " 'The traveller heard the clock \\nticking in the distance, its steady rhythm echoing through the empty halls of the old mansion',\n",
       " 'The journalist confirmed the story \\nThe journalist verified the information in the story',\n",
       " 'The worker maintained the walls\\nby regularly inspecting them for any signs of damage, such as cracks or water leaks, and promptly repairing any issues that were found',\n",
       " 'The apprentice forgot the bicycle \\nat the store where he had borrowed it for a quick errand',\n",
       " 'The committee mentioned the issue\\n at their last meeting and decided to address it in their next agenda',\n",
       " 'The army found the supplies\\n they had been searching for in a hidden bunker deep in the forest',\n",
       " 'The umpire warned the spectators\\nto refrain from making any disruptive or disrespectful comments towards the players on the field',\n",
       " 'The coach discovered the player\\nduring a local soccer match',\n",
       " 'The woman noticed the flyer\\n on the bulletin board as she walked by',\n",
       " 'The tourists saw the palace \\nand were amazed by its grandeur and beauty',\n",
       " 'The scientists proved the theory\\n through a series of rigorous experiments and observations, providing concrete evidence to support their hypothesis',\n",
       " 'The soldiers remembered the town \\nthey had passed through on their way to battle',\n",
       " 'The priest recognized two guests \\nwho had just entered the church',\n",
       " \"The reporter revealed the politician \\n's involvement in a corruption scandal, detailing how he had accepted bribes in exchange for political favors\",\n",
       " 'The owners insured the house\\n against fire, theft, and other potential damages',\n",
       " 'The lawyer established the alibi \\nfor her client by presenting evidence that he was out of town at the time of the crime',\n",
       " 'The store guaranteed the television for one year against any defects or malfunctions']"
      ]
     },
     "execution_count": 9,
     "metadata": {},
     "output_type": "execute_result"
    }
   ],
   "source": [
    "complete_sentences"
   ]
  },
  {
   "cell_type": "code",
   "execution_count": 10,
   "id": "04e8efe1",
   "metadata": {
    "scrolled": true
   },
   "outputs": [
    {
     "data": {
      "text/plain": [
       "['The employees knew the contract inside and out, as they had spent hours reviewing and discussing its terms and conditions',\n",
       " 'The mechanic accepted the car into the shop for repairs',\n",
       " 'The old man recalled the nurse who had cared for him during his recent hospital stay',\n",
       " 'The traveller heard the clock ticking in the distance, its steady rhythm echoing through the empty halls of the old mansion',\n",
       " 'The journalist confirmed the story The journalist verified the information in the story',\n",
       " 'The worker maintained the wallsby regularly inspecting them for any signs of damage, such as cracks or water leaks, and promptly repairing any issues that were found',\n",
       " 'The apprentice forgot the bicycle at the store where he had borrowed it for a quick errand',\n",
       " 'The committee mentioned the issue at their last meeting and decided to address it in their next agenda',\n",
       " 'The army found the supplies they had been searching for in a hidden bunker deep in the forest',\n",
       " 'The umpire warned the spectatorsto refrain from making any disruptive or disrespectful comments towards the players on the field',\n",
       " 'The coach discovered the playerduring a local soccer match',\n",
       " 'The woman noticed the flyer on the bulletin board as she walked by',\n",
       " 'The tourists saw the palace and were amazed by its grandeur and beauty',\n",
       " 'The scientists proved the theory through a series of rigorous experiments and observations, providing concrete evidence to support their hypothesis',\n",
       " 'The soldiers remembered the town they had passed through on their way to battle',\n",
       " 'The priest recognized two guests who had just entered the church',\n",
       " \"The reporter revealed the politician 's involvement in a corruption scandal, detailing how he had accepted bribes in exchange for political favors\",\n",
       " 'The owners insured the house against fire, theft, and other potential damages',\n",
       " 'The lawyer established the alibi for her client by presenting evidence that he was out of town at the time of the crime',\n",
       " 'The store guaranteed the television for one year against any defects or malfunctions']"
      ]
     },
     "execution_count": 10,
     "metadata": {},
     "output_type": "execute_result"
    }
   ],
   "source": [
    "cleaned_sentences = [sentence.replace('\\n', '') for sentence in complete_sentences]\n",
    "cleaned_sentences"
   ]
  },
  {
   "cell_type": "code",
   "execution_count": 11,
   "id": "e353f3f4",
   "metadata": {},
   "outputs": [],
   "source": [
    "def categorize_sentences(messages,\n",
    "                model=\"gpt-3.5-turbo\",\n",
    "                temperature=0,\n",
    "                max_tokens=750):\n",
    "    response = openai.chat.completions.create(\n",
    "        model=model,\n",
    "        messages=messages,\n",
    "        temperature=temperature,\n",
    "        max_tokens=max_tokens,\n",
    "    )\n",
    "    return response.choices[0].message.content"
   ]
  },
  {
   "cell_type": "code",
   "execution_count": 12,
   "id": "359bd3c6",
   "metadata": {},
   "outputs": [],
   "source": [
    "sentences = ',\\n'.join([\n",
    "    f'{{\"sentence\": \"{sentence}\", \"is_NP\": true/false, \"is_S\": true/false}}'\n",
    "    for sentence in cleaned_sentences\n",
    "])\n",
    "\n",
    "system_message = \"\"\"\n",
    "You will be provided with a list of sentences.\n",
    "For each sentence, classify whether it is a noun phrase (NP) or a sentential complement (S).\n",
    "NP acts as the direct object of the main verb, while S acts as the embedded subject in an upcoming subordinate clause.\n",
    "Provide the output in JSON format with the following structure:\n",
    "\n",
    "{\n",
    "    \"sentences\": [\n",
    "        \"\"\" + sentences + \"\"\"\n",
    "    ]\n",
    "}\n",
    "\"\"\"\n",
    "\n",
    "messages = [\n",
    "    {'role': 'system', 'content': system_message}\n",
    "]\n",
    "\n",
    "response = categorize_sentences(messages)\n",
    "with open(\"output.json\", \"w\") as file:\n",
    "    file.write(response)"
   ]
  },
  {
   "cell_type": "code",
   "execution_count": 13,
   "id": "4e516392",
   "metadata": {
    "scrolled": true
   },
   "outputs": [
    {
     "name": "stdout",
     "output_type": "stream",
     "text": [
      "{\n",
      "    \"sentences\": [\n",
      "        {\"sentence\": \"The employees knew the contract inside and out, as they had spent hours reviewing and discussing its terms and conditions\", \"is_NP\": false, \"is_S\": true},\n",
      "        {\"sentence\": \"The mechanic accepted the car into the shop for repairs\", \"is_NP\": true, \"is_S\": false},\n",
      "        {\"sentence\": \"The old man recalled the nurse who had cared for him during his recent hospital stay\", \"is_NP\": true, \"is_S\": false},\n",
      "        {\"sentence\": \"The traveller heard the clock ticking in the distance, its steady rhythm echoing through the empty halls of the old mansion\", \"is_NP\": false, \"is_S\": true},\n",
      "        {\"sentence\": \"The journalist confirmed the story The journalist verified the information in the story\", \"is_NP\": true, \"is_S\": false},\n",
      "        {\"sentence\": \"The worker maintained the walls by regularly inspecting them for any signs of damage, such as cracks or water leaks, and promptly repairing any issues that were found\", \"is_NP\": true, \"is_S\": false},\n",
      "        {\"sentence\": \"The apprentice forgot the bicycle at the store where he had borrowed it for a quick errand\", \"is_NP\": true, \"is_S\": false},\n",
      "        {\"sentence\": \"The committee mentioned the issue at their last meeting and decided to address it in their next agenda\", \"is_NP\": true, \"is_S\": false},\n",
      "        {\"sentence\": \"The army found the supplies they had been searching for in a hidden bunker deep in the forest\", \"is_NP\": false, \"is_S\": true},\n",
      "        {\"sentence\": \"The umpire warned the spectators to refrain from making any disruptive or disrespectful comments towards the players on the field\", \"is_NP\": true, \"is_S\": false},\n",
      "        {\"sentence\": \"The coach discovered the player during a local soccer match\", \"is_NP\": true, \"is_S\": false},\n",
      "        {\"sentence\": \"The woman noticed the flyer on the bulletin board as she walked by\", \"is_NP\": true, \"is_S\": false},\n",
      "        {\"sentence\": \"The tourists saw the palace and were amazed by its grandeur and beauty\", \"is_NP\": true, \"is_S\": false},\n",
      "        {\"sentence\": \"The scientists proved the theory through a series of rigorous experiments and observations, providing concrete evidence to support their hypothesis\", \"is_NP\": true, \"is_S\": false},\n",
      "        {\"sentence\": \"The soldiers remembered the town they had passed through on their way to battle\", \"is_NP\": true, \"is_S\": false},\n",
      "        {\"sentence\": \"The priest recognized two guests who had just entered the church\", \"is_NP\": true, \"is_S\": false},\n",
      "        {\"sentence\": \"The reporter revealed the politician's involvement in a corruption scandal, detailing how he had accepted bribes in exchange for political favors\", \"is_NP\": false, \"is_S\": true},\n",
      "        {\"sentence\": \"The owners insured the house against fire, theft, and other potential damages\", \"is_NP\": true, \"is_S\": false},\n",
      "        {\"sentence\": \"The lawyer established the alibi for her client by presenting evidence that he was out of town at the time of the crime\", \"is_NP\": true, \"is_S\": false},\n",
      "        {\"sentence\": \"The store guaranteed the television for one year against any defects or malfunctions\", \"is_NP\": true, \"is_S\": false}\n",
      "    ]\n",
      "}\n"
     ]
    }
   ],
   "source": [
    "print(response)"
   ]
  },
  {
   "cell_type": "code",
   "execution_count": 15,
   "id": "ca6c0f03",
   "metadata": {},
   "outputs": [],
   "source": [
    "open.api_key = os.environ['ANTHROPIC_API_KEY']\n",
    "import anthropic"
   ]
  },
  {
   "cell_type": "code",
   "execution_count": 186,
   "id": "1feccf62",
   "metadata": {
    "scrolled": true
   },
   "outputs": [
    {
     "name": "stdout",
     "output_type": "stream",
     "text": [
      "The employees knew the contract was unfair so they organized a walkout to pressure management into negotiating better terms\n",
      "The mechanic accepted the car that needed repairs from the customer in order to diagnose the issues it was having\n",
      "The old man recalled the nurse who had taken care of him when he was hospitalized last year\n",
      "The traveller heard the clock strike midnight as he entered the mysterious old mansion\n",
      "The journalist confirmed the story after speaking to multiple sources and verifying the key details\n",
      "The worker maintained the walls by repairing any cracks that developed over time\n",
      "The apprentice forgot the bicycle when he went to the store to pick up parts for his master\n",
      "The committee mentioned the issue in their report\n",
      "The army found the supplies they had been searching for in an abandoned warehouse on the edge of town\n",
      "The umpire warned the spectators to stop heckling the players or they would be removed from the stadium\n",
      "The coach discovered the player had been using performance-enhancing drugs and decided to remove him from the team\n",
      "The woman noticed the flyer on the community bulletin board advertising guitar lessons\n",
      "The tourists saw the palace and were impressed by its grand architecture and ornate details\n",
      "The scientists proved the theory correct through extensive experimentation and data analysis\n",
      "The soldiers remembered the town where they had spent their childhood before going off to war\n",
      "The priest recognized two guests who had attended the church service the previous Sunday\n",
      "The reporter revealed the politician's involvement in the corruption scandal\n",
      "The owners insured the house against damage in case of disasters like floods or fires\n",
      "The lawyer established the alibi by presenting security footage that showed his client was across town at the time of the crime\n",
      "The store guaranteed the television would work properly for two years after purchase\n"
     ]
    }
   ],
   "source": [
    "import time\n",
    "\n",
    "def complete_prompt_anthropic(prompt):\n",
    "    message = anthropic.Anthropic().messages.create(\n",
    "        model=\"claude-2.1\",\n",
    "        temperature=0.6,\n",
    "        max_tokens=80,\n",
    "        stop_sequences=[\".\"],\n",
    "        messages=[\n",
    "            {\"role\": \"user\", \n",
    "             \"content\": f\"Complete the following prompt into a full sentence: {prompt}\"}\n",
    "        ]\n",
    "    )\n",
    "    generated_text = message.content[0].text\n",
    "    return generated_text[generated_text.index(\":\") + 1:].strip()\n",
    "\n",
    "with open(\"no_cue_prompts.txt\") as prompts_file:\n",
    "    prompts = prompts_file.readlines()   \n",
    "    complete_sentences_anthropic = []\n",
    "    \n",
    "    for prompt in prompts:\n",
    "        complete_sentence = complete_prompt_anthropic(prompt.strip())\n",
    "        complete_sentences_anthropic.append(complete_sentence)\n",
    "        print(complete_sentence)\n",
    "        time.sleep(10)"
   ]
  },
  {
   "cell_type": "code",
   "execution_count": 191,
   "id": "d0f434fc",
   "metadata": {},
   "outputs": [],
   "source": [
    "with open('complete_sentences_anthropic.txt', 'w') as f:\n",
    "    for line in complete_sentences_anthropic:\n",
    "        f.write(\"%s\\n\" % line)"
   ]
  },
  {
   "cell_type": "code",
   "execution_count": 30,
   "id": "e400045b",
   "metadata": {},
   "outputs": [],
   "source": [
    "def categorize_anthropic_sentences():\n",
    "    message = anthropic.Anthropic().messages.create(\n",
    "        model=\"claude-2.1\",\n",
    "        temperature=0,\n",
    "        max_tokens=900,\n",
    "        stop_sequences=[\".\"],\n",
    "        messages=[\n",
    "            {\"role\": \"user\", \n",
    "             \"content\": system_message}\n",
    "        ]\n",
    "    )\n",
    "    return message.content[0].text\n",
    "\n",
    "with open (\"complete_sentences_anthropic.txt\") as sentences: \n",
    "    sentences = ',\\n'.join([\n",
    "        f'{{\"sentence\": \"{sentence}\", \"is_NP\": true/false, \"is_S\": true/false}}'\n",
    "        for sentence in sentences\n",
    "    ])\n",
    "\n",
    "system_message = \"\"\"\n",
    "You will be provided with a list of sentences.\n",
    "For each sentence, classify whether it is a noun phrase (NP) or a sentential complement (S).\n",
    "NP acts as the direct object of the main verb, while S acts as the embedded subject in an upcoming subordinate clause.\n",
    "Provide the output in JSON format with the following structure:\n",
    "\n",
    "{\n",
    "    \"sentences\": [\n",
    "        \"\"\" + sentences + \"\"\"\n",
    "    ]\n",
    "}\n",
    "\"\"\"\n",
    "\n",
    "response = categorize_anthropic_sentences()\n",
    "with open(\"anthropic_output.json\", \"w\") as file:\n",
    "    file.write(response)"
   ]
  },
  {
   "cell_type": "code",
   "execution_count": 58,
   "id": "a5946a83",
   "metadata": {},
   "outputs": [],
   "source": [
    "with open(\"anthropic_output.json\") as anthropic_sentences:    \n",
    "    data = json.load(anthropic_sentences)\n",
    "    \n",
    "    with open('np_anthropic.txt', 'w') as f: \n",
    "        for sentence in data['sentences']:\n",
    "            is_NP = sentence['is_NP']\n",
    "            if is_NP:\n",
    "                sentences = sentence['sentence'] \n",
    "                f.write(\"%s\\n\" % sentences)\n",
    "                \n",
    "    with open('s_anthropic.txt', 'w') as f: \n",
    "        for sentence in data['sentences']:\n",
    "            is_S = sentence['is_S']\n",
    "            if is_S:\n",
    "                sentences = sentence['sentence'] \n",
    "                f.write(\"%s\\n\" % sentences)"
   ]
  },
  {
   "cell_type": "code",
   "execution_count": 60,
   "id": "1a2fb34b",
   "metadata": {},
   "outputs": [],
   "source": [
    "with open (\"np_anthropic.txt\") as np_sentences, open (\"s_anthropic.txt\") as s_sentences:\n",
    "    anth_np_sentences = np_sentences.read().lower()\n",
    "    anth_s_sentences = s_sentences.read().lower()\n",
    "    \n",
    "    anth_np_tokens = nltk.word_tokenize(anth_np_sentences)\n",
    "    fdist_np_anth = FreqDist(anth_np_tokens)\n",
    "    re_pattern = r'\\w+'\n",
    "    anth_np_clean = []\n",
    "    \n",
    "    anth_s_tokens = nltk.word_tokenize(anth_s_sentences)\n",
    "    fdist_s_anth = FreqDist(anth_s_tokens)\n",
    "    re_pattern = r'\\w+'\n",
    "    anth_s_clean = []\n",
    "    \n",
    "    for word in anth_np_tokens:\n",
    "        if re.match(re_pattern, word):\n",
    "            anth_np_clean.append(word)\n",
    "            \n",
    "    for word in anth_s_tokens:\n",
    "        if re.match(re_pattern, word):\n",
    "            anth_s_clean.append(word)"
   ]
  },
  {
   "cell_type": "code",
   "execution_count": 66,
   "id": "b22224d7",
   "metadata": {},
   "outputs": [
    {
     "name": "stdout",
     "output_type": "stream",
     "text": [
      "204\n"
     ]
    }
   ],
   "source": [
    "print(len(anth_np_clean))"
   ]
  },
  {
   "cell_type": "code",
   "execution_count": 64,
   "id": "1768c14a",
   "metadata": {},
   "outputs": [
    {
     "name": "stdout",
     "output_type": "stream",
     "text": [
      "106\n"
     ]
    }
   ],
   "source": [
    "print(len(anth_s_clean))"
   ]
  },
  {
   "cell_type": "code",
   "execution_count": 67,
   "id": "b925175b",
   "metadata": {},
   "outputs": [
    {
     "data": {
      "text/plain": [
       "[('the', 36),\n",
       " ('to', 5),\n",
       " ('in', 4),\n",
       " ('and', 4),\n",
       " ('was', 3),\n",
       " ('he', 3),\n",
       " ('that', 2),\n",
       " ('old', 2),\n",
       " ('who', 2),\n",
       " ('had', 2)]"
      ]
     },
     "execution_count": 67,
     "metadata": {},
     "output_type": "execute_result"
    }
   ],
   "source": [
    "fdist_np_anth.most_common(10)"
   ]
  },
  {
   "cell_type": "code",
   "execution_count": 68,
   "id": "2b007849",
   "metadata": {},
   "outputs": [
    {
     "data": {
      "text/plain": [
       "[('the', 18),\n",
       " ('they', 3),\n",
       " ('had', 3),\n",
       " ('town', 3),\n",
       " ('to', 3),\n",
       " ('been', 2),\n",
       " ('for', 2),\n",
       " ('of', 2),\n",
       " ('would', 2),\n",
       " ('from', 2)]"
      ]
     },
     "execution_count": 68,
     "metadata": {},
     "output_type": "execute_result"
    }
   ],
   "source": [
    "fdist_s_anth.most_common(10)"
   ]
  },
  {
   "cell_type": "code",
   "execution_count": null,
   "id": "5f664e0c",
   "metadata": {},
   "outputs": [],
   "source": []
  }
 ],
 "metadata": {
  "kernelspec": {
   "display_name": "Python 3 (ipykernel)",
   "language": "python",
   "name": "python3"
  },
  "language_info": {
   "codemirror_mode": {
    "name": "ipython",
    "version": 3
   },
   "file_extension": ".py",
   "mimetype": "text/x-python",
   "name": "python",
   "nbconvert_exporter": "python",
   "pygments_lexer": "ipython3",
   "version": "3.11.5"
  }
 },
 "nbformat": 4,
 "nbformat_minor": 5
}
