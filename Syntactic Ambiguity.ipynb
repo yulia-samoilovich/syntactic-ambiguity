{
 "cells": [
  {
   "cell_type": "code",
   "execution_count": 1,
   "id": "9fb8b37c",
   "metadata": {},
   "outputs": [],
   "source": [
    "import os\n",
    "import openai"
   ]
  },
  {
   "cell_type": "code",
   "execution_count": 2,
   "id": "2d40ae3d",
   "metadata": {},
   "outputs": [],
   "source": [
    "import tiktoken"
   ]
  },
  {
   "cell_type": "code",
   "execution_count": 3,
   "id": "dbe84d8f",
   "metadata": {},
   "outputs": [],
   "source": [
    "from dotenv import load_dotenv, find_dotenv\n",
    "_ = load_dotenv(find_dotenv())\n",
    "\n",
    "open.api_key = os.environ['OPENAI_API_KEY']"
   ]
  },
  {
   "cell_type": "code",
   "execution_count": 5,
   "id": "be90761f",
   "metadata": {},
   "outputs": [
    {
     "name": "stdout",
     "output_type": "stream",
     "text": [
      "No Cue Prompt: The employees knew the contract\n",
      "\n",
      "Generated Text:  inside and out, as they had spent weeks studying and reviewing its contents\n",
      "\n",
      "No Cue Prompt: The mechanic accepted the car\n",
      "\n",
      "Generated Text: into the shop for repairs\n",
      "\n",
      "No Cue Prompt: The old man recalled the nurse\n",
      "\n",
      "Generated Text:  who had cared for him during his recovery at the hospital\n",
      "\n",
      "No Cue Prompt: The traveller heard the clock\n",
      "\n",
      "Generated Text: ticking in the distance, its steady rhythm echoing through the empty streets\n",
      "\n",
      "No Cue Prompt: The journalist confirmed the story\n",
      "\n",
      "Generated Text: The journalist verified the accuracy of the story\n",
      "\n",
      "No Cue Prompt: The worker maintained the walls\n",
      "\n",
      "Generated Text: by regularly inspecting for cracks or damage, patching up any areas that needed repair, and repainting or sealing as necessary\n",
      "\n",
      "No Cue Prompt: The apprentice forgot the bicycle\n",
      "\n",
      "Generated Text: at the shop and had to walk home instead\n",
      "\n",
      "No Cue Prompt: The committee mentioned the issue\n",
      "\n",
      "Generated Text: The committee mentioned the issue of declining attendance at community events and discussed potential strategies to increase participation\n",
      "\n",
      "No Cue Prompt: The army found the supplies\n",
      "\n",
      "Generated Text: they had been searching for in a hidden bunker deep in the forest\n",
      "\n",
      "No Cue Prompt: The umpire warned the spectators\n",
      "\n",
      "Generated Text: to refrain from using any inappropriate language or behavior during the game\n",
      "\n",
      "No Cue Prompt: The coach discovered the player\n",
      "\n",
      "Generated Text: during a local soccer match\n",
      "\n",
      "No Cue Prompt: The woman noticed the flyer\n",
      "\n",
      "Generated Text:  taped to the lamppost as she walked down the street\n",
      "\n",
      "No Cue Prompt: The tourists saw the palace\n",
      "\n",
      "Generated Text: and were amazed by its grandeur and beauty\n",
      "\n",
      "No Cue Prompt: The scientists proved the theory\n",
      "\n",
      "Generated Text:  through extensive research and experimentation\n",
      "\n",
      "No Cue Prompt: The soldiers remembered the town\n",
      "\n",
      "Generated Text:  they had liberated just a few days before\n",
      "\n",
      "No Cue Prompt: The priest recognized two guests\n",
      "\n",
      "Generated Text: who had been coming to the church for years\n",
      "\n",
      "No Cue Prompt: The reporter revealed the politician\n",
      "\n",
      "Generated Text: The reporter exposed the politician's involvement in a corruption scandal\n",
      "\n",
      "No Cue Prompt: The owners insured the house\n",
      "\n",
      "Generated Text: against fire, theft, and other potential damages\n",
      "\n",
      "No Cue Prompt: The lawyer established the alibi\n",
      "\n",
      "Generated Text: for his client by providing evidence and witnesses to prove that the client was elsewhere at the time of the crime\n",
      "\n",
      "No Cue Prompt: The store guaranteed the television\n",
      "Generated Text:  for one year against any defects or malfunctions\n",
      "\n"
     ]
    }
   ],
   "source": [
    "def complete_prompt(prompt, model=\"gpt-3.5-turbo\"):\n",
    "    messages = [{\"role\": \"user\", \"content\": prompt}]\n",
    "    response = openai.chat.completions.create(\n",
    "        model=model,\n",
    "        messages=messages,\n",
    "        temperature=0.6,\n",
    "        max_tokens=60,\n",
    "        stop=[\".\"],\n",
    "    )\n",
    "    return response.choices[0].message.content\n",
    "\n",
    "with open(\"dataset.txt\") as phrases_file, open(\"no_cue_prompts.txt\") as prompts_file:\n",
    "    phrases = phrases_file.readlines()\n",
    "    prompts = prompts_file.readlines()\n",
    "        \n",
    "    for prompt in prompts: \n",
    "        generated_text = complete_prompt(prompt)\n",
    "        print(f\"No Cue Prompt: {prompt}\")\n",
    "        print(f\"Generated Text: {generated_text}\\n\")"
   ]
  },
  {
   "cell_type": "code",
   "execution_count": null,
   "id": "64aa78ee",
   "metadata": {},
   "outputs": [],
   "source": []
  }
 ],
 "metadata": {
  "kernelspec": {
   "display_name": "Python 3 (ipykernel)",
   "language": "python",
   "name": "python3"
  },
  "language_info": {
   "codemirror_mode": {
    "name": "ipython",
    "version": 3
   },
   "file_extension": ".py",
   "mimetype": "text/x-python",
   "name": "python",
   "nbconvert_exporter": "python",
   "pygments_lexer": "ipython3",
   "version": "3.11.5"
  }
 },
 "nbformat": 4,
 "nbformat_minor": 5
}
